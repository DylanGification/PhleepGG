{
 "cells": [
  {
   "cell_type": "code",
   "execution_count": 12,
   "metadata": {
    "collapsed": false
   },
   "outputs": [
    {
     "name": "stdout",
     "output_type": "stream",
     "text": [
      "y        x1      x2       x3       x4      x5     x6       x7\n"
     ]
    },
    {
     "ename": "AttributeError",
     "evalue": "'numpy.ndarray' object has no attribute 'x1'",
     "output_type": "error",
     "traceback": [
      "\u001b[0;31m---------------------------------------------------------------------------\u001b[0m",
      "\u001b[0;31mAttributeError\u001b[0m                            Traceback (most recent call last)",
      "\u001b[0;32m<ipython-input-12-841deb394fa4>\u001b[0m in \u001b[0;36m<module>\u001b[0;34m()\u001b[0m\n\u001b[1;32m      2\u001b[0m \u001b[0;32mfrom\u001b[0m \u001b[0msklearn\u001b[0m \u001b[0;32mimport\u001b[0m \u001b[0mlinear_model\u001b[0m\u001b[0;34m\u001b[0m\u001b[0m\n\u001b[1;32m      3\u001b[0m \u001b[0mclf\u001b[0m \u001b[0;34m=\u001b[0m \u001b[0mlinear_model\u001b[0m\u001b[0;34m.\u001b[0m\u001b[0mLinearRegression\u001b[0m\u001b[0;34m(\u001b[0m\u001b[0;34m)\u001b[0m\u001b[0;34m\u001b[0m\u001b[0m\n\u001b[0;32m----> 4\u001b[0;31m clf.fit([[getattr(t, 'x%d' % i) for i in range(1, 8)] for t in data],\n\u001b[0m\u001b[1;32m      5\u001b[0m         [t.y for t in texts])\n",
      "\u001b[0;32m<ipython-input-12-841deb394fa4>\u001b[0m in \u001b[0;36m<listcomp>\u001b[0;34m(.0)\u001b[0m\n\u001b[1;32m      2\u001b[0m \u001b[0;32mfrom\u001b[0m \u001b[0msklearn\u001b[0m \u001b[0;32mimport\u001b[0m \u001b[0mlinear_model\u001b[0m\u001b[0;34m\u001b[0m\u001b[0m\n\u001b[1;32m      3\u001b[0m \u001b[0mclf\u001b[0m \u001b[0;34m=\u001b[0m \u001b[0mlinear_model\u001b[0m\u001b[0;34m.\u001b[0m\u001b[0mLinearRegression\u001b[0m\u001b[0;34m(\u001b[0m\u001b[0;34m)\u001b[0m\u001b[0;34m\u001b[0m\u001b[0m\n\u001b[0;32m----> 4\u001b[0;31m clf.fit([[getattr(t, 'x%d' % i) for i in range(1, 8)] for t in data],\n\u001b[0m\u001b[1;32m      5\u001b[0m         [t.y for t in texts])\n",
      "\u001b[0;32m<ipython-input-12-841deb394fa4>\u001b[0m in \u001b[0;36m<listcomp>\u001b[0;34m(.0)\u001b[0m\n\u001b[1;32m      2\u001b[0m \u001b[0;32mfrom\u001b[0m \u001b[0msklearn\u001b[0m \u001b[0;32mimport\u001b[0m \u001b[0mlinear_model\u001b[0m\u001b[0;34m\u001b[0m\u001b[0m\n\u001b[1;32m      3\u001b[0m \u001b[0mclf\u001b[0m \u001b[0;34m=\u001b[0m \u001b[0mlinear_model\u001b[0m\u001b[0;34m.\u001b[0m\u001b[0mLinearRegression\u001b[0m\u001b[0;34m(\u001b[0m\u001b[0;34m)\u001b[0m\u001b[0;34m\u001b[0m\u001b[0m\n\u001b[0;32m----> 4\u001b[0;31m clf.fit([[getattr(t, 'x%d' % i) for i in range(1, 8)] for t in data],\n\u001b[0m\u001b[1;32m      5\u001b[0m         [t.y for t in texts])\n",
      "\u001b[0;31mAttributeError\u001b[0m: 'numpy.ndarray' object has no attribute 'x1'"
     ]
    }
   ],
   "source": [
    "print ('y        x1      x2       x3       x4      x5     x6       x7')\n",
    "from sklearn import linear_model\n",
    "clf = linear_model.LinearRegression()\n",
    "clf.fit([[getattr(t, 'x%d' % i) for i in range(1, 8)] for t in data],\n",
    "        [t.y for t in texts])"
   ]
  },
  {
   "cell_type": "code",
   "execution_count": 22,
   "metadata": {
    "collapsed": false,
    "scrolled": true
   },
   "outputs": [
    {
     "ename": "AttributeError",
     "evalue": "'str' object has no attribute 'x1'",
     "output_type": "error",
     "traceback": [
      "\u001b[0;31m---------------------------------------------------------------------------\u001b[0m",
      "\u001b[0;31mAttributeError\u001b[0m                            Traceback (most recent call last)",
      "\u001b[0;32m<ipython-input-22-32f8012caa94>\u001b[0m in \u001b[0;36m<module>\u001b[0;34m()\u001b[0m\n\u001b[1;32m      2\u001b[0m \u001b[0;32mfrom\u001b[0m \u001b[0msklearn\u001b[0m \u001b[0;32mimport\u001b[0m \u001b[0mlinear_model\u001b[0m\u001b[0;34m\u001b[0m\u001b[0m\n\u001b[1;32m      3\u001b[0m \u001b[0mclf\u001b[0m \u001b[0;34m=\u001b[0m \u001b[0mlinear_model\u001b[0m\u001b[0;34m.\u001b[0m\u001b[0mLinearRegression\u001b[0m\u001b[0;34m(\u001b[0m\u001b[0;34m)\u001b[0m\u001b[0;34m\u001b[0m\u001b[0m\n\u001b[0;32m----> 4\u001b[0;31m clf.fit([[getattr(t, 'x%d' % i) for i in range(1, 8)] for t in df],\n\u001b[0m\u001b[1;32m      5\u001b[0m         [t.y for t in df])\n",
      "\u001b[0;32m<ipython-input-22-32f8012caa94>\u001b[0m in \u001b[0;36m<listcomp>\u001b[0;34m(.0)\u001b[0m\n\u001b[1;32m      2\u001b[0m \u001b[0;32mfrom\u001b[0m \u001b[0msklearn\u001b[0m \u001b[0;32mimport\u001b[0m \u001b[0mlinear_model\u001b[0m\u001b[0;34m\u001b[0m\u001b[0m\n\u001b[1;32m      3\u001b[0m \u001b[0mclf\u001b[0m \u001b[0;34m=\u001b[0m \u001b[0mlinear_model\u001b[0m\u001b[0;34m.\u001b[0m\u001b[0mLinearRegression\u001b[0m\u001b[0;34m(\u001b[0m\u001b[0;34m)\u001b[0m\u001b[0;34m\u001b[0m\u001b[0m\n\u001b[0;32m----> 4\u001b[0;31m clf.fit([[getattr(t, 'x%d' % i) for i in range(1, 8)] for t in df],\n\u001b[0m\u001b[1;32m      5\u001b[0m         [t.y for t in df])\n",
      "\u001b[0;32m<ipython-input-22-32f8012caa94>\u001b[0m in \u001b[0;36m<listcomp>\u001b[0;34m(.0)\u001b[0m\n\u001b[1;32m      2\u001b[0m \u001b[0;32mfrom\u001b[0m \u001b[0msklearn\u001b[0m \u001b[0;32mimport\u001b[0m \u001b[0mlinear_model\u001b[0m\u001b[0;34m\u001b[0m\u001b[0m\n\u001b[1;32m      3\u001b[0m \u001b[0mclf\u001b[0m \u001b[0;34m=\u001b[0m \u001b[0mlinear_model\u001b[0m\u001b[0;34m.\u001b[0m\u001b[0mLinearRegression\u001b[0m\u001b[0;34m(\u001b[0m\u001b[0;34m)\u001b[0m\u001b[0;34m\u001b[0m\u001b[0m\n\u001b[0;32m----> 4\u001b[0;31m clf.fit([[getattr(t, 'x%d' % i) for i in range(1, 8)] for t in df],\n\u001b[0m\u001b[1;32m      5\u001b[0m         [t.y for t in df])\n",
      "\u001b[0;31mAttributeError\u001b[0m: 'str' object has no attribute 'x1'"
     ]
    }
   ],
   "source": [
    "import csv as csv\n",
    "from sklearn import linear_model\n",
    "clf = linear_model.LinearRegression()\n",
    "clf.fit([[getattr(t, 'x%d' % i) for i in range(1, 8)] for t in df],\n",
    "        [t.y for t in df])"
   ]
  },
  {
   "cell_type": "code",
   "execution_count": 50,
   "metadata": {
    "collapsed": false
   },
   "outputs": [
    {
     "data": {
      "text/html": [
       "<div>\n",
       "<table border=\"1\" class=\"dataframe\">\n",
       "  <thead>\n",
       "    <tr style=\"text-align: right;\">\n",
       "      <th></th>\n",
       "      <th>x1</th>\n",
       "      <th>x2</th>\n",
       "    </tr>\n",
       "  </thead>\n",
       "  <tbody>\n",
       "    <tr>\n",
       "      <th>0</th>\n",
       "      <td>-4.95</td>\n",
       "      <td>-5.87</td>\n",
       "    </tr>\n",
       "    <tr>\n",
       "      <th>1</th>\n",
       "      <td>-4.55</td>\n",
       "      <td>-4.52</td>\n",
       "    </tr>\n",
       "    <tr>\n",
       "      <th>2</th>\n",
       "      <td>-10.96</td>\n",
       "      <td>-11.64</td>\n",
       "    </tr>\n",
       "    <tr>\n",
       "      <th>3</th>\n",
       "      <td>-1.08</td>\n",
       "      <td>-3.36</td>\n",
       "    </tr>\n",
       "    <tr>\n",
       "      <th>4</th>\n",
       "      <td>-6.52</td>\n",
       "      <td>-7.45</td>\n",
       "    </tr>\n",
       "    <tr>\n",
       "      <th>5</th>\n",
       "      <td>-0.81</td>\n",
       "      <td>-2.36</td>\n",
       "    </tr>\n",
       "    <tr>\n",
       "      <th>6</th>\n",
       "      <td>-7.01</td>\n",
       "      <td>-7.33</td>\n",
       "    </tr>\n",
       "    <tr>\n",
       "      <th>7</th>\n",
       "      <td>-4.46</td>\n",
       "      <td>-7.65</td>\n",
       "    </tr>\n",
       "    <tr>\n",
       "      <th>8</th>\n",
       "      <td>-11.54</td>\n",
       "      <td>-10.03</td>\n",
       "    </tr>\n",
       "  </tbody>\n",
       "</table>\n",
       "</div>"
      ],
      "text/plain": [
       "      x1    x2 \n",
       "0  -4.95  -5.87\n",
       "1  -4.55  -4.52\n",
       "2 -10.96 -11.64\n",
       "3  -1.08  -3.36\n",
       "4  -6.52  -7.45\n",
       "5  -0.81  -2.36\n",
       "6  -7.01  -7.33\n",
       "7  -4.46  -7.65\n",
       "8 -11.54 -10.03"
      ]
     },
     "execution_count": 50,
     "metadata": {},
     "output_type": "execute_result"
    }
   ],
   "source": [
    "import pandas as pd\n",
    "\n",
    "df = pd.read_csv(\"texts.csv\")\n",
    "df.iloc[:,1:3]"
   ]
  },
  {
   "cell_type": "code",
   "execution_count": 56,
   "metadata": {
    "collapsed": false
   },
   "outputs": [
    {
     "ename": "TypeError",
     "evalue": "ols() takes 0 positional arguments but 1 was given",
     "output_type": "error",
     "traceback": [
      "\u001b[0;31m---------------------------------------------------------------------------\u001b[0m",
      "\u001b[0;31mTypeError\u001b[0m                                 Traceback (most recent call last)",
      "\u001b[0;32m<ipython-input-56-bb81afc1da1d>\u001b[0m in \u001b[0;36m<module>\u001b[0;34m()\u001b[0m\n\u001b[1;32m      5\u001b[0m \u001b[0;31m#data=df.values\u001b[0m\u001b[0;34m\u001b[0m\u001b[0;34m\u001b[0m\u001b[0m\n\u001b[1;32m      6\u001b[0m \u001b[0mdf\u001b[0m\u001b[0;34m\u001b[0m\u001b[0m\n\u001b[0;32m----> 7\u001b[0;31m \u001b[0mres\u001b[0m \u001b[0;34m=\u001b[0m \u001b[0mols\u001b[0m\u001b[0;34m(\u001b[0m\u001b[0mdf\u001b[0m\u001b[0;34m)\u001b[0m\u001b[0;34m\u001b[0m\u001b[0m\n\u001b[0m",
      "\u001b[0;31mTypeError\u001b[0m: ols() takes 0 positional arguments but 1 was given"
     ]
    }
   ],
   "source": [
    "import pandas as pd\n",
    "\n",
    "df = pd.read_csv(\"texts.csv\")\n",
    "#df=df.transpose\n",
    "#data=df.values\n",
    "df\n",
    "res = ols(df)"
   ]
  },
  {
   "cell_type": "code",
   "execution_count": 55,
   "metadata": {
    "collapsed": false
   },
   "outputs": [
    {
     "name": "stdout",
     "output_type": "stream",
     "text": [
      "Help on function ols in module pandas.stats.interface:\n",
      "\n",
      "ols(**kwargs)\n",
      "    Returns the appropriate OLS object depending on whether you need\n",
      "    simple or panel OLS, and a full-sample or rolling/expanding OLS.\n",
      "    \n",
      "    Will be a normal linear regression or a (pooled) panel regression depending\n",
      "    on the type of the inputs:\n",
      "    \n",
      "    y : Series, x : DataFrame -> OLS\n",
      "    y : Series, x : dict of DataFrame -> OLS\n",
      "    y : DataFrame, x : DataFrame -> PanelOLS\n",
      "    y : DataFrame, x : dict of DataFrame/Panel -> PanelOLS\n",
      "    y : Series with MultiIndex, x : Panel/DataFrame + MultiIndex -> PanelOLS\n",
      "    \n",
      "    Parameters\n",
      "    ----------\n",
      "    y: Series or DataFrame\n",
      "        See above for types\n",
      "    x: Series, DataFrame, dict of Series, dict of DataFrame, Panel\n",
      "    weights : Series or ndarray\n",
      "        The weights are presumed to be (proportional to) the inverse of the\n",
      "        variance of the observations.  That is, if the variables are to be\n",
      "        transformed by 1/sqrt(W) you must supply weights = 1/W\n",
      "    intercept: bool\n",
      "        True if you want an intercept.  Defaults to True.\n",
      "    nw_lags: None or int\n",
      "        Number of Newey-West lags.  Defaults to None.\n",
      "    nw_overlap: bool\n",
      "        Whether there are overlaps in the NW lags.  Defaults to False.\n",
      "    window_type: {'full sample', 'rolling', 'expanding'}\n",
      "        'full sample' by default\n",
      "    window: int\n",
      "        size of window (for rolling/expanding OLS). If window passed and no\n",
      "        explicit window_type, 'rolling\" will be used as the window_type\n",
      "    \n",
      "    Panel OLS options:\n",
      "        pool: bool\n",
      "            Whether to run pooled panel regression.  Defaults to true.\n",
      "        entity_effects: bool\n",
      "            Whether to account for entity fixed effects.  Defaults to false.\n",
      "        time_effects: bool\n",
      "            Whether to account for time fixed effects.  Defaults to false.\n",
      "        x_effects: list\n",
      "            List of x's to account for fixed effects.  Defaults to none.\n",
      "        dropped_dummies: dict\n",
      "            Key is the name of the variable for the fixed effect.\n",
      "            Value is the value of that variable for which we drop the dummy.\n",
      "    \n",
      "            For entity fixed effects, key equals 'entity'.\n",
      "    \n",
      "            By default, the first dummy is dropped if no dummy is specified.\n",
      "        cluster: {'time', 'entity'}\n",
      "            cluster variances\n",
      "    \n",
      "    Examples\n",
      "    --------\n",
      "    # Run simple OLS.\n",
      "    result = ols(y=y, x=x)\n",
      "    \n",
      "    # Run rolling simple OLS with window of size 10.\n",
      "    result = ols(y=y, x=x, window_type='rolling', window=10)\n",
      "    print(result.beta)\n",
      "    \n",
      "    result = ols(y=y, x=x, nw_lags=1)\n",
      "    \n",
      "    # Set up LHS and RHS for data across all items\n",
      "    y = A\n",
      "    x = {'B' : B, 'C' : C}\n",
      "    \n",
      "    # Run panel OLS.\n",
      "    result = ols(y=y, x=x)\n",
      "    \n",
      "    # Run expanding panel OLS with window 10 and entity clustering.\n",
      "    result = ols(y=y, x=x, cluster='entity', window_type='expanding', window=10)\n",
      "    \n",
      "    Returns\n",
      "    -------\n",
      "    The appropriate OLS object, which allows you to obtain betas and various\n",
      "    statistics, such as std err, t-stat, etc.\n",
      "\n"
     ]
    }
   ],
   "source": [
    "help(ols)"
   ]
  },
  {
   "cell_type": "code",
   "execution_count": 3,
   "metadata": {
    "collapsed": false
   },
   "outputs": [
    {
     "ename": "AttributeError",
     "evalue": "'module' object has no attribute 'ols'",
     "output_type": "error",
     "traceback": [
      "\u001b[0;31m---------------------------------------------------------------------------\u001b[0m",
      "\u001b[0;31mAttributeError\u001b[0m                            Traceback (most recent call last)",
      "\u001b[0;32m<ipython-input-3-05852d147cbe>\u001b[0m in \u001b[0;36m<module>\u001b[0;34m()\u001b[0m\n\u001b[1;32m      1\u001b[0m \u001b[0;32mimport\u001b[0m \u001b[0mstatsmodels\u001b[0m \u001b[0;32mas\u001b[0m \u001b[0msm\u001b[0m\u001b[0;34m\u001b[0m\u001b[0m\n\u001b[0;32m----> 2\u001b[0;31m \u001b[0msm\u001b[0m\u001b[0;34m.\u001b[0m\u001b[0mols\u001b[0m\u001b[0;34m\u001b[0m\u001b[0m\n\u001b[0m",
      "\u001b[0;31mAttributeError\u001b[0m: 'module' object has no attribute 'ols'"
     ]
    }
   ],
   "source": [
    "import statsmodels as sm\n",
    "sm.ols"
   ]
  },
  {
   "cell_type": "code",
   "execution_count": 6,
   "metadata": {
    "collapsed": false
   },
   "outputs": [
    {
     "name": "stdout",
     "output_type": "stream",
     "text": [
      "Collecting patsy\n",
      "  Downloading patsy-0.4.1-py2.py3-none-any.whl (233kB)\n",
      "Requirement already satisfied: numpy in /Library/Frameworks/Python.framework/Versions/3.4/lib/python3.4/site-packages (from patsy)\n",
      "Requirement already satisfied: six in /Library/Frameworks/Python.framework/Versions/3.4/lib/python3.4/site-packages (from patsy)\n",
      "Installing collected packages: patsy\n",
      "Successfully installed patsy-0.4.1\n"
     ]
    }
   ],
   "source": [
    "%%bash\n",
    "pip install patsy"
   ]
  },
  {
   "cell_type": "code",
   "execution_count": 8,
   "metadata": {
    "collapsed": false
   },
   "outputs": [
    {
     "name": "stderr",
     "output_type": "stream",
     "text": [
      "C:\\ProgramData\\Anaconda3\\lib\\site-packages\\IPython\\core\\interactiveshell.py:2881: FutureWarning: The pandas.stats.ols module is deprecated and will be removed in a future version. We refer to external packages like statsmodels, see some examples here: http://www.statsmodels.org/stable/regression.html\n",
      "  exec(code_obj, self.user_global_ns, self.user_ns)\n"
     ]
    },
    {
     "data": {
      "text/plain": [
       "\n",
       "-------------------------Summary of Regression Analysis-------------------------\n",
       "\n",
       "Formula: Y ~ <B> + <C> + <intercept>\n",
       "\n",
       "Number of Observations:         5\n",
       "Number of Degrees of Freedom:   3\n",
       "\n",
       "R-squared:         0.5789\n",
       "Adj R-squared:     0.1577\n",
       "\n",
       "Rmse:             14.5108\n",
       "\n",
       "F-stat (2, 2):     1.3746, p-value:     0.4211\n",
       "\n",
       "Degrees of Freedom: model 2, resid 2\n",
       "\n",
       "-----------------------Summary of Estimated Coefficients------------------------\n",
       "      Variable       Coef    Std Err     t-stat    p-value    CI 2.5%   CI 97.5%\n",
       "--------------------------------------------------------------------------------\n",
       "             B     0.4012     0.6497       0.62     0.5999    -0.8723     1.6746\n",
       "             C     0.0004     0.0005       0.65     0.5826    -0.0007     0.0014\n",
       "     intercept    14.9525    17.7643       0.84     0.4886   -19.8655    49.7705\n",
       "---------------------------------End of Summary---------------------------------"
      ]
     },
     "execution_count": 8,
     "metadata": {},
     "output_type": "execute_result"
    }
   ],
   "source": [
    "import pandas as pd\n",
    "from pandas.stats.api import ols\n",
    "df = pd.DataFrame({\"A\": [10,20,30,40,50], \"B\": [20, 30, 10, 40, 50], \"C\": [32, 234, 23, 23, 42523]})\n",
    "res = ols(y=df['A'], x=df[['B','C']])\n",
    "res"
   ]
  },
  {
   "cell_type": "code",
   "execution_count": 1,
   "metadata": {
    "collapsed": false
   },
   "outputs": [
    {
     "ename": "NameError",
     "evalue": "name 'data' is not defined",
     "output_type": "error",
     "traceback": [
      "\u001b[0;31m---------------------------------------------------------------------------\u001b[0m",
      "\u001b[0;31mNameError\u001b[0m                                 Traceback (most recent call last)",
      "\u001b[0;32m<ipython-input-1-ee2d096e6dc8>\u001b[0m in \u001b[0;36m<module>\u001b[0;34m()\u001b[0m\n\u001b[0;32m----> 1\u001b[0;31m \u001b[0moutput\u001b[0m\u001b[1;33m=\u001b[0m\u001b[1;33m[\u001b[0m\u001b[0mx\u001b[0m \u001b[1;32mfor\u001b[0m \u001b[0mx\u001b[0m \u001b[1;32min\u001b[0m \u001b[0mdata\u001b[0m\u001b[1;33m[\u001b[0m\u001b[1;34m'rank'\u001b[0m\u001b[1;33m]\u001b[0m \u001b[1;32mif\u001b[0m \u001b[0mx\u001b[0m \u001b[1;33m<\u001b[0m\u001b[1;36m1E100\u001b[0m\u001b[1;33m]\u001b[0m\u001b[1;33m\u001b[0m\u001b[0m\n\u001b[0m\u001b[1;32m      2\u001b[0m \u001b[0mrankdataA\u001b[0m\u001b[1;33m=\u001b[0m\u001b[1;33m[\u001b[0m\u001b[1;33m[\u001b[0m\u001b[1;36m2\u001b[0m\u001b[1;33m*\u001b[0m\u001b[0mx\u001b[0m\u001b[1;33m,\u001b[0m\u001b[0mx\u001b[0m\u001b[1;33m+\u001b[0m\u001b[1;36m10\u001b[0m\u001b[1;33m]\u001b[0m \u001b[1;32mfor\u001b[0m \u001b[0mx\u001b[0m \u001b[1;32min\u001b[0m \u001b[0mdata\u001b[0m\u001b[1;33m[\u001b[0m\u001b[1;34m'rank'\u001b[0m\u001b[1;33m]\u001b[0m \u001b[1;32mif\u001b[0m \u001b[0mx\u001b[0m \u001b[1;33m<\u001b[0m\u001b[1;36m1E100\u001b[0m\u001b[1;33m]\u001b[0m\u001b[1;33m\u001b[0m\u001b[0m\n\u001b[1;32m      3\u001b[0m \u001b[0mrankdataB\u001b[0m\u001b[1;33m=\u001b[0m\u001b[1;33m[\u001b[0m\u001b[0mx\u001b[0m\u001b[1;33m+\u001b[0m\u001b[1;36m20\u001b[0m \u001b[1;32mfor\u001b[0m \u001b[0mx\u001b[0m \u001b[1;32min\u001b[0m \u001b[0mdata\u001b[0m\u001b[1;33m[\u001b[0m\u001b[1;34m'rank'\u001b[0m\u001b[1;33m]\u001b[0m \u001b[1;32mif\u001b[0m \u001b[0mx\u001b[0m \u001b[1;33m<\u001b[0m\u001b[1;36m1E100\u001b[0m\u001b[1;33m]\u001b[0m\u001b[1;33m\u001b[0m\u001b[0m\n\u001b[1;32m      4\u001b[0m \u001b[0mrankdataC\u001b[0m\u001b[1;33m=\u001b[0m\u001b[1;33m[\u001b[0m\u001b[1;36m3\u001b[0m\u001b[1;33m*\u001b[0m\u001b[0mx\u001b[0m\u001b[1;33m+\u001b[0m\u001b[1;36m20\u001b[0m \u001b[1;32mfor\u001b[0m \u001b[0mx\u001b[0m \u001b[1;32min\u001b[0m \u001b[0mdata\u001b[0m\u001b[1;33m[\u001b[0m\u001b[1;34m'rank'\u001b[0m\u001b[1;33m]\u001b[0m \u001b[1;32mif\u001b[0m \u001b[0mx\u001b[0m \u001b[1;33m<\u001b[0m\u001b[1;36m1E100\u001b[0m\u001b[1;33m]\u001b[0m\u001b[1;33m\u001b[0m\u001b[0m\n",
      "\u001b[0;31mNameError\u001b[0m: name 'data' is not defined"
     ]
    }
   ],
   "source": [
    "rank=[x for x in data['rank'] if x <1E100] \n",
    "level=[[2*x,x+10] for x in data['rank'] if x <1E100] \n",
    "rankdataB=[x+20 for x in data['rank'] if x <1E100] \n",
    "rankdataC=[3*x+20 for x in data['rank'] if x <1E100] "
   ]
  },
  {
   "cell_type": "markdown",
   "metadata": {},
   "source": [
    "$\\mbox{rank} = \\mbox{const}+ B\\times \\mbox{hoursplayed} + C \\times \\mbox{wins}$"
   ]
  },
  {
   "cell_type": "code",
   "execution_count": 1,
   "metadata": {
    "collapsed": true
   },
   "outputs": [],
   "source": [
    "import pandas as pd\n",
    "import numpy as np\n",
    "import statsmodels.api as sm\n",
    "data = pd.read_json(\"Overwatch090317.json\")"
   ]
  },
  {
   "cell_type": "code",
   "execution_count": 42,
   "metadata": {
    "collapsed": false
   },
   "outputs": [],
   "source": [
    "rank=[x for x in data['rank']] \n",
    "level=[x for x in data['level']] \n",
    "wins=[x for x in data.get('comp', {})]\n",
    "# winsdata=[x for x in wins.index[x]]\n",
    "# wins=[x for x in data['comp'] if x <1E100]  \n",
    "a=wins[0]\n",
    "b=a.get('total',{})\n",
    "b.get('wins',{})\n",
    "def getWins(x):\n",
    "    b=x.get('total',{})\n",
    "    return(b.get('wins',{}))\n",
    "winsExtracted =[getWins(x) for x in  wins]\n"
   ]
  },
  {
   "cell_type": "code",
   "execution_count": 43,
   "metadata": {
    "collapsed": false
   },
   "outputs": [],
   "source": [
    "#[x for x in rank if x <1e100]\n",
    "def filterNaN(x):\n",
    "    if x<1e100:\n",
    "        return(x)\n",
    "    else:\n",
    "        return(0)#0 ->treat NaN as no rank\n",
    "rankFiltered=[filterNaN(x) for x in rank ]\n",
    "levelFiltered= [filterNaN(x) for x in level]"
   ]
  },
  {
   "cell_type": "code",
   "execution_count": 45,
   "metadata": {
    "collapsed": false
   },
   "outputs": [
    {
     "name": "stderr",
     "output_type": "stream",
     "text": [
      "C:\\ProgramData\\Anaconda3\\lib\\site-packages\\IPython\\core\\interactiveshell.py:2881: FutureWarning: The pandas.stats.ols module is deprecated and will be removed in a future version. We refer to external packages like statsmodels, see some examples here: http://www.statsmodels.org/stable/regression.html\n",
      "  exec(code_obj, self.user_global_ns, self.user_ns)\n"
     ]
    },
    {
     "data": {
      "text/plain": [
       "\n",
       "-------------------------Summary of Regression Analysis-------------------------\n",
       "\n",
       "Formula: Y ~ <Level> + <Wins> + <intercept>\n",
       "\n",
       "Number of Observations:         43\n",
       "Number of Degrees of Freedom:   3\n",
       "\n",
       "R-squared:         0.1530\n",
       "Adj R-squared:     0.1106\n",
       "\n",
       "Rmse:            819.0021\n",
       "\n",
       "F-stat (2, 40):     3.6124, p-value:     0.0361\n",
       "\n",
       "Degrees of Freedom: model 2, resid 40\n",
       "\n",
       "-----------------------Summary of Estimated Coefficients------------------------\n",
       "      Variable       Coef    Std Err     t-stat    p-value    CI 2.5%   CI 97.5%\n",
       "--------------------------------------------------------------------------------\n",
       "         Level     7.9046     5.4789       1.44     0.1569    -2.8341    18.6433\n",
       "          Wins    25.8045    10.4896       2.46     0.0183     5.2448    46.3642\n",
       "     intercept  1299.1246   427.6140       3.04     0.0042   461.0011  2137.2481\n",
       "---------------------------------End of Summary---------------------------------"
      ]
     },
     "execution_count": 45,
     "metadata": {},
     "output_type": "execute_result"
    }
   ],
   "source": [
    "from pandas.stats.api import ols\n",
    "df = pd.DataFrame({\"Rank\": rankFiltered, \"Level\": level, \"Wins\":winsExtracted})\n",
    "res = ols(y=df['Rank'], x=df[['Level','Wins']])\n",
    "res"
   ]
  },
  {
   "cell_type": "code",
   "execution_count": 22,
   "metadata": {
    "collapsed": false
   },
   "outputs": [
    {
     "ename": "ModuleNotFoundError",
     "evalue": "No module named 'xarray'",
     "output_type": "error",
     "traceback": [
      "\u001b[0;31m---------------------------------------------------------------------------\u001b[0m",
      "\u001b[0;31mModuleNotFoundError\u001b[0m                       Traceback (most recent call last)",
      "\u001b[0;32m<ipython-input-22-5e669ad3fc66>\u001b[0m in \u001b[0;36m<module>\u001b[0;34m()\u001b[0m\n\u001b[0;32m----> 1\u001b[0;31m \u001b[0mdata\u001b[0m\u001b[1;33m.\u001b[0m\u001b[0mto_xarray\u001b[0m\u001b[1;33m(\u001b[0m\u001b[1;33m)\u001b[0m\u001b[1;33m\u001b[0m\u001b[0m\n\u001b[0m",
      "\u001b[0;32mC:\\ProgramData\\Anaconda3\\lib\\site-packages\\pandas\\core\\generic.py\u001b[0m in \u001b[0;36mto_xarray\u001b[0;34m(self)\u001b[0m\n\u001b[1;32m   1323\u001b[0m         \u001b[0mSee\u001b[0m \u001b[0mthe\u001b[0m\u001b[0;31m \u001b[0m\u001b[0;31m`\u001b[0m\u001b[0mxarray\u001b[0m \u001b[0mdocs\u001b[0m \u001b[1;33m<\u001b[0m\u001b[0mhttp\u001b[0m\u001b[1;33m:\u001b[0m\u001b[1;33m//\u001b[0m\u001b[0mxarray\u001b[0m\u001b[1;33m.\u001b[0m\u001b[0mpydata\u001b[0m\u001b[1;33m.\u001b[0m\u001b[0morg\u001b[0m\u001b[1;33m/\u001b[0m\u001b[0men\u001b[0m\u001b[1;33m/\u001b[0m\u001b[0mstable\u001b[0m\u001b[1;33m/\u001b[0m\u001b[1;33m>\u001b[0m\u001b[0;31m`\u001b[0m\u001b[0m__\u001b[0m\u001b[1;33m\u001b[0m\u001b[0m\n\u001b[1;32m   1324\u001b[0m         \"\"\"\n\u001b[0;32m-> 1325\u001b[0;31m         \u001b[1;32mimport\u001b[0m \u001b[0mxarray\u001b[0m\u001b[1;33m\u001b[0m\u001b[0m\n\u001b[0m\u001b[1;32m   1326\u001b[0m         \u001b[1;32mif\u001b[0m \u001b[0mself\u001b[0m\u001b[1;33m.\u001b[0m\u001b[0mndim\u001b[0m \u001b[1;33m==\u001b[0m \u001b[1;36m1\u001b[0m\u001b[1;33m:\u001b[0m\u001b[1;33m\u001b[0m\u001b[0m\n\u001b[1;32m   1327\u001b[0m             \u001b[1;32mreturn\u001b[0m \u001b[0mxarray\u001b[0m\u001b[1;33m.\u001b[0m\u001b[0mDataArray\u001b[0m\u001b[1;33m.\u001b[0m\u001b[0mfrom_series\u001b[0m\u001b[1;33m(\u001b[0m\u001b[0mself\u001b[0m\u001b[1;33m)\u001b[0m\u001b[1;33m\u001b[0m\u001b[0m\n",
      "\u001b[0;31mModuleNotFoundError\u001b[0m: No module named 'xarray'"
     ]
    }
   ],
   "source": [
    "data.to_xarray()"
   ]
  },
  {
   "cell_type": "code",
   "execution_count": 124,
   "metadata": {
    "collapsed": false
   },
   "outputs": [],
   "source": [
    "rankdata=[x for x in data['rank'] if x <1E100] # is x < 'infinity'"
   ]
  },
  {
   "cell_type": "code",
   "execution_count": 125,
   "metadata": {
    "collapsed": true
   },
   "outputs": [],
   "source": [
    "import matplotlib.pyplot as plt"
   ]
  },
  {
   "cell_type": "markdown",
   "metadata": {},
   "source": [
    "## plotting\n",
    "\n",
    "plot y vs x .plot(array[0],array[1]),\n",
    "\n",
    "where array[0] is the x-value and  array[1] is the y value"
   ]
  },
  {
   "cell_type": "code",
   "execution_count": 129,
   "metadata": {
    "collapsed": false
   },
   "outputs": [
    {
     "data": {
      "image/png": "[encoded data removed]",
      "text/plain": [
       "<matplotlib.figure.Figure at 0x214739a6390>"
      ]
     },
     "metadata": {},
     "output_type": "display_data"
    }
   ],
   "source": [
    "%matplotlib inline\n",
    "plt.plot(rankdata)\n",
    "plt.show()"
   ]
  },
  {
   "cell_type": "code",
   "execution_count": 46,
   "metadata": {
    "collapsed": false
   },
   "outputs": [],
   "source": [
    "compdata=data['comp']"
   ]
  },
  {
   "cell_type": "code",
   "execution_count": 47,
   "metadata": {
    "collapsed": false
   },
   "outputs": [
    {
     "data": {
      "text/plain": [
       "array([ {'total': {'defAssists': 39, 'rate': 62, 'medals': 106, 'offAssists': 22, 'bronze': 34, 'objTime': 0.7455555555555551, 'healing': 78945, 'loss': 11, 'games': 29, 'onFire': 1.191666666666666, 'kpd': 3.03, 'multikills': 9, 'timePlayed': 7, 'silver': 33, 'melee': 10, 'soloKills': 122, 'objKills': 417, 'envKills': 9, 'wins': 18, 'elims': 939, 'cards': 12, 'damageDone': 468463, 'gold': 39, 'deaths': 310, 'multikillBest': 4, 'finalBlows': 481, 'envDeaths': 2}, 'most': {'defAssists': 14, 'healing': 16985, 'damageDone': 33724, 'onFire': 0.13277777777777702, 'soloKills': 38, 'offAssists': 13, 'objKills': 33, 'elims': 67, 'melee': 3, 'finalBlows': 38, 'objTime': 0.054722222222222006}, 'average': {'healing': 2722, 'deaths': 10.68, 'soloKills': 4.2, 'objKills': 14.37, 'damageDone': 16154, 'elims': 32.37, 'melee': 0.34, 'finalBlows': 16.58, 'objTime': 0.025555555555555002, 'onFire': 0.040833333333333006}},\n",
       "       {'total': {'defAssists': 25, 'rate': 30, 'medals': 58, 'offAssists': 11, 'bronze': 16, 'objTime': 0.402499999999999, 'healing': 49134, 'loss': 14, 'games': 20, 'onFire': 0.688333333333333, 'kpd': 2.23, 'multikills': 7, 'timePlayed': 4, 'silver': 21, 'melee': 3, 'soloKills': 56, 'objKills': 181, 'wins': 6, 'elims': 464, 'cards': 4, 'damageDone': 251250, 'gold': 21, 'deaths': 208, 'multikillBest': 3, 'finalBlows': 271, 'envDeaths': 4}, 'most': {'defAssists': 21, 'healing': 13247, 'damageDone': 22542, 'soloKills': 32, 'offAssists': 6, 'objKills': 21, 'elims': 51, 'onFire': 0.12583333333333302, 'finalBlows': 32, 'objTime': 0.038055555555555}, 'average': {'healing': 2457, 'deaths': 10.4, 'soloKills': 2.8, 'objKills': 9.05, 'damageDone': 12563, 'elims': 23.2, 'melee': 0.15, 'finalBlows': 13.55, 'objTime': 0.02, 'onFire': 0.034166666666666005}},\n",
       "       {'total': {'defAssists': 28, 'rate': 40, 'medals': 8, 'offAssists': 11, 'bronze': 4, 'objTime': 0.06027777777777701, 'timePlayed': 0.7833333333333331, 'loss': 3, 'games': 5, 'onFire': 0.023333333333333, 'kpd': 1.69, 'healing': 23783, 'silver': 3, 'deaths': 35, 'objKills': 23, 'wins': 2, 'elims': 59, 'damageDone': 24659, 'gold': 1, 'multikillBest': 3, 'finalBlows': 15, 'envDeaths': 2}, 'most': {'defAssists': 17, 'healing': 9785, 'damageDone': 15534, 'soloKills': 8, 'offAssists': 10, 'objKills': 10, 'elims': 21, 'onFire': 0.008611111111111, 'finalBlows': 8, 'objTime': 0.020555555555555}, 'average': {'healing': 4757, 'deaths': 6.99, 'objKills': 4.59, 'damageDone': 4932, 'elims': 11.79, 'melee': 0.19, 'finalBlows': 2.99, 'objTime': 0.011944444444444001, 'onFire': 0.004444444444444}},\n",
       "       {'total': {'defAssists': 377, 'rate': 50, 'medals': 158, 'offAssists': 221, 'bronze': 45, 'finalBlows': 780, 'objTime': 1.589999999999999, 'healing': 321678, 'loss': 30, 'games': 66, 'onFire': 1.820555555555555, 'kpd': 2.35, 'multikills': 16, 'timePlayed': 15, 'silver': 47, 'melee': 17, 'soloKills': 166, 'objKills': 695, 'envKills': 3, 'wins': 31, 'elims': 1624, 'cards': 26, 'damageDone': 848937, 'gold': 66, 'deaths': 691, 'multikillBest': 4, 'recAssists': 20, 'envDeaths': 7}, 'most': {'defAssists': 47, 'healing': 28341, 'damageDone': 33736, 'onFire': 0.142222222222222, 'soloKills': 27, 'offAssists': 20, 'objKills': 34, 'elims': 62, 'melee': 3, 'finalBlows': 27, 'objTime': 0.103888888888888}, 'average': {'healing': 4874, 'deaths': 10.46, 'soloKills': 2.51, 'objKills': 10.53, 'damageDone': 12863, 'elims': 24.6, 'melee': 0.25, 'finalBlows': 11.81, 'objTime': 0.023888888888888002, 'onFire': 0.0275}},\n",
       "       {'total': {'defAssists': 4, 'timePlayed': 0.65, 'rate': 0, 'deaths': 40, 'medals': 4, 'bronze': 2, 'objKills': 14, 'wins': 0, 'elims': 32, 'objTime': 0.038611111111111006, 'healing': 3989, 'loss': 3, 'kpd': 0.8, 'silver': 2, 'damageDone': 21660, 'soloKills': 9, 'games': 3, 'onFire': 0.016666666666666, 'finalBlows': 14}, 'most': {'defAssists': 4, 'healing': 3487, 'soloKills': 10, 'damageDone': 13700, 'objKills': 9, 'elims': 19, 'onFire': 0.016666666666666, 'finalBlows': 10, 'objTime': 0.029166666666666}, 'average': {'healing': 1330, 'defAssists': 1, 'onFire': 0.005555555555555001, 'soloKills': 3, 'objKills': 4.66, 'damageDone': 7220, 'elims': 10.66, 'deaths': 13.33, 'finalBlows': 4.66, 'objTime': 0.012777777777777001}},\n",
       "       {'total': {'timePlayed': 1, 'rate': 75, 'deaths': 57, 'medals': 12, 'bronze': 7, 'objKills': 56, 'wins': 3, 'elims': 122, 'silver': 4, 'objTime': 0.16472222222222202, 'healing': 11760, 'loss': 1, 'kpd': 2.14, 'damageDone': 61743, 'gold': 1, 'soloKills': 8, 'games': 4, 'onFire': 0.066666666666666, 'finalBlows': 58, 'envDeaths': 3}, 'most': {'healing': 4747, 'soloKills': 22, 'damageDone': 20051, 'objKills': 17, 'finalBlows': 22, 'onFire': 0.025, 'elims': 36, 'objTime': 0.06361111111111101}, 'average': {'healing': 2940, 'onFire': 0.016666666666666, 'soloKills': 2, 'objKills': 14, 'damageDone': 15436, 'elims': 30.5, 'deaths': 14.25, 'finalBlows': 14.5, 'objTime': 0.041111111111111}},\n",
       "       {'total': {'defAssists': 112, 'rate': 38, 'medals': 39, 'offAssists': 9, 'bronze': 9, 'objTime': 0.35972222222222205, 'healing': 106078, 'loss': 8, 'games': 13, 'onFire': 0.355833333333333, 'kpd': 2.31, 'multikills': 3, 'timePlayed': 2, 'silver': 10, 'deaths': 121, 'soloKills': 30, 'objKills': 139, 'envKills': 6, 'wins': 5, 'elims': 280, 'cards': 8, 'damageDone': 120896, 'gold': 20, 'multikillBest': 3, 'finalBlows': 106}, 'most': {'defAssists': 27, 'healing': 19311, 'damageDone': 22843, 'soloKills': 24, 'offAssists': 3, 'objKills': 31, 'elims': 54, 'onFire': 0.102222222222222, 'finalBlows': 24, 'objTime': 0.062777777777777}, 'average': {'defAssists': 9, 'melee': 0.07, 'soloKills': 2.3, 'offAssists': 1, 'objKills': 10.69, 'elims': 21.53, 'objTime': 0.0275, 'onFire': 0.027222222222222002, 'healing': 8160, 'damageDone': 9300, 'deaths': 9.3, 'finalBlows': 8.15}},\n",
       "       {'total': {'defAssists': 22, 'rate': 62, 'medals': 26, 'offAssists': 19, 'bronze': 8, 'objTime': 0.191944444444444, 'timePlayed': 2, 'loss': 3, 'games': 10, 'onFire': 0.19333333333333302, 'kpd': 1.6600000000000001, 'healing': 20955, 'silver': 10, 'melee': 2, 'soloKills': 33, 'objKills': 93, 'wins': 5, 'elims': 228, 'cards': 2, 'damageDone': 110166, 'gold': 8, 'deaths': 137, 'multikillBest': 3, 'finalBlows': 118, 'envDeaths': 3}, 'most': {'defAssists': 9, 'healing': 7470, 'damageDone': 23644, 'soloKills': 25, 'offAssists': 7, 'objKills': 16, 'elims': 35, 'onFire': 0.05, 'finalBlows': 25, 'objTime': 0.028055555555555}, 'average': {'healing': 2095, 'deaths': 13.69, 'soloKills': 3.29, 'objKills': 9.29, 'damageDone': 11017, 'elims': 22.79, 'melee': 0.19, 'finalBlows': 11.79, 'objTime': 0.019166666666666003, 'onFire': 0.019166666666666003}},\n",
       "       {'total': {'defAssists': 73, 'rate': 45, 'medals': 25, 'offAssists': 31, 'bronze': 5, 'kpd': 1.6, 'objTime': 0.285555555555555, 'timePlayed': 2, 'loss': 6, 'games': 12, 'onFire': 0.13861111111111102, 'healing': 50917, 'silver': 10, 'deaths': 111, 'soloKills': 13, 'objKills': 101, 'wins': 5, 'elims': 178, 'cards': 3, 'damageDone': 96620, 'gold': 10, 'melee': 6, 'finalBlows': 71}, 'most': {'defAssists': 22, 'healing': 9884, 'damageDone': 14550, 'onFire': 0.05611111111111101, 'soloKills': 18, 'offAssists': 15, 'objKills': 19, 'elims': 28, 'melee': 2, 'finalBlows': 18, 'objTime': 0.049166666666666005}, 'average': {'healing': 4243, 'deaths': 9.25, 'soloKills': 1.08, 'objKills': 8.41, 'damageDone': 8052, 'elims': 14.83, 'melee': 0.5, 'finalBlows': 5.91, 'objTime': 0.023611111111111003, 'onFire': 0.011388888888888001}},\n",
       "       {'total': {'defAssists': 88, 'rate': 40, 'medals': 42, 'offAssists': 39, 'bronze': 11, 'objTime': 0.326111111111111, 'healing': 78390, 'loss': 9, 'games': 17, 'onFire': 0.153611111111111, 'kpd': 1.65, 'multikills': 2, 'timePlayed': 3, 'silver': 15, 'melee': 8, 'soloKills': 22, 'objKills': 114, 'envKills': 5, 'wins': 6, 'elims': 233, 'cards': 7, 'damageDone': 114015, 'gold': 16, 'deaths': 141, 'multikillBest': 4, 'finalBlows': 88, 'envDeaths': 3}, 'most': {'defAssists': 21, 'healing': 15915, 'damageDone': 18564, 'onFire': 0.031666666666666, 'soloKills': 19, 'offAssists': 15, 'objKills': 17, 'elims': 33, 'melee': 3, 'finalBlows': 19, 'objTime': 0.063055555555555}, 'average': {'defAssists': 5, 'melee': 0.47000000000000003, 'soloKills': 1.29, 'offAssists': 2, 'objKills': 6.7, 'elims': 13.7, 'objTime': 0.019166666666666003, 'onFire': 0.008888888888888, 'healing': 4611, 'damageDone': 6707, 'deaths': 8.29, 'finalBlows': 5.17}},\n",
       "       {'total': {'defAssists': 217, 'rate': 47, 'medals': 147, 'offAssists': 63, 'bronze': 38, 'objTime': 1.4325, 'healing': 172790, 'loss': 27, 'games': 54, 'onFire': 0.556111111111111, 'kpd': 2.52, 'multikills': 7, 'timePlayed': 11, 'silver': 51, 'melee': 8, 'soloKills': 52, 'objKills': 534, 'envKills': 18, 'wins': 24, 'elims': 1118, 'cards': 17, 'damageDone': 545210, 'gold': 58, 'deaths': 444, 'multikillBest': 4, 'finalBlows': 335, 'envDeaths': 4}, 'most': {'defAssists': 22, 'healing': 14800, 'damageDone': 29085, 'soloKills': 18, 'offAssists': 10, 'objKills': 34, 'elims': 53, 'onFire': 0.08333333333333301, 'finalBlows': 18, 'objTime': 0.061944444444444004}, 'average': {'healing': 3200, 'deaths': 8.22, 'soloKills': 0.96, 'objKills': 9.88, 'damageDone': 10096, 'elims': 20.7, 'melee': 0.14, 'finalBlows': 6.2, 'objTime': 0.026388888888888, 'onFire': 0.010277777777777001}},\n",
       "       {'total': {'defAssists': 306, 'rate': 77, 'medals': 80, 'offAssists': 31, 'bronze': 18, 'finalBlows': 190, 'objTime': 1.021388888888889, 'healing': 244580, 'loss': 6, 'games': 30, 'onFire': 0.45305555555555505, 'kpd': 2, 'multikills': 3, 'timePlayed': 6, 'silver': 23, 'melee': 7, 'soloKills': 25, 'objKills': 299, 'envKills': 5, 'wins': 21, 'elims': 537, 'cards': 18, 'damageDone': 237927, 'gold': 39, 'deaths': 268, 'multikillBest': 4, 'recAssists': 4, 'envDeaths': 5}, 'most': {'defAssists': 29, 'healing': 20753, 'damageDone': 21541, 'onFire': 0.08611111111111101, 'soloKills': 34, 'offAssists': 13, 'objKills': 25, 'elims': 47, 'melee': 2, 'finalBlows': 34, 'objTime': 0.09638888888888801}, 'average': {'defAssists': 10, 'melee': 0.23, 'soloKills': 0.8300000000000001, 'offAssists': 1, 'objKills': 9.96, 'elims': 17.9, 'objTime': 0.033888888888888004, 'onFire': 0.015000000000000001, 'healing': 8153, 'damageDone': 7931, 'deaths': 8.93, 'finalBlows': 6.33}},\n",
       "       {'total': {'defAssists': 90, 'rate': 50, 'medals': 54, 'offAssists': 58, 'bronze': 14, 'objTime': 0.521944444444444, 'healing': 83797, 'loss': 10, 'games': 22, 'onFire': 0.512222222222222, 'kpd': 1.72, 'multikills': 5, 'timePlayed': 5, 'silver': 21, 'melee': 4, 'soloKills': 38, 'objKills': 231, 'envKills': 4, 'wins': 10, 'elims': 458, 'cards': 7, 'damageDone': 231508, 'gold': 19, 'deaths': 267, 'multikillBest': 4, 'finalBlows': 185, 'envDeaths': 6}, 'most': {'defAssists': 21, 'healing': 13146, 'damageDone': 28723, 'onFire': 0.08555555555555501, 'soloKills': 29, 'offAssists': 17, 'objKills': 24, 'elims': 46, 'melee': 2, 'finalBlows': 29, 'objTime': 0.056666666666666005}, 'average': {'healing': 3809, 'deaths': 12.13, 'soloKills': 1.72, 'objKills': 10.5, 'damageDone': 10523, 'elims': 20.81, 'melee': 0.18, 'finalBlows': 8.4, 'objTime': 0.023611111111111003, 'onFire': 0.023055555555555003}},\n",
       "       {'total': {'defAssists': 15, 'rate': 0, 'medals': 7, 'offAssists': 7, 'bronze': 4, 'objTime': 0.07888888888888801, 'timePlayed': 0.75, 'loss': 3, 'games': 3, 'onFire': 0.045833333333333004, 'kpd': 1.53, 'healing': 15808, 'silver': 2, 'soloKills': 7, 'objKills': 19, 'wins': 0, 'elims': 52, 'damageDone': 27490, 'gold': 1, 'deaths': 34, 'finalBlows': 28, 'envDeaths': 4}, 'most': {'defAssists': 15, 'healing': 12683, 'damageDone': 12637, 'soloKills': 15, 'offAssists': 7, 'objKills': 10, 'elims': 20, 'onFire': 0.045277777777777, 'finalBlows': 15, 'objTime': 0.035277777777777006}, 'average': {'healing': 5269, 'defAssists': 5, 'onFire': 0.015277777777777002, 'soloKills': 2.33, 'offAssists': 2, 'damageDone': 9164, 'elims': 17.33, 'objKills': 6.33, 'deaths': 11.33, 'finalBlows': 9.33, 'objTime': 0.026111111111111}},\n",
       "       {'total': {'defAssists': 158, 'rate': 64, 'medals': 73, 'offAssists': 37, 'bronze': 25, 'objTime': 0.8238888888888881, 'healing': 137892, 'loss': 9, 'games': 27, 'onFire': 0.7888888888888891, 'kpd': 1.69, 'multikills': 3, 'timePlayed': 5, 'silver': 20, 'melee': 12, 'soloKills': 29, 'objKills': 206, 'envKills': 2, 'wins': 16, 'elims': 442, 'cards': 9, 'damageDone': 209454, 'gold': 28, 'deaths': 261, 'multikillBest': 3, 'finalBlows': 201, 'envDeaths': 4}, 'most': {'defAssists': 36, 'healing': 20717, 'damageDone': 27062, 'onFire': 0.116944444444444, 'soloKills': 27, 'offAssists': 9, 'objKills': 29, 'elims': 46, 'melee': 3, 'finalBlows': 27, 'objTime': 0.060833333333333}, 'average': {'healing': 5107, 'deaths': 9.66, 'soloKills': 1.07, 'objKills': 7.62, 'damageDone': 7758, 'elims': 16.37, 'melee': 0.44, 'finalBlows': 7.44, 'objTime': 0.030277777777777, 'onFire': 0.029166666666666}},\n",
       "       {'total': {'defAssists': 123, 'rate': 40, 'medals': 61, 'offAssists': 64, 'bronze': 14, 'objTime': 0.5580555555555551, 'healing': 104622, 'loss': 12, 'games': 21, 'onFire': 0.31777777777777705, 'kpd': 1.54, 'multikills': 2, 'timePlayed': 4, 'silver': 20, 'melee': 2, 'soloKills': 34, 'objKills': 187, 'envKills': 2, 'wins': 8, 'elims': 354, 'cards': 6, 'damageDone': 180759, 'gold': 27, 'deaths': 230, 'multikillBest': 3, 'finalBlows': 140, 'envDeaths': 4}, 'most': {'defAssists': 23, 'healing': 16358, 'damageDone': 21511, 'soloKills': 16, 'offAssists': 22, 'objKills': 21, 'elims': 38, 'onFire': 0.074166666666666, 'finalBlows': 16, 'objTime': 0.06027777777777701}, 'average': {'healing': 4982, 'deaths': 10.95, 'soloKills': 1.6099999999999999, 'objKills': 8.9, 'damageDone': 8608, 'elims': 16.85, 'melee': 0.09, 'finalBlows': 6.66, 'objTime': 0.026388888888888, 'onFire': 0.015000000000000001}},\n",
       "       {'total': {'defAssists': 90, 'timePlayed': 1, 'rate': 100, 'onFire': 0.31666666666666604, 'medals': 5, 'offAssists': 48, 'objKills': 8, 'wins': 3, 'deaths': 29, 'elims': 22, 'objTime': 0.09444444444444401, 'healing': 52972, 'loss': 0, 'cards': 3, 'damageDone': 8627, 'gold': 3, 'kpd': 0.76, 'games': 4, 'multikillBest': 3, 'finalBlows': 7, 'bronze': 2}, 'most': {'defAssists': 32, 'healing': 17997, 'damageDone': 6486, 'soloKills': 3, 'offAssists': 21, 'objKills': 5, 'elims': 12, 'onFire': 0.12777777777777702, 'finalBlows': 3, 'objTime': 0.030833333333333}, 'average': {'healing': 13243, 'deaths': 7.25, 'objKills': 2, 'damageDone': 2157, 'elims': 5.5, 'melee': 0.25, 'finalBlows': 1.75, 'objTime': 0.023611111111111003, 'onFire': 0.07916666666666601}},\n",
       "       {'total': {'defAssists': 62, 'rate': 39, 'medals': 100, 'offAssists': 15, 'bronze': 36, 'objTime': 0.752222222222222, 'healing': 63479, 'loss': 20, 'games': 36, 'onFire': 0.5133333333333331, 'kpd': 2.22, 'multikills': 6, 'timePlayed': 7, 'silver': 30, 'melee': 3, 'soloKills': 61, 'objKills': 339, 'envKills': 8, 'wins': 13, 'elims': 754, 'cards': 11, 'damageDone': 404322, 'gold': 34, 'deaths': 339, 'multikillBest': 3, 'finalBlows': 285, 'envDeaths': 10}, 'most': {'defAssists': 19, 'healing': 15907, 'damageDone': 21023, 'soloKills': 20, 'offAssists': 9, 'objKills': 24, 'elims': 48, 'onFire': 0.080277777777777, 'finalBlows': 20, 'objTime': 0.10722222222222201}, 'average': {'healing': 1763, 'deaths': 9.41, 'soloKills': 1.69, 'objKills': 9.41, 'damageDone': 11231, 'elims': 20.94, 'melee': 0.08, 'finalBlows': 7.91, 'objTime': 0.020833333333333003, 'onFire': 0.014166666666666002}},\n",
       "       {'total': {'defAssists': 643, 'rate': 46, 'medals': 413, 'offAssists': 447, 'bronze': 138, 'objTime': 3.106111111111111, 'healing': 390173, 'loss': 90, 'games': 179, 'onFire': 3.051944444444444, 'kpd': 1.9, 'multikills': 27, 'timePlayed': 34, 'silver': 163, 'melee': 5, 'soloKills': 451, 'objKills': 1411, 'envKills': 17, 'wins': 79, 'elims': 3259, 'cards': 40, 'damageDone': 1572535, 'gold': 112, 'deaths': 1718, 'multikillBest': 5, 'finalBlows': 1632, 'envDeaths': 32}, 'most': {'defAssists': 43, 'healing': 12546, 'damageDone': 23129, 'soloKills': 34, 'offAssists': 21, 'objKills': 41, 'elims': 53, 'onFire': 0.13916666666666602, 'finalBlows': 34, 'objTime': 0.101944444444444}, 'average': {'defAssists': 4, 'melee': 0.02, 'soloKills': 2.51, 'offAssists': 2, 'objKills': 7.88, 'elims': 18.2, 'objTime': 0.017222222222222, 'onFire': 0.016944444444444002, 'healing': 2180, 'damageDone': 8785, 'deaths': 9.59, 'finalBlows': 9.11}},\n",
       "       {'total': {'defAssists': 39, 'rate': 62, 'medals': 106, 'offAssists': 22, 'bronze': 34, 'objTime': 0.7455555555555551, 'healing': 78945, 'loss': 11, 'games': 29, 'onFire': 1.191666666666666, 'kpd': 3.03, 'multikills': 9, 'timePlayed': 7, 'silver': 33, 'melee': 10, 'soloKills': 122, 'objKills': 417, 'envKills': 9, 'wins': 18, 'elims': 939, 'cards': 12, 'damageDone': 468463, 'gold': 39, 'deaths': 310, 'multikillBest': 4, 'finalBlows': 481, 'envDeaths': 2}, 'most': {'defAssists': 14, 'healing': 16985, 'damageDone': 33724, 'onFire': 0.13277777777777702, 'soloKills': 38, 'offAssists': 13, 'objKills': 33, 'elims': 67, 'melee': 3, 'finalBlows': 38, 'objTime': 0.054722222222222006}, 'average': {'healing': 2722, 'deaths': 10.68, 'soloKills': 4.2, 'objKills': 14.37, 'damageDone': 16154, 'elims': 32.37, 'melee': 0.34, 'finalBlows': 16.58, 'objTime': 0.025555555555555002, 'onFire': 0.040833333333333006}},\n",
       "       {'total': {'defAssists': 39, 'rate': 62, 'medals': 106, 'offAssists': 22, 'bronze': 34, 'objTime': 0.7455555555555551, 'healing': 78945, 'loss': 11, 'games': 29, 'onFire': 1.191666666666666, 'kpd': 3.03, 'multikills': 9, 'timePlayed': 7, 'silver': 33, 'melee': 10, 'soloKills': 122, 'objKills': 417, 'envKills': 9, 'wins': 18, 'elims': 939, 'cards': 12, 'damageDone': 468463, 'gold': 39, 'deaths': 310, 'multikillBest': 4, 'finalBlows': 481, 'envDeaths': 2}, 'most': {'defAssists': 14, 'healing': 16985, 'damageDone': 33724, 'onFire': 0.13277777777777702, 'soloKills': 38, 'offAssists': 13, 'objKills': 33, 'elims': 67, 'melee': 3, 'finalBlows': 38, 'objTime': 0.054722222222222006}, 'average': {'healing': 2722, 'deaths': 10.68, 'soloKills': 4.2, 'objKills': 14.37, 'damageDone': 16154, 'elims': 32.37, 'melee': 0.34, 'finalBlows': 16.58, 'objTime': 0.025555555555555002, 'onFire': 0.040833333333333006}},\n",
       "       {'total': {'defAssists': 39, 'rate': 62, 'medals': 106, 'offAssists': 22, 'bronze': 34, 'objTime': 0.7455555555555551, 'healing': 78945, 'loss': 11, 'games': 29, 'onFire': 1.191666666666666, 'kpd': 3.03, 'multikills': 9, 'timePlayed': 7, 'silver': 33, 'melee': 10, 'soloKills': 122, 'objKills': 417, 'envKills': 9, 'wins': 18, 'elims': 939, 'cards': 12, 'damageDone': 468463, 'gold': 39, 'deaths': 310, 'multikillBest': 4, 'finalBlows': 481, 'envDeaths': 2}, 'most': {'defAssists': 14, 'healing': 16985, 'damageDone': 33724, 'onFire': 0.13277777777777702, 'soloKills': 38, 'offAssists': 13, 'objKills': 33, 'elims': 67, 'melee': 3, 'finalBlows': 38, 'objTime': 0.054722222222222006}, 'average': {'healing': 2722, 'deaths': 10.68, 'soloKills': 4.2, 'objKills': 14.37, 'damageDone': 16154, 'elims': 32.37, 'melee': 0.34, 'finalBlows': 16.58, 'objTime': 0.025555555555555002, 'onFire': 0.040833333333333006}},\n",
       "       {'total': {'defAssists': 39, 'rate': 62, 'medals': 106, 'offAssists': 22, 'bronze': 34, 'objTime': 0.7455555555555551, 'healing': 78945, 'loss': 11, 'games': 29, 'onFire': 1.191666666666666, 'kpd': 3.03, 'multikills': 9, 'timePlayed': 7, 'silver': 33, 'melee': 10, 'soloKills': 122, 'objKills': 417, 'envKills': 9, 'wins': 18, 'elims': 939, 'cards': 12, 'damageDone': 468463, 'gold': 39, 'deaths': 310, 'multikillBest': 4, 'finalBlows': 481, 'envDeaths': 2}, 'most': {'defAssists': 14, 'healing': 16985, 'damageDone': 33724, 'onFire': 0.13277777777777702, 'soloKills': 38, 'offAssists': 13, 'objKills': 33, 'elims': 67, 'melee': 3, 'finalBlows': 38, 'objTime': 0.054722222222222006}, 'average': {'healing': 2722, 'deaths': 10.68, 'soloKills': 4.2, 'objKills': 14.37, 'damageDone': 16154, 'elims': 32.37, 'melee': 0.34, 'finalBlows': 16.58, 'objTime': 0.025555555555555002, 'onFire': 0.040833333333333006}},\n",
       "       {'total': {'defAssists': 39, 'rate': 62, 'medals': 106, 'offAssists': 22, 'bronze': 34, 'objTime': 0.7455555555555551, 'healing': 78945, 'loss': 11, 'games': 29, 'onFire': 1.191666666666666, 'kpd': 3.03, 'multikills': 9, 'timePlayed': 7, 'silver': 33, 'melee': 10, 'soloKills': 122, 'objKills': 417, 'envKills': 9, 'wins': 18, 'elims': 939, 'cards': 12, 'damageDone': 468463, 'gold': 39, 'deaths': 310, 'multikillBest': 4, 'finalBlows': 481, 'envDeaths': 2}, 'most': {'defAssists': 14, 'healing': 16985, 'damageDone': 33724, 'onFire': 0.13277777777777702, 'soloKills': 38, 'offAssists': 13, 'objKills': 33, 'elims': 67, 'melee': 3, 'finalBlows': 38, 'objTime': 0.054722222222222006}, 'average': {'healing': 2722, 'deaths': 10.68, 'soloKills': 4.2, 'objKills': 14.37, 'damageDone': 16154, 'elims': 32.37, 'melee': 0.34, 'finalBlows': 16.58, 'objTime': 0.025555555555555002, 'onFire': 0.040833333333333006}},\n",
       "       {'total': {'defAssists': 39, 'rate': 62, 'medals': 106, 'offAssists': 22, 'bronze': 34, 'objTime': 0.7455555555555551, 'healing': 78945, 'loss': 11, 'games': 29, 'onFire': 1.191666666666666, 'kpd': 3.03, 'multikills': 9, 'timePlayed': 7, 'silver': 33, 'melee': 10, 'soloKills': 122, 'objKills': 417, 'envKills': 9, 'wins': 18, 'elims': 939, 'cards': 12, 'damageDone': 468463, 'gold': 39, 'deaths': 310, 'multikillBest': 4, 'finalBlows': 481, 'envDeaths': 2}, 'most': {'defAssists': 14, 'healing': 16985, 'damageDone': 33724, 'onFire': 0.13277777777777702, 'soloKills': 38, 'offAssists': 13, 'objKills': 33, 'elims': 67, 'melee': 3, 'finalBlows': 38, 'objTime': 0.054722222222222006}, 'average': {'healing': 2722, 'deaths': 10.68, 'soloKills': 4.2, 'objKills': 14.37, 'damageDone': 16154, 'elims': 32.37, 'melee': 0.34, 'finalBlows': 16.58, 'objTime': 0.025555555555555002, 'onFire': 0.040833333333333006}},\n",
       "       {'total': {'defAssists': 39, 'rate': 62, 'medals': 106, 'offAssists': 22, 'bronze': 34, 'objTime': 0.7455555555555551, 'healing': 78945, 'loss': 11, 'games': 29, 'onFire': 1.191666666666666, 'kpd': 3.03, 'multikills': 9, 'timePlayed': 7, 'silver': 33, 'melee': 10, 'soloKills': 122, 'objKills': 417, 'envKills': 9, 'wins': 18, 'elims': 939, 'cards': 12, 'damageDone': 468463, 'gold': 39, 'deaths': 310, 'multikillBest': 4, 'finalBlows': 481, 'envDeaths': 2}, 'most': {'defAssists': 14, 'healing': 16985, 'damageDone': 33724, 'onFire': 0.13277777777777702, 'soloKills': 38, 'offAssists': 13, 'objKills': 33, 'elims': 67, 'melee': 3, 'finalBlows': 38, 'objTime': 0.054722222222222006}, 'average': {'healing': 2722, 'deaths': 10.68, 'soloKills': 4.2, 'objKills': 14.37, 'damageDone': 16154, 'elims': 32.37, 'melee': 0.34, 'finalBlows': 16.58, 'objTime': 0.025555555555555002, 'onFire': 0.040833333333333006}},\n",
       "       {'total': {'defAssists': 39, 'rate': 62, 'medals': 106, 'offAssists': 22, 'bronze': 34, 'objTime': 0.7455555555555551, 'healing': 78945, 'loss': 11, 'games': 29, 'onFire': 1.191666666666666, 'kpd': 3.03, 'multikills': 9, 'timePlayed': 7, 'silver': 33, 'melee': 10, 'soloKills': 122, 'objKills': 417, 'envKills': 9, 'wins': 18, 'elims': 939, 'cards': 12, 'damageDone': 468463, 'gold': 39, 'deaths': 310, 'multikillBest': 4, 'finalBlows': 481, 'envDeaths': 2}, 'most': {'defAssists': 14, 'healing': 16985, 'damageDone': 33724, 'onFire': 0.13277777777777702, 'soloKills': 38, 'offAssists': 13, 'objKills': 33, 'elims': 67, 'melee': 3, 'finalBlows': 38, 'objTime': 0.054722222222222006}, 'average': {'healing': 2722, 'deaths': 10.68, 'soloKills': 4.2, 'objKills': 14.37, 'damageDone': 16154, 'elims': 32.37, 'melee': 0.34, 'finalBlows': 16.58, 'objTime': 0.025555555555555002, 'onFire': 0.040833333333333006}},\n",
       "       {'total': {'defAssists': 39, 'rate': 62.07, 'medals': 106, 'offAssists': 22, 'bronze': 34, 'objTime': 0.7455555555555551, 'healing': 78945, 'loss': 11, 'games': 29, 'onFire': 1.191666666666666, 'kpd': 3.03, 'multikills': 9, 'timePlayed': 7, 'silver': 33, 'melee': 10, 'soloKills': 122, 'objKills': 417, 'envKills': 9, 'wins': 18, 'elims': 939, 'cards': 12, 'damageDone': 468463, 'gold': 39, 'deaths': 310, 'multikillBest': 4, 'finalBlows': 481, 'envDeaths': 2}, 'most': {'defAssists': 14, 'healing': 16985, 'damageDone': 33724, 'onFire': 0.13277777777777702, 'soloKills': 38, 'offAssists': 13, 'objKills': 33, 'elims': 67, 'melee': 3, 'finalBlows': 38, 'objTime': 0.054722222222222006}, 'average': {'healing': 2722, 'deaths': 10.68, 'soloKills': 4.2, 'objKills': 14.37, 'damageDone': 16154, 'elims': 32.37, 'melee': 0.34, 'finalBlows': 16.58, 'objTime': 0.025555555555555002, 'onFire': 0.040833333333333006}},\n",
       "       {'total': {'defAssists': 39, 'rate': 62.07, 'medals': 106, 'offAssists': 22, 'bronze': 34, 'objTime': 0.7455555555555551, 'healing': 78945, 'loss': 11, 'games': 29, 'onFire': 1.191666666666666, 'kpd': 3.03, 'multikills': 9, 'timePlayed': 7, 'silver': 33, 'melee': 10, 'soloKills': 122, 'objKills': 417, 'envKills': 9, 'wins': 18, 'elims': 939, 'cards': 12, 'damageDone': 468463, 'gold': 39, 'deaths': 310, 'multikillBest': 4, 'finalBlows': 481, 'envDeaths': 2}, 'most': {'defAssists': 14, 'healing': 16985, 'damageDone': 33724, 'onFire': 0.13277777777777702, 'soloKills': 38, 'offAssists': 13, 'objKills': 33, 'elims': 67, 'melee': 3, 'finalBlows': 38, 'objTime': 0.054722222222222006}, 'average': {'healing': 2722, 'deaths': 10.68, 'soloKills': 4.2, 'objKills': 14.37, 'damageDone': 16154, 'elims': 32.37, 'melee': 0.34, 'finalBlows': 16.58, 'objTime': 0.025555555555555002, 'onFire': 0.040833333333333006}},\n",
       "       {'total': {'defAssists': 22, 'rate': 62.5, 'medals': 26, 'offAssists': 19, 'bronze': 8, 'objTime': 0.191944444444444, 'timePlayed': 2, 'loss': 3, 'games': 10, 'onFire': 0.19333333333333302, 'kpd': 1.6600000000000001, 'healing': 20955, 'silver': 10, 'melee': 2, 'soloKills': 33, 'objKills': 93, 'wins': 5, 'elims': 228, 'cards': 2, 'damageDone': 110166, 'gold': 8, 'deaths': 137, 'multikillBest': 3, 'finalBlows': 118, 'envDeaths': 3}, 'most': {'defAssists': 9, 'healing': 7470, 'damageDone': 23644, 'soloKills': 25, 'offAssists': 7, 'objKills': 16, 'elims': 35, 'onFire': 0.05, 'finalBlows': 25, 'objTime': 0.028055555555555}, 'average': {'healing': 2095, 'deaths': 13.69, 'soloKills': 3.29, 'objKills': 9.29, 'damageDone': 11017, 'elims': 22.79, 'melee': 0.19, 'finalBlows': 11.79, 'objTime': 0.019166666666666003, 'onFire': 0.019166666666666003}},\n",
       "       {'total': {'defAssists': 39, 'rate': 62.07, 'medals': 106, 'offAssists': 22, 'bronze': 34, 'objTime': 0.7455555555555551, 'healing': 78945, 'loss': 11, 'games': 29, 'onFire': 1.191666666666666, 'kpd': 3.03, 'multikills': 9, 'timePlayed': 7, 'silver': 33, 'melee': 10, 'soloKills': 122, 'objKills': 417, 'envKills': 9, 'wins': 18, 'elims': 939, 'cards': 12, 'damageDone': 468463, 'gold': 39, 'deaths': 310, 'multikillBest': 4, 'finalBlows': 481, 'envDeaths': 2}, 'most': {'defAssists': 14, 'healing': 16985, 'damageDone': 33724, 'onFire': 0.13277777777777702, 'soloKills': 38, 'offAssists': 13, 'objKills': 33, 'elims': 67, 'melee': 3, 'finalBlows': 38, 'objTime': 0.054722222222222006}, 'average': {'healing': 2722, 'deaths': 10.68, 'soloKills': 4.2, 'objKills': 14.37, 'damageDone': 16154, 'elims': 32.37, 'melee': 0.34, 'finalBlows': 16.58, 'objTime': 0.025555555555555002, 'onFire': 0.040833333333333006}},\n",
       "       {'total': {'defAssists': 39, 'rate': 62.07, 'medals': 106, 'offAssists': 22, 'bronze': 34, 'objTime': 0.7455555555555551, 'healing': 78945, 'loss': 11, 'games': 29, 'onFire': 1.191666666666666, 'kpd': 3.03, 'multikills': 9, 'timePlayed': 7, 'silver': 33, 'melee': 10, 'soloKills': 122, 'objKills': 417, 'envKills': 9, 'wins': 18, 'elims': 939, 'cards': 12, 'damageDone': 468463, 'gold': 39, 'deaths': 310, 'multikillBest': 4, 'finalBlows': 481, 'envDeaths': 2}, 'most': {'defAssists': 14, 'healing': 16985, 'damageDone': 33724, 'onFire': 0.13277777777777702, 'soloKills': 38, 'offAssists': 13, 'objKills': 33, 'elims': 67, 'melee': 3, 'finalBlows': 38, 'objTime': 0.054722222222222006}, 'average': {'healing': 2722, 'deaths': 10.68, 'soloKills': 4.2, 'objKills': 14.37, 'damageDone': 16154, 'elims': 32.37, 'melee': 0.34, 'finalBlows': 16.58, 'objTime': 0.025555555555555002, 'onFire': 0.040833333333333006}},\n",
       "       {'total': {'defAssists': 39, 'rate': 62.07, 'medals': 106, 'offAssists': 22, 'bronze': 34, 'objTime': 0.7455555555555551, 'healing': 78945, 'loss': 11, 'games': 29, 'onFire': 1.191666666666666, 'kpd': 3.03, 'multikills': 9, 'timePlayed': 7, 'silver': 33, 'melee': 10, 'soloKills': 122, 'objKills': 417, 'envKills': 9, 'wins': 18, 'elims': 939, 'cards': 12, 'damageDone': 468463, 'gold': 39, 'deaths': 310, 'multikillBest': 4, 'finalBlows': 481, 'envDeaths': 2}, 'most': {'defAssists': 14, 'healing': 16985, 'damageDone': 33724, 'onFire': 0.13277777777777702, 'soloKills': 38, 'offAssists': 13, 'objKills': 33, 'elims': 67, 'melee': 3, 'finalBlows': 38, 'objTime': 0.054722222222222006}, 'average': {'healing': 2722, 'deaths': 10.68, 'soloKills': 4.2, 'objKills': 14.37, 'damageDone': 16154, 'elims': 32.37, 'melee': 0.34, 'finalBlows': 16.58, 'objTime': 0.025555555555555002, 'onFire': 0.040833333333333006}},\n",
       "       {'total': {'defAssists': 39, 'rate': 62.07, 'medals': 106, 'offAssists': 22, 'bronze': 34, 'objTime': 0.7455555555555551, 'healing': 78945, 'loss': 11, 'games': 29, 'onFire': 1.191666666666666, 'kpd': 3.03, 'multikills': 9, 'timePlayed': 7, 'silver': 33, 'melee': 10, 'soloKills': 122, 'objKills': 417, 'envKills': 9, 'wins': 18, 'elims': 939, 'cards': 12, 'damageDone': 468463, 'gold': 39, 'deaths': 310, 'multikillBest': 4, 'finalBlows': 481, 'envDeaths': 2}, 'most': {'defAssists': 14, 'healing': 16985, 'damageDone': 33724, 'onFire': 0.13277777777777702, 'soloKills': 38, 'offAssists': 13, 'objKills': 33, 'elims': 67, 'melee': 3, 'finalBlows': 38, 'objTime': 0.054722222222222006}, 'average': {'healing': 2722, 'deaths': 10.68, 'soloKills': 4.2, 'objKills': 14.37, 'damageDone': 16154, 'elims': 32.37, 'melee': 0.34, 'finalBlows': 16.58, 'objTime': 0.025555555555555002, 'onFire': 0.040833333333333006}},\n",
       "       {'total': {'defAssists': 39, 'rate': 62.07, 'medals': 106, 'offAssists': 22, 'bronze': 34, 'objTime': 0.7455555555555551, 'healing': 78945, 'loss': 11, 'games': 29, 'onFire': 1.191666666666666, 'kpd': 3.03, 'multikills': 9, 'timePlayed': 7, 'silver': 33, 'melee': 10, 'soloKills': 122, 'objKills': 417, 'envKills': 9, 'wins': 18, 'elims': 939, 'cards': 12, 'damageDone': 468463, 'gold': 39, 'deaths': 310, 'multikillBest': 4, 'finalBlows': 481, 'envDeaths': 2}, 'most': {'defAssists': 14, 'healing': 16985, 'damageDone': 33724, 'onFire': 0.13277777777777702, 'soloKills': 38, 'offAssists': 13, 'objKills': 33, 'elims': 67, 'melee': 3, 'finalBlows': 38, 'objTime': 0.054722222222222006}, 'average': {'healing': 2722, 'deaths': 10.68, 'soloKills': 4.2, 'objKills': 14.37, 'damageDone': 16154, 'elims': 32.37, 'melee': 0.34, 'finalBlows': 16.58, 'objTime': 0.025555555555555002, 'onFire': 0.040833333333333006}},\n",
       "       {'total': {'defAssists': 39, 'rate': 62.07, 'medals': 106, 'offAssists': 22, 'bronze': 34, 'objTime': 0.7455555555555551, 'healing': 78945, 'loss': 11, 'games': 29, 'onFire': 1.191666666666666, 'kpd': 3.03, 'multikills': 9, 'timePlayed': 7, 'silver': 33, 'melee': 10, 'soloKills': 122, 'objKills': 417, 'envKills': 9, 'wins': 18, 'elims': 939, 'cards': 12, 'damageDone': 468463, 'gold': 39, 'deaths': 310, 'multikillBest': 4, 'finalBlows': 481, 'envDeaths': 2}, 'most': {'defAssists': 14, 'healing': 16985, 'damageDone': 33724, 'onFire': 0.13277777777777702, 'soloKills': 38, 'offAssists': 13, 'objKills': 33, 'elims': 67, 'melee': 3, 'finalBlows': 38, 'objTime': 0.054722222222222006}, 'average': {'healing': 2722, 'deaths': 10.68, 'soloKills': 4.2, 'objKills': 14.37, 'damageDone': 16154, 'elims': 32.37, 'melee': 0.34, 'finalBlows': 16.58, 'objTime': 0.025555555555555002, 'onFire': 0.040833333333333006}},\n",
       "       {'total': {'defAssists': 39, 'rate': 62.07, 'medals': 106, 'offAssists': 22, 'bronze': 34, 'objTime': 0.7455555555555551, 'healing': 78945, 'loss': 11, 'games': 29, 'onFire': 1.191666666666666, 'kpd': 3.03, 'multikills': 9, 'timePlayed': 7, 'silver': 33, 'melee': 10, 'soloKills': 122, 'objKills': 417, 'envKills': 9, 'wins': 18, 'elims': 939, 'cards': 12, 'damageDone': 468463, 'gold': 39, 'deaths': 310, 'multikillBest': 4, 'finalBlows': 481, 'envDeaths': 2}, 'most': {'defAssists': 14, 'healing': 16985, 'damageDone': 33724, 'onFire': 0.13277777777777702, 'soloKills': 38, 'offAssists': 13, 'objKills': 33, 'elims': 67, 'melee': 3, 'finalBlows': 38, 'objTime': 0.054722222222222006}, 'average': {'healing': 2722, 'deaths': 10.68, 'soloKills': 4.2, 'objKills': 14.37, 'damageDone': 16154, 'elims': 32.37, 'melee': 0.34, 'finalBlows': 16.58, 'objTime': 0.025555555555555002, 'onFire': 0.040833333333333006}},\n",
       "       {'total': {'defAssists': 90, 'rate': 50, 'medals': 54, 'offAssists': 58, 'bronze': 14, 'objTime': 0.521944444444444, 'healing': 83797, 'loss': 10, 'games': 22, 'onFire': 0.512222222222222, 'kpd': 1.72, 'multikills': 5, 'timePlayed': 5, 'silver': 21, 'melee': 4, 'soloKills': 38, 'objKills': 231, 'envKills': 4, 'wins': 10, 'elims': 458, 'cards': 7, 'damageDone': 231508, 'gold': 19, 'deaths': 267, 'multikillBest': 4, 'finalBlows': 185, 'envDeaths': 6}, 'most': {'defAssists': 21, 'healing': 13146, 'damageDone': 28723, 'onFire': 0.08555555555555501, 'soloKills': 29, 'offAssists': 17, 'objKills': 24, 'elims': 46, 'melee': 2, 'finalBlows': 29, 'objTime': 0.056666666666666005}, 'average': {'healing': 3809, 'deaths': 12.13, 'soloKills': 1.72, 'objKills': 10.5, 'damageDone': 10523, 'elims': 20.81, 'melee': 0.18, 'finalBlows': 8.4, 'objTime': 0.023611111111111003, 'onFire': 0.023055555555555003}},\n",
       "       {'total': {'defAssists': 39, 'rate': 62.07, 'medals': 106, 'offAssists': 22, 'bronze': 34, 'objTime': 0.7455555555555551, 'healing': 78945, 'loss': 11, 'games': 29, 'onFire': 1.191666666666666, 'kpd': 3.03, 'multikills': 9, 'timePlayed': 7, 'silver': 33, 'melee': 10, 'soloKills': 122, 'objKills': 417, 'envKills': 9, 'wins': 18, 'elims': 939, 'cards': 12, 'damageDone': 468463, 'gold': 39, 'deaths': 310, 'multikillBest': 4, 'finalBlows': 481, 'envDeaths': 2}, 'most': {'defAssists': 14, 'healing': 16985, 'damageDone': 33724, 'onFire': 0.13277777777777702, 'soloKills': 38, 'offAssists': 13, 'objKills': 33, 'elims': 67, 'melee': 3, 'finalBlows': 38, 'objTime': 0.054722222222222006}, 'average': {'healing': 2722, 'deaths': 10.68, 'soloKills': 4.2, 'objKills': 14.37, 'damageDone': 16154, 'elims': 32.37, 'melee': 0.34, 'finalBlows': 16.58, 'objTime': 0.025555555555555002, 'onFire': 0.040833333333333006}},\n",
       "       {'total': {'defAssists': 39, 'rate': 62.07, 'medals': 106, 'offAssists': 22, 'bronze': 34, 'objTime': 0.7455555555555551, 'healing': 78945, 'loss': 11, 'games': 29, 'onFire': 1.191666666666666, 'kpd': 3.03, 'multikills': 9, 'timePlayed': 7, 'silver': 33, 'melee': 10, 'soloKills': 122, 'objKills': 417, 'envKills': 9, 'wins': 18, 'elims': 939, 'cards': 12, 'damageDone': 468463, 'gold': 39, 'deaths': 310, 'multikillBest': 4, 'finalBlows': 481, 'envDeaths': 2}, 'most': {'defAssists': 14, 'healing': 16985, 'damageDone': 33724, 'onFire': 0.13277777777777702, 'soloKills': 38, 'offAssists': 13, 'objKills': 33, 'elims': 67, 'melee': 3, 'finalBlows': 38, 'objTime': 0.054722222222222006}, 'average': {'healing': 2722, 'deaths': 10.68, 'soloKills': 4.2, 'objKills': 14.37, 'damageDone': 16154, 'elims': 32.37, 'melee': 0.34, 'finalBlows': 16.58, 'objTime': 0.025555555555555002, 'onFire': 0.040833333333333006}},\n",
       "       {'total': {'defAssists': 39, 'rate': 62.07, 'medals': 106, 'offAssists': 22, 'bronze': 34, 'objTime': 0.7455555555555551, 'healing': 78945, 'loss': 11, 'games': 29, 'onFire': 1.191666666666666, 'kpd': 3.03, 'multikills': 9, 'timePlayed': 7, 'silver': 33, 'melee': 10, 'soloKills': 122, 'objKills': 417, 'envKills': 9, 'wins': 18, 'elims': 939, 'cards': 12, 'damageDone': 468463, 'gold': 39, 'deaths': 310, 'multikillBest': 4, 'finalBlows': 481, 'envDeaths': 2}, 'most': {'defAssists': 14, 'healing': 16985, 'damageDone': 33724, 'onFire': 0.13277777777777702, 'soloKills': 38, 'offAssists': 13, 'objKills': 33, 'elims': 67, 'melee': 3, 'finalBlows': 38, 'objTime': 0.054722222222222006}, 'average': {'healing': 2722, 'deaths': 10.68, 'soloKills': 4.2, 'objKills': 14.37, 'damageDone': 16154, 'elims': 32.37, 'melee': 0.34, 'finalBlows': 16.58, 'objTime': 0.025555555555555002, 'onFire': 0.040833333333333006}},\n",
       "       {'total': {'defAssists': 39, 'rate': 62.07, 'medals': 106, 'offAssists': 22, 'bronze': 34, 'objTime': 0.7455555555555551, 'healing': 78945, 'loss': 11, 'games': 29, 'onFire': 1.191666666666666, 'kpd': 3.03, 'multikills': 9, 'timePlayed': 7, 'silver': 33, 'melee': 10, 'soloKills': 122, 'objKills': 417, 'envKills': 9, 'wins': 18, 'elims': 939, 'cards': 12, 'damageDone': 468463, 'gold': 39, 'deaths': 310, 'multikillBest': 4, 'finalBlows': 481, 'envDeaths': 2}, 'most': {'defAssists': 14, 'healing': 16985, 'damageDone': 33724, 'onFire': 0.13277777777777702, 'soloKills': 38, 'offAssists': 13, 'objKills': 33, 'elims': 67, 'melee': 3, 'finalBlows': 38, 'objTime': 0.054722222222222006}, 'average': {'healing': 2722, 'deaths': 10.68, 'soloKills': 4.2, 'objKills': 14.37, 'damageDone': 16154, 'elims': 32.37, 'melee': 0.34, 'finalBlows': 16.58, 'objTime': 0.025555555555555002, 'onFire': 0.040833333333333006}},\n",
       "       {'total': {'defAssists': 39, 'rate': 62.07, 'medals': 106, 'offAssists': 22, 'bronze': 34, 'objTime': 0.7455555555555551, 'healing': 78945, 'loss': 11, 'games': 29, 'onFire': 1.191666666666666, 'kpd': 3.03, 'multikills': 9, 'timePlayed': 7, 'silver': 33, 'melee': 10, 'soloKills': 122, 'objKills': 417, 'envKills': 9, 'wins': 18, 'elims': 939, 'cards': 12, 'damageDone': 468463, 'gold': 39, 'deaths': 310, 'multikillBest': 4, 'finalBlows': 481, 'envDeaths': 2}, 'most': {'defAssists': 14, 'healing': 16985, 'damageDone': 33724, 'onFire': 0.13277777777777702, 'soloKills': 38, 'offAssists': 13, 'objKills': 33, 'elims': 67, 'melee': 3, 'finalBlows': 38, 'objTime': 0.054722222222222006}, 'average': {'healing': 2722, 'deaths': 10.68, 'soloKills': 4.2, 'objKills': 14.37, 'damageDone': 16154, 'elims': 32.37, 'melee': 0.34, 'finalBlows': 16.58, 'objTime': 0.025555555555555002, 'onFire': 0.040833333333333006}}], dtype=object)"
      ]
     },
     "execution_count": 47,
     "metadata": {},
     "output_type": "execute_result"
    }
   ],
   "source": [
    "compdata.as_matrix()"
   ]
  }
 ],
 "metadata": {
  "anaconda-cloud": {},
  "kernelspec": {
   "display_name": "Python 3",
   "language": "python",
   "name": "python3"
  },
  "language_info": {
   "codemirror_mode": {
    "name": "ipython",
    "version": 3
   },
   "file_extension": ".py",
   "mimetype": "text/x-python",
   "name": "python",
   "nbconvert_exporter": "python",
   "pygments_lexer": "ipython3",
   "version": "3.6.0"
  }
 },
 "nbformat": 4,
 "nbformat_minor": 0
}
