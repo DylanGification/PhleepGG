{
 "cells": [
  {
   "cell_type": "markdown",
   "metadata": {},
   "source": [
    "# _Initialisation of Variables_"
   ]
  },
  {
   "cell_type": "markdown",
   "metadata": {},
   "source": [
    "#### Imports"
   ]
  },
  {
   "cell_type": "code",
   "execution_count": 1,
   "metadata": {
    "collapsed": true
   },
   "outputs": [],
   "source": [
    "import pandas as pd\n",
    "import numpy as np\n",
    "import statsmodels.api as sm\n",
    "import matplotlib.pyplot as plt\n",
    "from pandas.stats.api import ols\n",
    "import warnings\n",
    "warnings.filterwarnings('ignore')\n",
    "data = pd.read_json(\"LOLFullDB.json\")"
   ]
  },
  {
   "cell_type": "code",
   "execution_count": 3,
   "metadata": {
    "collapsed": false
   },
   "outputs": [
    {
     "data": {
      "text/plain": [
       "7873"
      ]
     },
     "execution_count": 3,
     "metadata": {},
     "output_type": "execute_result"
    }
   ],
   "source": [
    "data = data[pd.notnull(data['rank'])]\n",
    "len(data)"
   ]
  },
  {
   "cell_type": "markdown",
   "metadata": {},
   "source": [
    "#### Arrays"
   ]
  },
  {
   "cell_type": "code",
   "execution_count": 4,
   "metadata": {
    "collapsed": false
   },
   "outputs": [
    {
     "data": {
      "text/plain": [
       "[7873, 7873, 7873, 7873, 7873]"
      ]
     },
     "execution_count": 4,
     "metadata": {},
     "output_type": "execute_result"
    }
   ],
   "source": [
    "rank = [x for x in data['rank']] \n",
    "level = [x for x in data['level']] \n",
    "comp = [x for x in data.get('comp', {})]\n",
    "qp = [x for x in data.get('qp', {})]\n",
    "heroes = [x for x in data.get('heroes', {})]\n",
    "[len(rank), len(level), len(comp), len(qp), len(heroes)]"
   ]
  },
  {
   "cell_type": "markdown",
   "metadata": {},
   "source": [
    "#### Functions"
   ]
  },
  {
   "cell_type": "code",
   "execution_count": 5,
   "metadata": {
    "collapsed": false
   },
   "outputs": [],
   "source": [
    "def getCompWins(x):\n",
    "    b = x.get('total', {})\n",
    "    return(b.get('wins', {}))\n",
    "def getWinRate(x):\n",
    "    b = x.get('total', {})\n",
    "    return(b.get('rate', {}))\n",
    "def getAvgElims(x):\n",
    "    b = x.get('average', {})\n",
    "    return(b.get('elims', {}))\n",
    "def getTotalElims(x):\n",
    "    b = x.get('total', {})\n",
    "    return(b.get('elims', {}))\n",
    "def getMostElims(x):\n",
    "    b = x.get('most', {})\n",
    "    return(b.get('elims', {}))\n",
    "def getGames(x):\n",
    "    b = x.get('total',{})\n",
    "    return(b.get('games',{}))\n",
    "def getAna(x):\n",
    "    b = x.get('playtime',{})\n",
    "    return(b.get('ana',{}))\n",
    "def getBastion(x):\n",
    "    b = x.get('playtime',{})\n",
    "    return(b.get('bastion',{}))\n",
    "def getDva(x):\n",
    "    b = x.get('playtime',{})\n",
    "    return(b.get('dva',{}))\n",
    "def getGenji(x):\n",
    "    b = x.get('playtime',{})\n",
    "    return(b.get('genji',{}))\n",
    "def getHanzo(x):\n",
    "    b = x.get('playtime',{})\n",
    "    return(b.get('hanzo',{}))\n",
    "def getJunkrat(x):\n",
    "    b = x.get('playtime',{})\n",
    "    return(b.get('junkrat',{}))\n",
    "def getLucio(x):\n",
    "    b = x.get('playtime',{})\n",
    "    return(b.get('lucio',{}))\n",
    "def getMccree(x):\n",
    "    b = x.get('playtime',{})\n",
    "    return(b.get('mccree',{}))\n",
    "def getMei(x):\n",
    "    b = x.get('playtime',{})\n",
    "    return(b.get('mei',{}))\n",
    "def getMercy(x):\n",
    "    b = x.get('playtime',{})\n",
    "    return(b.get('mercy',{}))\n",
    "def getOrisa(x):\n",
    "    b = x.get('playtime',{})\n",
    "    return(b.get('orisa',{}))\n",
    "def getPharah(x):\n",
    "    b = x.get('playtime',{})\n",
    "    return(b.get('pharah',{}))\n",
    "def getReaper(x):\n",
    "    b = x.get('playtime',{})\n",
    "    return(b.get('reaper',{}))\n",
    "def getReinhardt(x):\n",
    "    b = x.get('playtime',{})\n",
    "    return(b.get('reinhardt',{}))\n",
    "def getRoadhog(x):\n",
    "    b = x.get('playtime',{})\n",
    "    return(b.get('roadhog',{}))\n",
    "def getSoldier76(x):\n",
    "    b = x.get('playtime',{})\n",
    "    return(b.get('soldier76',{}))\n",
    "def getSombra(x):\n",
    "    b = x.get('playtime',{})\n",
    "    return(b.get('sombra',{}))\n",
    "def getSymmetra(x):\n",
    "    b = x.get('playtime',{})\n",
    "    return(b.get('symmetra',{}))\n",
    "def getTorbjorn(x):\n",
    "    b = x.get('playtime',{})\n",
    "    return(b.get('torbjorn',{}))\n",
    "def getTracer(x):\n",
    "    b = x.get('playtime',{})\n",
    "    return(b.get('tracer',{}))\n",
    "def getWidowmaker(x):\n",
    "    b = x.get('playtime',{})\n",
    "    return(b.get('widowmaker',{}))\n",
    "def getWinston(x):\n",
    "    b = x.get('playtime',{})\n",
    "    return(b.get('winston',{}))\n",
    "def getZarya(x):\n",
    "    b = x.get('playtime',{})\n",
    "    return(b.get('zarya',{}))\n",
    "def getZenyatta(x):\n",
    "    b = x.get('playtime',{})\n",
    "    return(b.get('zenyatta',{}))\n",
    "def filterNaN(x):\n",
    "    if x < 1e100:\n",
    "        return(x)\n",
    "    else:\n",
    "        return(0)\n",
    "def filterLowRank(x):\n",
    "    if x > 0 and x < 1666:\n",
    "        return(x)\n",
    "    else:\n",
    "        return(0)\n",
    "def filterMedRank(x):\n",
    "    if x > 1666 and x < 3332:\n",
    "        return(x)\n",
    "    else:\n",
    "        return(0)\n",
    "def filterHighRank(x):\n",
    "    if x > 3332 and x < 5001:\n",
    "        return(x)\n",
    "    else:\n",
    "        return(0)\n",
    "def filterFloats(x):\n",
    "    if type(x) == float:\n",
    "        return(x)\n",
    "    else:\n",
    "        return(0)\n",
    "def filterInts(x):\n",
    "    if type(x) == int:\n",
    "        return(x)\n",
    "    else:\n",
    "        return(0)"
   ]
  },
  {
   "cell_type": "markdown",
   "metadata": {},
   "source": [
    "#### Parameters"
   ]
  },
  {
   "cell_type": "code",
   "execution_count": 6,
   "metadata": {
    "collapsed": false
   },
   "outputs": [],
   "source": [
    "compWins = [getCompWins(x) for x in  comp]\n",
    "qpGames = [getGames(x) for x in  qp]\n",
    "anaHours = [getAna(x) for x in heroes]\n",
    "bastionHours = [getBastion(x) for x in heroes]\n",
    "dvaHours = [getDva(x) for x in heroes]\n",
    "genjiHours = [getGenji(x) for x in heroes]\n",
    "hanzoHours = [getHanzo(x) for x in heroes]\n",
    "junkratHours = [getJunkrat(x) for x in heroes]\n",
    "lucioHours = [getLucio(x) for x in heroes]\n",
    "mccreeHours = [getMccree(x) for x in heroes]\n",
    "meiHours = [getMei(x) for x in heroes]\n",
    "mercyHours = [getMercy(x) for x in heroes]\n",
    "orisaHours = [getOrisa(x) for x in heroes]\n",
    "pharahHours = [getPharah(x) for x in heroes]\n",
    "reaperHours = [getReaper(x) for x in heroes]\n",
    "reinhardtHours = [getReinhardt(x) for x in heroes]\n",
    "roadhogHours = [getRoadhog(x) for x in heroes]\n",
    "soldier76Hours = [getSoldier76(x) for x in heroes]\n",
    "sombraHours = [getSombra(x) for x in heroes]\n",
    "symmetraHours = [getSymmetra(x) for x in heroes]\n",
    "torbjornHours = [getTorbjorn(x) for x in heroes]\n",
    "tracerHours = [getTracer(x) for x in heroes]\n",
    "widowmakerHours = [getWidowmaker(x) for x in heroes]\n",
    "winstonHours = [getWinston(x) for x in heroes]\n",
    "zaryaHours = [getZarya(x) for x in heroes]\n",
    "zenyattaHours = [getZenyatta(x) for x in heroes]\n",
    "rank=[filterNaN(x) for x in rank]\n",
    "levelFiltered= [filterNaN(x) for x in level]\n",
    "lowRank = [filterLowRank(x) for x in rank]\n",
    "medRank = [filterMedRank(x) for x in rank]\n",
    "highRank = [filterHighRank(x) for x in rank]\n",
    "avg = [getAvgElims(x) for x in comp]\n",
    "total = [getTotalElims(x) for x in comp]\n",
    "most = [getMostElims(x) for x in comp]\n",
    "avgElims = [filterFloats(x) for x in avg]\n",
    "totalElims = [filterInts(x) for x in total]\n",
    "mostElims = [filterInts(x) for x in most]\n",
    "winRate = [getWinRate(x) for x in comp]"
   ]
  },
  {
   "cell_type": "code",
   "execution_count": 8,
   "metadata": {
    "collapsed": false
   },
   "outputs": [
    {
     "data": {
      "text/plain": [
       "\n",
       "-------------------------Summary of Regression Analysis-------------------------\n",
       "\n",
       "Formula: Y ~ <Level> + <Comp Wins> + <Quick Games> + <Ana> + <Bastion> + <D.Va>\n",
       "             + <Genji> + <Hanzo> + <Junkrat> + <Lucio> + <McCree> + <Mei>\n",
       "             + <Mercy> + <Orisa> + <Pharah> + <Reaper> + <Reinhardt> + <Roadhog>\n",
       "             + <Soldier76> + <Sombra> + <Symmetra> + <Torbjorn> + <Tracer>\n",
       "             + <Widowmaker> + <Winston> + <Zarya> + <Zenyatta> + <intercept>\n",
       "\n",
       "Number of Observations:         7870\n",
       "Number of Degrees of Freedom:   28\n",
       "\n",
       "R-squared:         0.2326\n",
       "Adj R-squared:     0.2300\n",
       "\n",
       "Rmse:           1159.9396\n",
       "\n",
       "F-stat (27, 7842):    88.0530, p-value:     0.0000\n",
       "\n",
       "Degrees of Freedom: model 27, resid 7842\n",
       "\n",
       "-----------------------Summary of Estimated Coefficients------------------------\n",
       "      Variable       Coef    Std Err     t-stat    p-value    CI 2.5%   CI 97.5%\n",
       "--------------------------------------------------------------------------------\n",
       "         Level    -0.4520     0.4642      -0.97     0.3303    -1.3618     0.4579\n",
       "     Comp Wins     4.0238     0.7309       5.51     0.0000     2.5912     5.4564\n",
       "   Quick Games     0.7088     0.2249       3.15     0.0016     0.2681     1.1495\n",
       "           Ana     6.2275     2.3451       2.66     0.0079     1.6311    10.8239\n",
       "       Bastion    -1.3552     3.3190      -0.41     0.6831    -7.8603     5.1500\n",
       "--------------------------------------------------------------------------------\n",
       "          D.Va    -7.4722     2.0624      -3.62     0.0003   -11.5145    -3.4299\n",
       "         Genji     2.2586     1.9219       1.18     0.2400    -1.5083     6.0256\n",
       "         Hanzo    -2.2140     2.2461      -0.99     0.3243    -6.6165     2.1884\n",
       "       Junkrat   -14.6296     2.2933      -6.38     0.0000   -19.1245   -10.1348\n",
       "         Lucio    -9.8265     1.9875      -4.94     0.0000   -13.7220    -5.9311\n",
       "--------------------------------------------------------------------------------\n",
       "        McCree    10.0128     2.3052       4.34     0.0000     5.4946    14.5311\n",
       "           Mei     0.7309     2.8191       0.26     0.7954    -4.7945     6.2564\n",
       "         Mercy    -2.8258     1.8143      -1.56     0.1194    -6.3819     0.7303\n",
       "         Orisa     9.8645    21.4646       0.46     0.6458   -32.2061    51.9351\n",
       "        Pharah    -4.5233     2.1198      -2.13     0.0329    -8.6781    -0.3686\n",
       "--------------------------------------------------------------------------------\n",
       "        Reaper   -16.4491     2.3986      -6.86     0.0000   -21.1505   -11.7478\n",
       "     Reinhardt    -3.9255     2.1737      -1.81     0.0710    -8.1860     0.3351\n",
       "       Roadhog     6.2024     2.1809       2.84     0.0045     1.9279    10.4769\n",
       "     Soldier76    -5.0448     2.2289      -2.26     0.0236    -9.4134    -0.6761\n",
       "        Sombra    -1.1870     3.4498      -0.34     0.7308    -7.9487     5.5747\n",
       "--------------------------------------------------------------------------------\n",
       "      Symmetra    -7.8255     2.5599      -3.06     0.0022   -12.8429    -2.8081\n",
       "      Torbjorn   -14.8063     2.7577      -5.37     0.0000   -20.2114    -9.4011\n",
       "        Tracer     3.0980     2.0343       1.52     0.1278    -0.8893     7.0853\n",
       "    Widowmaker    -0.8882     2.1292      -0.42     0.6766    -5.0614     3.2850\n",
       "       Winston     1.1421     3.4443       0.33     0.7402    -5.6088     7.8930\n",
       "--------------------------------------------------------------------------------\n",
       "         Zarya     2.3474     2.2440       1.05     0.2956    -2.0509     6.7457\n",
       "      Zenyatta    -6.1863     2.4545      -2.52     0.0117   -10.9971    -1.3755\n",
       "     intercept  2087.9565    35.5143      58.79     0.0000  2018.3484  2157.5647\n",
       "---------------------------------End of Summary---------------------------------"
      ]
     },
     "execution_count": 8,
     "metadata": {},
     "output_type": "execute_result"
    }
   ],
   "source": [
    "df = pd.DataFrame({\"Rank\": rank, \"Level\": level, \"Comp Wins\": compWins, \"Quick Games\": qpGames, \"Ana\": anaHours, \"Bastion\": bastionHours, \"D.Va\": dvaHours, \"Genji\": genjiHours, \"Hanzo\": hanzoHours, \"Junkrat\": junkratHours, \"Lucio\": lucioHours, \"McCree\": mccreeHours, \"Mei\": meiHours, \"Mercy\": mercyHours, \"Orisa\": orisaHours, \"Pharah\": pharahHours, \"Reaper\": reaperHours, \"Reinhardt\": reinhardtHours, \"Roadhog\": roadhogHours, \"Soldier76\": soldier76Hours, \"Sombra\": sombraHours, \"Symmetra\": symmetraHours, \"Torbjorn\": torbjornHours, \"Tracer\": tracerHours, \"Widowmaker\": widowmakerHours, \"Winston\": winstonHours, \"Zarya\": zaryaHours, \"Zenyatta\": zenyattaHours})\n",
    "res = ols(y = df['Rank'], x = df[['Level','Comp Wins', 'Quick Games', 'Ana', 'Bastion', 'D.Va', 'Genji', 'Hanzo', 'Junkrat', 'Lucio', 'McCree', 'Mei', 'Mercy', 'Orisa', 'Pharah', 'Reaper', 'Reinhardt', 'Roadhog', 'Soldier76', 'Sombra', 'Symmetra', 'Torbjorn', 'Tracer', 'Widowmaker', 'Winston', 'Zarya', 'Zenyatta']])\n",
    "res"
   ]
  },
  {
   "cell_type": "markdown",
   "metadata": {},
   "source": [
    "# Analytics"
   ]
  },
  {
   "cell_type": "markdown",
   "metadata": {},
   "source": [
    "## Sample size of 8630 players"
   ]
  },
  {
   "cell_type": "markdown",
   "metadata": {},
   "source": [
    "### MLS Fit for all set of parameters"
   ]
  },
  {
   "cell_type": "code",
   "execution_count": 7,
   "metadata": {
    "collapsed": false,
    "scrolled": false
   },
   "outputs": [
    {
     "data": {
      "text/plain": [
       "\n",
       "-------------------------Summary of Regression Analysis-------------------------\n",
       "\n",
       "Formula: Y ~ <Level> + <Comp Wins> + <Quick Games> + <Ana> + <Bastion> + <D.Va>\n",
       "             + <Genji> + <Hanzo> + <Junkrat> + <Lucio> + <McCree> + <Mei>\n",
       "             + <Mercy> + <Orisa> + <Pharah> + <Reaper> + <Reinhardt> + <Roadhog>\n",
       "             + <Soldier76> + <Sombra> + <Symmetra> + <Torbjorn> + <Tracer>\n",
       "             + <Widowmaker> + <Winston> + <Zarya> + <Zenyatta> + <intercept>\n",
       "\n",
       "Number of Observations:         7870\n",
       "Number of Degrees of Freedom:   28\n",
       "\n",
       "R-squared:         0.2326\n",
       "Adj R-squared:     0.2300\n",
       "\n",
       "Rmse:           1159.9396\n",
       "\n",
       "F-stat (27, 7842):    88.0530, p-value:     0.0000\n",
       "\n",
       "Degrees of Freedom: model 27, resid 7842\n",
       "\n",
       "-----------------------Summary of Estimated Coefficients------------------------\n",
       "      Variable       Coef    Std Err     t-stat    p-value    CI 2.5%   CI 97.5%\n",
       "--------------------------------------------------------------------------------\n",
       "         Level    -0.4520     0.4642      -0.97     0.3303    -1.3618     0.4579\n",
       "     Comp Wins     4.0238     0.7309       5.51     0.0000     2.5912     5.4564\n",
       "   Quick Games     0.7088     0.2249       3.15     0.0016     0.2681     1.1495\n",
       "           Ana     6.2275     2.3451       2.66     0.0079     1.6311    10.8239\n",
       "       Bastion    -1.3552     3.3190      -0.41     0.6831    -7.8603     5.1500\n",
       "--------------------------------------------------------------------------------\n",
       "          D.Va    -7.4722     2.0624      -3.62     0.0003   -11.5145    -3.4299\n",
       "         Genji     2.2586     1.9219       1.18     0.2400    -1.5083     6.0256\n",
       "         Hanzo    -2.2140     2.2461      -0.99     0.3243    -6.6165     2.1884\n",
       "       Junkrat   -14.6296     2.2933      -6.38     0.0000   -19.1245   -10.1348\n",
       "         Lucio    -9.8265     1.9875      -4.94     0.0000   -13.7220    -5.9311\n",
       "--------------------------------------------------------------------------------\n",
       "        McCree    10.0128     2.3052       4.34     0.0000     5.4946    14.5311\n",
       "           Mei     0.7309     2.8191       0.26     0.7954    -4.7945     6.2564\n",
       "         Mercy    -2.8258     1.8143      -1.56     0.1194    -6.3819     0.7303\n",
       "         Orisa     9.8645    21.4646       0.46     0.6458   -32.2061    51.9351\n",
       "        Pharah    -4.5233     2.1198      -2.13     0.0329    -8.6781    -0.3686\n",
       "--------------------------------------------------------------------------------\n",
       "        Reaper   -16.4491     2.3986      -6.86     0.0000   -21.1505   -11.7478\n",
       "     Reinhardt    -3.9255     2.1737      -1.81     0.0710    -8.1860     0.3351\n",
       "       Roadhog     6.2024     2.1809       2.84     0.0045     1.9279    10.4769\n",
       "     Soldier76    -5.0448     2.2289      -2.26     0.0236    -9.4134    -0.6761\n",
       "        Sombra    -1.1870     3.4498      -0.34     0.7308    -7.9487     5.5747\n",
       "--------------------------------------------------------------------------------\n",
       "      Symmetra    -7.8255     2.5599      -3.06     0.0022   -12.8429    -2.8081\n",
       "      Torbjorn   -14.8063     2.7577      -5.37     0.0000   -20.2114    -9.4011\n",
       "        Tracer     3.0980     2.0343       1.52     0.1278    -0.8893     7.0853\n",
       "    Widowmaker    -0.8882     2.1292      -0.42     0.6766    -5.0614     3.2850\n",
       "       Winston     1.1421     3.4443       0.33     0.7402    -5.6088     7.8930\n",
       "--------------------------------------------------------------------------------\n",
       "         Zarya     2.3474     2.2440       1.05     0.2956    -2.0509     6.7457\n",
       "      Zenyatta    -6.1863     2.4545      -2.52     0.0117   -10.9971    -1.3755\n",
       "     intercept  2087.9565    35.5143      58.79     0.0000  2018.3484  2157.5647\n",
       "---------------------------------End of Summary---------------------------------"
      ]
     },
     "execution_count": 7,
     "metadata": {},
     "output_type": "execute_result"
    }
   ],
   "source": [
    "df = pd.DataFrame({\"Rank\": rank, \"Level\": level, \"Comp Wins\": compWins, \"Quick Games\": qpGames, \"Ana\": anaHours, \"Bastion\": bastionHours, \"D.Va\": dvaHours, \"Genji\": genjiHours, \"Hanzo\": hanzoHours, \"Junkrat\": junkratHours, \"Lucio\": lucioHours, \"McCree\": mccreeHours, \"Mei\": meiHours, \"Mercy\": mercyHours, \"Orisa\": orisaHours, \"Pharah\": pharahHours, \"Reaper\": reaperHours, \"Reinhardt\": reinhardtHours, \"Roadhog\": roadhogHours, \"Soldier76\": soldier76Hours, \"Sombra\": sombraHours, \"Symmetra\": symmetraHours, \"Torbjorn\": torbjornHours, \"Tracer\": tracerHours, \"Widowmaker\": widowmakerHours, \"Winston\": winstonHours, \"Zarya\": zaryaHours, \"Zenyatta\": zenyattaHours})\n",
    "res = ols(y = df['Rank'], x = df[['Level','Comp Wins', 'Quick Games', 'Ana', 'Bastion', 'D.Va', 'Genji', 'Hanzo', 'Junkrat', 'Lucio', 'McCree', 'Mei', 'Mercy', 'Orisa', 'Pharah', 'Reaper', 'Reinhardt', 'Roadhog', 'Soldier76', 'Sombra', 'Symmetra', 'Torbjorn', 'Tracer', 'Widowmaker', 'Winston', 'Zarya', 'Zenyatta']])\n",
    "res"
   ]
  },
  {
   "cell_type": "markdown",
   "metadata": {},
   "source": [
    "#### MLS Fit for Competitive Games and All Heroes (minus Orisa/Quickplay)"
   ]
  },
  {
   "cell_type": "code",
   "execution_count": 8,
   "metadata": {
    "collapsed": false,
    "scrolled": false
   },
   "outputs": [
    {
     "data": {
      "text/plain": [
       "\n",
       "-------------------------Summary of Regression Analysis-------------------------\n",
       "\n",
       "Formula: Y ~ <Comp Wins> + <Ana> + <Bastion> + <D.Va> + <Genji> + <Hanzo>\n",
       "             + <Junkrat> + <Lucio> + <McCree> + <Mei> + <Mercy> + <Pharah> + <Reaper>\n",
       "             + <Reinhardt> + <Roadhog> + <Soldier76> + <Sombra> + <Symmetra>\n",
       "             + <Torbjorn> + <Tracer> + <Widowmaker> + <Winston> + <Zarya> + <Zenyatta>\n",
       "             + <intercept>\n",
       "\n",
       "Number of Observations:         7870\n",
       "Number of Degrees of Freedom:   25\n",
       "\n",
       "R-squared:         0.2315\n",
       "Adj R-squared:     0.2292\n",
       "\n",
       "Rmse:           1160.5743\n",
       "\n",
       "F-stat (24, 7845):    98.4691, p-value:     0.0000\n",
       "\n",
       "Degrees of Freedom: model 24, resid 7845\n",
       "\n",
       "-----------------------Summary of Estimated Coefficients------------------------\n",
       "      Variable       Coef    Std Err     t-stat    p-value    CI 2.5%   CI 97.5%\n",
       "--------------------------------------------------------------------------------\n",
       "     Comp Wins     1.8128     0.2220       8.17     0.0000     1.3777     2.2480\n",
       "           Ana    11.8473     1.5455       7.67     0.0000     8.8180    14.8765\n",
       "       Bastion     4.5862     2.7488       1.67     0.0953    -0.8015     9.9739\n",
       "          D.Va    -1.8431     1.0732      -1.72     0.0860    -3.9466     0.2605\n",
       "         Genji     7.8673     0.7269      10.82     0.0000     6.4426     9.2921\n",
       "--------------------------------------------------------------------------------\n",
       "         Hanzo     3.3527     1.4120       2.37     0.0176     0.5852     6.1202\n",
       "       Junkrat    -9.0719     1.4711      -6.17     0.0000   -11.9552    -6.1886\n",
       "         Lucio    -4.3774     0.9740      -4.49     0.0000    -6.2865    -2.4684\n",
       "        McCree    16.1664     1.2260      13.19     0.0000    13.7635    18.5694\n",
       "           Mei     6.4568     2.1566       2.99     0.0028     2.2299    10.6836\n",
       "--------------------------------------------------------------------------------\n",
       "         Mercy     2.6798     0.4891       5.48     0.0000     1.7212     3.6385\n",
       "        Pharah     1.1240     1.1370       0.99     0.3229    -1.1046     3.3526\n",
       "        Reaper   -10.8676     1.6303      -6.67     0.0000   -14.0630    -7.6723\n",
       "     Reinhardt     1.5749     1.3334       1.18     0.2376    -1.0386     4.1884\n",
       "       Roadhog    11.8586     1.2789       9.27     0.0000     9.3520    14.3652\n",
       "--------------------------------------------------------------------------------\n",
       "     Soldier76     0.5599     1.3496       0.41     0.6783    -2.0853     3.2051\n",
       "        Sombra     4.3221     3.0108       1.44     0.1512    -1.5791    10.2233\n",
       "      Symmetra    -2.2872     1.8945      -1.21     0.2274    -6.0005     1.4261\n",
       "      Torbjorn    -9.2162     2.1127      -4.36     0.0000   -13.3571    -5.0753\n",
       "        Tracer     8.5667     1.0386       8.25     0.0000     6.5311    10.6023\n",
       "--------------------------------------------------------------------------------\n",
       "    Widowmaker     4.8999     1.0608       4.62     0.0000     2.8207     6.9792\n",
       "       Winston     7.0895     2.9003       2.44     0.0145     1.4049    12.7741\n",
       "         Zarya     8.0909     1.3296       6.09     0.0000     5.4848    10.6970\n",
       "      Zenyatta    -0.5345     1.6852      -0.32     0.7511    -3.8375     2.7684\n",
       "     intercept  2101.2480    23.0972      90.97     0.0000  2055.9776  2146.5184\n",
       "---------------------------------End of Summary---------------------------------"
      ]
     },
     "execution_count": 8,
     "metadata": {},
     "output_type": "execute_result"
    }
   ],
   "source": [
    "df = pd.DataFrame({\"Rank\": rank, \"Comp Wins\": compWins, \"Ana\": anaHours, \"Bastion\": bastionHours, \"D.Va\": dvaHours, \"Genji\": genjiHours, \"Hanzo\": hanzoHours, \"Junkrat\": junkratHours, \"Lucio\": lucioHours, \"McCree\": mccreeHours, \"Mei\": meiHours, \"Mercy\": mercyHours, \"Pharah\": pharahHours, \"Reaper\": reaperHours, \"Reinhardt\": reinhardtHours, \"Roadhog\": roadhogHours, \"Soldier76\": soldier76Hours, \"Sombra\": sombraHours, \"Symmetra\": symmetraHours, \"Torbjorn\": torbjornHours, \"Tracer\": tracerHours, \"Widowmaker\": widowmakerHours, \"Winston\": winstonHours, \"Zarya\": zaryaHours, \"Zenyatta\": zenyattaHours})\n",
    "res = ols(y = df['Rank'], x = df[['Comp Wins', 'Ana', 'Bastion', 'D.Va', 'Genji', 'Hanzo', 'Junkrat', 'Lucio', 'McCree', 'Mei', 'Mercy', 'Pharah', 'Reaper', 'Reinhardt', 'Roadhog', 'Soldier76', 'Sombra', 'Symmetra', 'Torbjorn', 'Tracer', 'Widowmaker', 'Winston', 'Zarya', 'Zenyatta']])\n",
    "res"
   ]
  },
  {
   "cell_type": "markdown",
   "metadata": {},
   "source": [
    "#### MLS Fit for Low Ranked Players 0 - 1666 SR"
   ]
  },
  {
   "cell_type": "code",
   "execution_count": 9,
   "metadata": {
    "collapsed": false
   },
   "outputs": [
    {
     "data": {
      "text/plain": [
       "\n",
       "-------------------------Summary of Regression Analysis-------------------------\n",
       "\n",
       "Formula: Y ~ <Comp Wins> + <Ana> + <Bastion> + <D.Va> + <Genji> + <Hanzo>\n",
       "             + <Junkrat> + <Lucio> + <McCree> + <Mei> + <Mercy> + <Pharah> + <Reaper>\n",
       "             + <Reinhardt> + <Roadhog> + <Soldier76> + <Sombra> + <Symmetra>\n",
       "             + <Torbjorn> + <Tracer> + <Widowmaker> + <Winston> + <Zarya> + <Zenyatta>\n",
       "             + <intercept>\n",
       "\n",
       "Number of Observations:         7870\n",
       "Number of Degrees of Freedom:   25\n",
       "\n",
       "R-squared:         0.0607\n",
       "Adj R-squared:     0.0579\n",
       "\n",
       "Rmse:            382.7377\n",
       "\n",
       "F-stat (24, 7845):    21.1387, p-value:     0.0000\n",
       "\n",
       "Degrees of Freedom: model 24, resid 7845\n",
       "\n",
       "-----------------------Summary of Estimated Coefficients------------------------\n",
       "      Variable       Coef    Std Err     t-stat    p-value    CI 2.5%   CI 97.5%\n",
       "--------------------------------------------------------------------------------\n",
       "     Comp Wins    -0.4124     0.0732      -5.63     0.0000    -0.5559    -0.2689\n",
       "           Ana     0.2039     0.5097       0.40     0.6891    -0.7951     1.2029\n",
       "       Bastion     1.0935     0.9065       1.21     0.2277    -0.6833     2.8703\n",
       "          D.Va     1.8390     0.3539       5.20     0.0000     1.1453     2.5327\n",
       "         Genji    -0.8122     0.2397      -3.39     0.0007    -1.2820    -0.3423\n",
       "--------------------------------------------------------------------------------\n",
       "         Hanzo    -0.4495     0.4657      -0.97     0.3344    -1.3622     0.4631\n",
       "       Junkrat     2.4632     0.4851       5.08     0.0000     1.5124     3.4141\n",
       "         Lucio    -0.0544     0.3212      -0.17     0.8655    -0.6840     0.5752\n",
       "        McCree    -2.2380     0.4043      -5.54     0.0000    -3.0304    -1.4455\n",
       "           Mei    -1.4594     0.7112      -2.05     0.0402    -2.8533    -0.0654\n",
       "--------------------------------------------------------------------------------\n",
       "         Mercy    -0.5015     0.1613      -3.11     0.0019    -0.8177    -0.1854\n",
       "        Pharah    -0.3590     0.3750      -0.96     0.3384    -1.0939     0.3760\n",
       "        Reaper    -1.3405     0.5376      -2.49     0.0127    -2.3943    -0.2868\n",
       "     Reinhardt    -0.4657     0.4397      -1.06     0.2897    -1.3275     0.3962\n",
       "       Roadhog    -1.3491     0.4218      -3.20     0.0014    -2.1758    -0.5225\n",
       "--------------------------------------------------------------------------------\n",
       "     Soldier76     0.6024     0.4451       1.35     0.1760    -0.2700     1.4747\n",
       "        Sombra    -0.2526     0.9929      -0.25     0.7992    -2.1987     1.6935\n",
       "      Symmetra     0.1097     0.6248       0.18     0.8606    -1.1148     1.3343\n",
       "      Torbjorn    -0.9654     0.6967      -1.39     0.1659    -2.3310     0.4002\n",
       "        Tracer    -1.9572     0.3425      -5.71     0.0000    -2.6285    -1.2859\n",
       "--------------------------------------------------------------------------------\n",
       "    Widowmaker    -0.6036     0.3498      -1.73     0.0845    -1.2893     0.0820\n",
       "       Winston    -1.9281     0.9565      -2.02     0.0438    -3.8028    -0.0535\n",
       "         Zarya    -1.3318     0.4385      -3.04     0.0024    -2.1912    -0.4724\n",
       "      Zenyatta     0.0929     0.5558       0.17     0.8673    -0.9964     1.1822\n",
       "     intercept   237.2287     7.6171      31.14     0.0000   222.2992   252.1581\n",
       "---------------------------------End of Summary---------------------------------"
      ]
     },
     "execution_count": 9,
     "metadata": {},
     "output_type": "execute_result"
    }
   ],
   "source": [
    "df = pd.DataFrame({\"Rank\": lowRank, \"Comp Wins\": compWins, \"Ana\": anaHours, \"Bastion\": bastionHours, \"D.Va\": dvaHours, \"Genji\": genjiHours, \"Hanzo\": hanzoHours, \"Junkrat\": junkratHours, \"Lucio\": lucioHours, \"McCree\": mccreeHours, \"Mei\": meiHours, \"Mercy\": mercyHours, \"Pharah\": pharahHours, \"Reaper\": reaperHours, \"Reinhardt\": reinhardtHours, \"Roadhog\": roadhogHours, \"Soldier76\": soldier76Hours, \"Sombra\": sombraHours, \"Symmetra\": symmetraHours, \"Torbjorn\": torbjornHours, \"Tracer\": tracerHours, \"Widowmaker\": widowmakerHours, \"Winston\": winstonHours, \"Zarya\": zaryaHours, \"Zenyatta\": zenyattaHours})\n",
    "res = ols(y = df['Rank'], x = df[['Comp Wins', 'Ana', 'Bastion', 'D.Va', 'Genji', 'Hanzo', 'Junkrat', 'Lucio', 'McCree', 'Mei', 'Mercy', 'Pharah', 'Reaper', 'Reinhardt', 'Roadhog', 'Soldier76', 'Sombra', 'Symmetra', 'Torbjorn', 'Tracer', 'Widowmaker', 'Winston', 'Zarya', 'Zenyatta']])\n",
    "res"
   ]
  },
  {
   "cell_type": "markdown",
   "metadata": {},
   "source": [
    "#### MLS Fit for Medium Ranked Players 1666 - 3332 SR"
   ]
  },
  {
   "cell_type": "code",
   "execution_count": 10,
   "metadata": {
    "collapsed": false
   },
   "outputs": [
    {
     "data": {
      "text/plain": [
       "\n",
       "-------------------------Summary of Regression Analysis-------------------------\n",
       "\n",
       "Formula: Y ~ <Comp Wins> + <Ana> + <Bastion> + <D.Va> + <Genji> + <Hanzo>\n",
       "             + <Junkrat> + <Lucio> + <McCree> + <Mei> + <Mercy> + <Pharah> + <Reaper>\n",
       "             + <Reinhardt> + <Roadhog> + <Soldier76> + <Sombra> + <Symmetra>\n",
       "             + <Torbjorn> + <Tracer> + <Widowmaker> + <Winston> + <Zarya> + <Zenyatta>\n",
       "             + <intercept>\n",
       "\n",
       "Number of Observations:         7870\n",
       "Number of Degrees of Freedom:   25\n",
       "\n",
       "R-squared:         0.0864\n",
       "Adj R-squared:     0.0836\n",
       "\n",
       "Rmse:           1229.7668\n",
       "\n",
       "F-stat (24, 7845):    30.9214, p-value:     0.0000\n",
       "\n",
       "Degrees of Freedom: model 24, resid 7845\n",
       "\n",
       "-----------------------Summary of Estimated Coefficients------------------------\n",
       "      Variable       Coef    Std Err     t-stat    p-value    CI 2.5%   CI 97.5%\n",
       "--------------------------------------------------------------------------------\n",
       "     Comp Wins    -1.9140     0.2352      -8.14     0.0000    -2.3750    -1.4529\n",
       "           Ana     4.4979     1.6377       2.75     0.0060     1.2880     7.7077\n",
       "       Bastion     8.2434     2.9127       2.83     0.0047     2.5345    13.9523\n",
       "          D.Va     5.7805     1.1372       5.08     0.0000     3.5516     8.0094\n",
       "         Genji    -4.1078     0.7702      -5.33     0.0000    -5.6174    -2.5981\n",
       "--------------------------------------------------------------------------------\n",
       "         Hanzo     2.3268     1.4962       1.56     0.1199    -0.6057     5.2593\n",
       "       Junkrat     2.7787     1.5588       1.78     0.0747    -0.2765     5.8339\n",
       "         Lucio    -2.4478     1.0321      -2.37     0.0177    -4.4707    -0.4249\n",
       "        McCree   -11.4782     1.2991      -8.84     0.0000   -14.0244    -8.9320\n",
       "           Mei     1.2401     2.2851       0.54     0.5874    -3.2388     5.7189\n",
       "--------------------------------------------------------------------------------\n",
       "         Mercy    -3.1541     0.5183      -6.09     0.0000    -4.1699    -2.1382\n",
       "        Pharah    -2.0997     1.2048      -1.74     0.0814    -4.4612     0.2618\n",
       "        Reaper     1.4412     1.7275       0.83     0.4041    -1.9446     4.8271\n",
       "     Reinhardt     7.8135     1.4129       5.53     0.0000     5.0442    10.5828\n",
       "       Roadhog    -6.3360     1.3551      -4.68     0.0000    -8.9920    -3.6800\n",
       "--------------------------------------------------------------------------------\n",
       "     Soldier76     1.3807     1.4301       0.97     0.3343    -1.4223     4.1836\n",
       "        Sombra    17.2410     3.1903       5.40     0.0000    10.9880    23.4940\n",
       "      Symmetra     3.3530     2.0075       1.67     0.0949    -0.5816     7.2877\n",
       "      Torbjorn    -7.4256     2.2387      -3.32     0.0009   -11.8134    -3.0379\n",
       "        Tracer    -4.8701     1.1005      -4.43     0.0000    -7.0271    -2.7131\n",
       "--------------------------------------------------------------------------------\n",
       "    Widowmaker    -6.8672     1.1241      -6.11     0.0000    -9.0703    -4.6640\n",
       "       Winston   -13.2531     3.0732      -4.31     0.0000   -19.2766    -7.2296\n",
       "         Zarya    -3.5868     1.4089      -2.55     0.0109    -6.3482    -0.8253\n",
       "      Zenyatta     8.3514     1.7857       4.68     0.0000     4.8515    11.8513\n",
       "     intercept  1384.3714    24.4742      56.56     0.0000  1336.4020  1432.3409\n",
       "---------------------------------End of Summary---------------------------------"
      ]
     },
     "execution_count": 10,
     "metadata": {},
     "output_type": "execute_result"
    }
   ],
   "source": [
    "df = pd.DataFrame({\"Rank\": medRank, \"Comp Wins\": compWins, \"Ana\": anaHours, \"Bastion\": bastionHours, \"D.Va\": dvaHours, \"Genji\": genjiHours, \"Hanzo\": hanzoHours, \"Junkrat\": junkratHours, \"Lucio\": lucioHours, \"McCree\": mccreeHours, \"Mei\": meiHours, \"Mercy\": mercyHours, \"Pharah\": pharahHours, \"Reaper\": reaperHours, \"Reinhardt\": reinhardtHours, \"Roadhog\": roadhogHours, \"Soldier76\": soldier76Hours, \"Sombra\": sombraHours, \"Symmetra\": symmetraHours, \"Torbjorn\": torbjornHours, \"Tracer\": tracerHours, \"Widowmaker\": widowmakerHours, \"Winston\": winstonHours, \"Zarya\": zaryaHours, \"Zenyatta\": zenyattaHours})\n",
    "res = ols(y = df['Rank'], x = df[['Comp Wins', 'Ana', 'Bastion', 'D.Va', 'Genji', 'Hanzo', 'Junkrat', 'Lucio', 'McCree', 'Mei', 'Mercy', 'Pharah', 'Reaper', 'Reinhardt', 'Roadhog', 'Soldier76', 'Sombra', 'Symmetra', 'Torbjorn', 'Tracer', 'Widowmaker', 'Winston', 'Zarya', 'Zenyatta']])\n",
    "res"
   ]
  },
  {
   "cell_type": "markdown",
   "metadata": {},
   "source": [
    "#### MLS Fit for High Ranked Players 3332 - 5000 SR"
   ]
  },
  {
   "cell_type": "code",
   "execution_count": 11,
   "metadata": {
    "collapsed": false,
    "scrolled": true
   },
   "outputs": [
    {
     "data": {
      "text/plain": [
       "\n",
       "-------------------------Summary of Regression Analysis-------------------------\n",
       "\n",
       "Formula: Y ~ <Comp Wins> + <Ana> + <Bastion> + <D.Va> + <Genji> + <Hanzo>\n",
       "             + <Junkrat> + <Lucio> + <McCree> + <Mei> + <Mercy> + <Pharah> + <Reaper>\n",
       "             + <Reinhardt> + <Roadhog> + <Soldier76> + <Sombra> + <Symmetra>\n",
       "             + <Torbjorn> + <Tracer> + <Widowmaker> + <Winston> + <Zarya> + <Zenyatta>\n",
       "             + <intercept>\n",
       "\n",
       "Number of Observations:         7870\n",
       "Number of Degrees of Freedom:   25\n",
       "\n",
       "R-squared:         0.2819\n",
       "Adj R-squared:     0.2797\n",
       "\n",
       "Rmse:           1673.1881\n",
       "\n",
       "F-stat (24, 7845):   128.3151, p-value:     0.0000\n",
       "\n",
       "Degrees of Freedom: model 24, resid 7845\n",
       "\n",
       "-----------------------Summary of Estimated Coefficients------------------------\n",
       "      Variable       Coef    Std Err     t-stat    p-value    CI 2.5%   CI 97.5%\n",
       "--------------------------------------------------------------------------------\n",
       "     Comp Wins     4.1392     0.3201      12.93     0.0000     3.5118     4.7665\n",
       "           Ana     7.1455     2.2282       3.21     0.0013     2.7782    11.5127\n",
       "       Bastion    -4.7508     3.9630      -1.20     0.2306   -12.5182     3.0167\n",
       "          D.Va    -9.4626     1.5473      -6.12     0.0000   -12.4952    -6.4299\n",
       "         Genji    12.7873     1.0480      12.20     0.0000    10.7333    14.8413\n",
       "--------------------------------------------------------------------------------\n",
       "         Hanzo     1.4755     2.0357       0.72     0.4686    -2.5144     5.4653\n",
       "       Junkrat   -14.3138     2.1208      -6.75     0.0000   -18.4706   -10.1570\n",
       "         Lucio    -1.8752     1.4042      -1.34     0.1818    -4.6275     0.8771\n",
       "        McCree    29.8826     1.7675      16.91     0.0000    26.4183    33.3469\n",
       "           Mei     6.6761     3.1091       2.15     0.0318     0.5823    12.7699\n",
       "--------------------------------------------------------------------------------\n",
       "         Mercy     6.3354     0.7052       8.98     0.0000     4.9533     7.7175\n",
       "        Pharah     3.5826     1.6393       2.19     0.0289     0.3697     6.7956\n",
       "        Reaper   -10.9683     2.3503      -4.67     0.0000   -15.5750    -6.3616\n",
       "     Reinhardt    -5.7730     1.9224      -3.00     0.0027    -9.5408    -2.0052\n",
       "       Roadhog    19.5437     1.8437      10.60     0.0000    15.9300    23.1575\n",
       "--------------------------------------------------------------------------------\n",
       "     Soldier76    -1.4232     1.9457      -0.73     0.4645    -5.2368     2.3904\n",
       "        Sombra   -12.6663     4.3406      -2.92     0.0035   -21.1739    -4.1586\n",
       "      Symmetra    -5.7500     2.7313      -2.11     0.0353   -11.1034    -0.3966\n",
       "      Torbjorn    -0.8252     3.0459      -0.27     0.7865    -6.7951     5.1447\n",
       "        Tracer    15.3940     1.4973      10.28     0.0000    12.4593    18.3288\n",
       "--------------------------------------------------------------------------------\n",
       "    Widowmaker    12.3707     1.5294       8.09     0.0000     9.3732    15.3683\n",
       "       Winston    22.2708     4.1813       5.33     0.0000    14.0754    30.4662\n",
       "         Zarya    13.0095     1.9169       6.79     0.0000     9.2523    16.7667\n",
       "      Zenyatta    -8.9789     2.4295      -3.70     0.0002   -13.7408    -4.2170\n",
       "     intercept   479.6479    33.2989      14.40     0.0000   414.3820   544.9138\n",
       "---------------------------------End of Summary---------------------------------"
      ]
     },
     "execution_count": 11,
     "metadata": {},
     "output_type": "execute_result"
    }
   ],
   "source": [
    "df = pd.DataFrame({\"Rank\": highRank, \"Comp Wins\": compWins, \"Ana\": anaHours, \"Bastion\": bastionHours, \"D.Va\": dvaHours, \"Genji\": genjiHours, \"Hanzo\": hanzoHours, \"Junkrat\": junkratHours, \"Lucio\": lucioHours, \"McCree\": mccreeHours, \"Mei\": meiHours, \"Mercy\": mercyHours, \"Pharah\": pharahHours, \"Reaper\": reaperHours, \"Reinhardt\": reinhardtHours, \"Roadhog\": roadhogHours, \"Soldier76\": soldier76Hours, \"Sombra\": sombraHours, \"Symmetra\": symmetraHours, \"Torbjorn\": torbjornHours, \"Tracer\": tracerHours, \"Widowmaker\": widowmakerHours, \"Winston\": winstonHours, \"Zarya\": zaryaHours, \"Zenyatta\": zenyattaHours})\n",
    "res = ols(y = df['Rank'], x = df[['Comp Wins', 'Ana', 'Bastion', 'D.Va', 'Genji', 'Hanzo', 'Junkrat', 'Lucio', 'McCree', 'Mei', 'Mercy', 'Pharah', 'Reaper', 'Reinhardt', 'Roadhog', 'Soldier76', 'Sombra', 'Symmetra', 'Torbjorn', 'Tracer', 'Widowmaker', 'Winston', 'Zarya', 'Zenyatta']])\n",
    "res"
   ]
  },
  {
   "cell_type": "markdown",
   "metadata": {},
   "source": [
    "#### MLS Fit for Elimations"
   ]
  },
  {
   "cell_type": "code",
   "execution_count": 12,
   "metadata": {
    "collapsed": false,
    "scrolled": true
   },
   "outputs": [
    {
     "data": {
      "text/plain": [
       "\n",
       "-------------------------Summary of Regression Analysis-------------------------\n",
       "\n",
       "Formula: Y ~ <Avg Elims> + <Total Elims> + <Most Elims> + <intercept>\n",
       "\n",
       "Number of Observations:         7873\n",
       "Number of Degrees of Freedom:   4\n",
       "\n",
       "R-squared:         0.0948\n",
       "Adj R-squared:     0.0945\n",
       "\n",
       "Rmse:           1258.5762\n",
       "\n",
       "F-stat (3, 7869):   274.8611, p-value:     0.0000\n",
       "\n",
       "Degrees of Freedom: model 3, resid 7869\n",
       "\n",
       "-----------------------Summary of Estimated Coefficients------------------------\n",
       "      Variable       Coef    Std Err     t-stat    p-value    CI 2.5%   CI 97.5%\n",
       "--------------------------------------------------------------------------------\n",
       "     Avg Elims    38.1039     2.4664      15.45     0.0000    33.2698    42.9381\n",
       "   Total Elims     0.0661     0.0054      12.16     0.0000     0.0555     0.0768\n",
       "    Most Elims     1.2263     1.4681       0.84     0.4035    -1.6510     4.1037\n",
       "     intercept  1627.8030    63.4139      25.67     0.0000  1503.5117  1752.0943\n",
       "---------------------------------End of Summary---------------------------------"
      ]
     },
     "execution_count": 12,
     "metadata": {},
     "output_type": "execute_result"
    }
   ],
   "source": [
    "df = pd.DataFrame({\"Rank\": rank, \"Avg Elims\": avgElims, \"Total Elims\": totalElims, \"Most Elims\": mostElims})\n",
    "res = ols(y = df['Rank'], x = df[['Avg Elims', 'Total Elims', 'Most Elims']])\n",
    "res"
   ]
  },
  {
   "cell_type": "markdown",
   "metadata": {},
   "source": [
    "#### MLS Fit for Elimations against Role (Offense)"
   ]
  },
  {
   "cell_type": "code",
   "execution_count": 13,
   "metadata": {
    "collapsed": false
   },
   "outputs": [
    {
     "data": {
      "text/plain": [
       "\n",
       "-------------------------Summary of Regression Analysis-------------------------\n",
       "\n",
       "Formula: Y ~ <Genji> + <McCree> + <Pharah> + <Reaper> + <Soldier76> + <Sombra>\n",
       "             + <Tracer> + <intercept>\n",
       "\n",
       "Number of Observations:         7873\n",
       "Number of Degrees of Freedom:   8\n",
       "\n",
       "R-squared:         0.1173\n",
       "Adj R-squared:     0.1165\n",
       "\n",
       "Rmse:              6.9353\n",
       "\n",
       "F-stat (7, 7865):   149.3331, p-value:     0.0000\n",
       "\n",
       "Degrees of Freedom: model 7, resid 7865\n",
       "\n",
       "-----------------------Summary of Estimated Coefficients------------------------\n",
       "      Variable       Coef    Std Err     t-stat    p-value    CI 2.5%   CI 97.5%\n",
       "--------------------------------------------------------------------------------\n",
       "         Genji     0.0396     0.0042       9.50     0.0000     0.0314     0.0477\n",
       "        McCree     0.0904     0.0068      13.28     0.0000     0.0771     0.1038\n",
       "        Pharah     0.0244     0.0066       3.69     0.0002     0.0114     0.0373\n",
       "        Reaper     0.0025     0.0094       0.27     0.7875    -0.0158     0.0209\n",
       "     Soldier76     0.0761     0.0077       9.82     0.0000     0.0609     0.0913\n",
       "--------------------------------------------------------------------------------\n",
       "        Sombra    -0.1662     0.0169      -9.81     0.0000    -0.1994    -0.1330\n",
       "        Tracer     0.0350     0.0060       5.82     0.0000     0.0232     0.0467\n",
       "     intercept    19.4793     0.1144     170.29     0.0000    19.2551    19.7035\n",
       "---------------------------------End of Summary---------------------------------"
      ]
     },
     "execution_count": 13,
     "metadata": {},
     "output_type": "execute_result"
    }
   ],
   "source": [
    "df = pd.DataFrame({\"Avg Elims\": avgElims, \"Genji\": genjiHours, \"McCree\": mccreeHours, \"Pharah\": pharahHours, \"Reaper\": reaperHours, \"Soldier76\": soldier76Hours, \"Sombra\": sombraHours, \"Tracer\": tracerHours})\n",
    "res = ols(y = df['Avg Elims'], x = df[['Genji', 'McCree', 'Pharah', 'Reaper', 'Soldier76', 'Sombra', 'Tracer']])\n",
    "res"
   ]
  },
  {
   "cell_type": "markdown",
   "metadata": {},
   "source": [
    "#### MLS Fit for Elimations against Role (Defense)"
   ]
  },
  {
   "cell_type": "code",
   "execution_count": 14,
   "metadata": {
    "collapsed": false
   },
   "outputs": [
    {
     "data": {
      "text/plain": [
       "\n",
       "-------------------------Summary of Regression Analysis-------------------------\n",
       "\n",
       "Formula: Y ~ <Bastion> + <Hanzo> + <Junkrat> + <Mei> + <Torbjorn> + <Widowmaker>\n",
       "             + <intercept>\n",
       "\n",
       "Number of Observations:         7873\n",
       "Number of Degrees of Freedom:   7\n",
       "\n",
       "R-squared:         0.0296\n",
       "Adj R-squared:     0.0288\n",
       "\n",
       "Rmse:              7.2714\n",
       "\n",
       "F-stat (6, 7866):    39.9288, p-value:     0.0000\n",
       "\n",
       "Degrees of Freedom: model 6, resid 7866\n",
       "\n",
       "-----------------------Summary of Estimated Coefficients------------------------\n",
       "      Variable       Coef    Std Err     t-stat    p-value    CI 2.5%   CI 97.5%\n",
       "--------------------------------------------------------------------------------\n",
       "       Bastion     0.0555     0.0167       3.31     0.0009     0.0227     0.0883\n",
       "         Hanzo     0.0818     0.0081      10.09     0.0000     0.0659     0.0977\n",
       "       Junkrat    -0.0506     0.0090      -5.63     0.0000    -0.0682    -0.0330\n",
       "           Mei    -0.0734     0.0124      -5.92     0.0000    -0.0976    -0.0491\n",
       "      Torbjorn     0.0057     0.0128       0.45     0.6554    -0.0194     0.0308\n",
       "--------------------------------------------------------------------------------\n",
       "    Widowmaker     0.0418     0.0061       6.82     0.0000     0.0298     0.0538\n",
       "     intercept    21.1374     0.1171     180.58     0.0000    20.9079    21.3668\n",
       "---------------------------------End of Summary---------------------------------"
      ]
     },
     "execution_count": 14,
     "metadata": {},
     "output_type": "execute_result"
    }
   ],
   "source": [
    "df = pd.DataFrame({\"Avg Elims\": avgElims, \"Bastion\": bastionHours, \"Hanzo\": hanzoHours, \"Junkrat\": junkratHours, \"Mei\": meiHours, \"Torbjorn\": torbjornHours, \"Widowmaker\": widowmakerHours, })\n",
    "res = ols(y = df['Avg Elims'], x = df[['Bastion', 'Hanzo', 'Junkrat', 'Mei', 'Torbjorn', 'Widowmaker']])\n",
    "res"
   ]
  },
  {
   "cell_type": "markdown",
   "metadata": {},
   "source": [
    "#### MLS Fit for Eliminations against Role (Tank)"
   ]
  },
  {
   "cell_type": "code",
   "execution_count": 15,
   "metadata": {
    "collapsed": false,
    "scrolled": false
   },
   "outputs": [
    {
     "data": {
      "text/plain": [
       "\n",
       "-------------------------Summary of Regression Analysis-------------------------\n",
       "\n",
       "Formula: Y ~ <D.Va> + <Reinhardt> + <Roadhog> + <Winston> + <Zarya>\n",
       "             + <intercept>\n",
       "\n",
       "Number of Observations:         7873\n",
       "Number of Degrees of Freedom:   6\n",
       "\n",
       "R-squared:         0.0543\n",
       "Adj R-squared:     0.0537\n",
       "\n",
       "Rmse:              7.1776\n",
       "\n",
       "F-stat (5, 7867):    90.3517, p-value:     0.0000\n",
       "\n",
       "Degrees of Freedom: model 5, resid 7867\n",
       "\n",
       "-----------------------Summary of Estimated Coefficients------------------------\n",
       "      Variable       Coef    Std Err     t-stat    p-value    CI 2.5%   CI 97.5%\n",
       "--------------------------------------------------------------------------------\n",
       "          D.Va    -0.0598     0.0061      -9.75     0.0000    -0.0718    -0.0477\n",
       "     Reinhardt    -0.0569     0.0081      -7.06     0.0000    -0.0727    -0.0411\n",
       "       Roadhog     0.1018     0.0074      13.75     0.0000     0.0873     0.1163\n",
       "       Winston     0.0259     0.0175       1.48     0.1387    -0.0084     0.0601\n",
       "         Zarya     0.0681     0.0078       8.75     0.0000     0.0528     0.0833\n",
       "--------------------------------------------------------------------------------\n",
       "     intercept    21.0640     0.1105     190.66     0.0000    20.8474    21.2805\n",
       "---------------------------------End of Summary---------------------------------"
      ]
     },
     "execution_count": 15,
     "metadata": {},
     "output_type": "execute_result"
    }
   ],
   "source": [
    "df = pd.DataFrame({\"Avg Elims\": avgElims, \"D.Va\": dvaHours, \"Reinhardt\": reinhardtHours, \"Roadhog\": roadhogHours, \"Winston\": winstonHours, \"Zarya\": zaryaHours})\n",
    "res = ols(y = df['Avg Elims'], x = df[['D.Va', 'Reinhardt', 'Roadhog', 'Winston', 'Zarya']])\n",
    "res"
   ]
  },
  {
   "cell_type": "markdown",
   "metadata": {},
   "source": [
    "#### MLS Fit for Eliminations against Role (Support)"
   ]
  },
  {
   "cell_type": "code",
   "execution_count": 16,
   "metadata": {
    "collapsed": false
   },
   "outputs": [
    {
     "data": {
      "text/plain": [
       "\n",
       "-------------------------Summary of Regression Analysis-------------------------\n",
       "\n",
       "Formula: Y ~ <Ana> + <Lucio> + <Mercy> + <Symmetra> + <Zenyatta> + <intercept>\n",
       "\n",
       "Number of Observations:         7870\n",
       "Number of Degrees of Freedom:   6\n",
       "\n",
       "R-squared:         0.1359\n",
       "Adj R-squared:     0.1353\n",
       "\n",
       "Rmse:              6.8576\n",
       "\n",
       "F-stat (5, 7864):   247.2766, p-value:     0.0000\n",
       "\n",
       "Degrees of Freedom: model 5, resid 7864\n",
       "\n",
       "-----------------------Summary of Estimated Coefficients------------------------\n",
       "      Variable       Coef    Std Err     t-stat    p-value    CI 2.5%   CI 97.5%\n",
       "--------------------------------------------------------------------------------\n",
       "           Ana     0.0040     0.0085       0.47     0.6376    -0.0126     0.0206\n",
       "         Lucio    -0.0548     0.0056      -9.85     0.0000    -0.0657    -0.0439\n",
       "         Mercy    -0.0805     0.0028     -28.85     0.0000    -0.0860    -0.0750\n",
       "      Symmetra    -0.0273     0.0105      -2.59     0.0096    -0.0479    -0.0066\n",
       "      Zenyatta     0.0089     0.0096       0.93     0.3536    -0.0099     0.0278\n",
       "--------------------------------------------------------------------------------\n",
       "     intercept    22.8473     0.0979     233.40     0.0000    22.6554    23.0392\n",
       "---------------------------------End of Summary---------------------------------"
      ]
     },
     "execution_count": 16,
     "metadata": {},
     "output_type": "execute_result"
    }
   ],
   "source": [
    "df = pd.DataFrame({\"Avg Elims\": avgElims, \"Ana\": anaHours, \"Lucio\": lucioHours, \"Mercy\": mercyHours, \"Symmetra\": symmetraHours, \"Zenyatta\": zenyattaHours})\n",
    "res = ols(y = df['Avg Elims'], x = df[['Ana', 'Lucio', 'Mercy', 'Symmetra', 'Zenyatta']])\n",
    "res"
   ]
  },
  {
   "cell_type": "markdown",
   "metadata": {},
   "source": [
    "### Individual Hero Playtime vs Rank"
   ]
  },
  {
   "cell_type": "markdown",
   "metadata": {},
   "source": [
    "##### Ana"
   ]
  },
  {
   "cell_type": "code",
   "execution_count": 17,
   "metadata": {
    "collapsed": false,
    "scrolled": false
   },
   "outputs": [
    {
     "data": {
      "text/plain": [
       "\n",
       "-------------------------Summary of Regression Analysis-------------------------\n",
       "\n",
       "Formula: Y ~ <Ana> + <intercept>\n",
       "\n",
       "Number of Observations:         7873\n",
       "Number of Degrees of Freedom:   2\n",
       "\n",
       "R-squared:         0.0625\n",
       "Adj R-squared:     0.0624\n",
       "\n",
       "Rmse:           1280.7261\n",
       "\n",
       "F-stat (1, 7871):   524.4768, p-value:     0.0000\n",
       "\n",
       "Degrees of Freedom: model 1, resid 7871\n",
       "\n",
       "-----------------------Summary of Estimated Coefficients------------------------\n",
       "      Variable       Coef    Std Err     t-stat    p-value    CI 2.5%   CI 97.5%\n",
       "--------------------------------------------------------------------------------\n",
       "           Ana    32.7604     1.4305      22.90     0.0000    29.9566    35.5642\n",
       "     intercept  2520.2980    16.4500     153.21     0.0000  2488.0560  2552.5400\n",
       "---------------------------------End of Summary---------------------------------"
      ]
     },
     "execution_count": 17,
     "metadata": {},
     "output_type": "execute_result"
    }
   ],
   "source": [
    "df = pd.DataFrame({\"Rank\": rank, \"Ana\": anaHours})\n",
    "res = ols(y = df['Rank'], x = df[['Ana']])\n",
    "res"
   ]
  },
  {
   "cell_type": "markdown",
   "metadata": {},
   "source": [
    "##### Bastion"
   ]
  },
  {
   "cell_type": "code",
   "execution_count": 18,
   "metadata": {
    "collapsed": false,
    "scrolled": true
   },
   "outputs": [
    {
     "data": {
      "text/plain": [
       "\n",
       "-------------------------Summary of Regression Analysis-------------------------\n",
       "\n",
       "Formula: Y ~ <Bastion> + <intercept>\n",
       "\n",
       "Number of Observations:         7873\n",
       "Number of Degrees of Freedom:   2\n",
       "\n",
       "R-squared:         0.0061\n",
       "Adj R-squared:     0.0060\n",
       "\n",
       "Rmse:           1318.6717\n",
       "\n",
       "F-stat (1, 7871):    48.2585, p-value:     0.0000\n",
       "\n",
       "Degrees of Freedom: model 1, resid 7871\n",
       "\n",
       "-----------------------Summary of Estimated Coefficients------------------------\n",
       "      Variable       Coef    Std Err     t-stat    p-value    CI 2.5%   CI 97.5%\n",
       "--------------------------------------------------------------------------------\n",
       "       Bastion    20.3431     2.9284       6.95     0.0000    14.6034    26.0827\n",
       "     intercept  2635.3458    17.6126     149.63     0.0000  2600.8252  2669.8664\n",
       "---------------------------------End of Summary---------------------------------"
      ]
     },
     "execution_count": 18,
     "metadata": {},
     "output_type": "execute_result"
    }
   ],
   "source": [
    "df = pd.DataFrame({\"Rank\": rank, \"Bastion\": bastionHours})\n",
    "res = ols(y = df['Rank'], x = df[['Bastion']])\n",
    "res"
   ]
  },
  {
   "cell_type": "markdown",
   "metadata": {},
   "source": [
    "##### D.Va"
   ]
  },
  {
   "cell_type": "code",
   "execution_count": 19,
   "metadata": {
    "collapsed": false,
    "scrolled": true
   },
   "outputs": [
    {
     "data": {
      "text/plain": [
       "\n",
       "-------------------------Summary of Regression Analysis-------------------------\n",
       "\n",
       "Formula: Y ~ <D.Va> + <intercept>\n",
       "\n",
       "Number of Observations:         7873\n",
       "Number of Degrees of Freedom:   2\n",
       "\n",
       "R-squared:         0.0030\n",
       "Adj R-squared:     0.0028\n",
       "\n",
       "Rmse:           1320.7405\n",
       "\n",
       "F-stat (1, 7871):    23.4681, p-value:     0.0000\n",
       "\n",
       "Degrees of Freedom: model 1, resid 7871\n",
       "\n",
       "-----------------------Summary of Estimated Coefficients------------------------\n",
       "      Variable       Coef    Std Err     t-stat    p-value    CI 2.5%   CI 97.5%\n",
       "--------------------------------------------------------------------------------\n",
       "          D.Va     5.3461     1.1036       4.84     0.0000     3.1831     7.5091\n",
       "     intercept  2665.0936    16.6287     160.27     0.0000  2632.5013  2697.6859\n",
       "---------------------------------End of Summary---------------------------------"
      ]
     },
     "execution_count": 19,
     "metadata": {},
     "output_type": "execute_result"
    }
   ],
   "source": [
    "df = pd.DataFrame({\"Rank\": rank, \"D.Va\": dvaHours})\n",
    "res = ols(y = df['Rank'], x = df[['D.Va']])\n",
    "res"
   ]
  },
  {
   "cell_type": "markdown",
   "metadata": {},
   "source": [
    "##### Genji"
   ]
  },
  {
   "cell_type": "code",
   "execution_count": 20,
   "metadata": {
    "collapsed": false,
    "scrolled": true
   },
   "outputs": [
    {
     "data": {
      "text/plain": [
       "\n",
       "-------------------------Summary of Regression Analysis-------------------------\n",
       "\n",
       "Formula: Y ~ <Genji> + <intercept>\n",
       "\n",
       "Number of Observations:         7873\n",
       "Number of Degrees of Freedom:   2\n",
       "\n",
       "R-squared:         0.0889\n",
       "Adj R-squared:     0.0887\n",
       "\n",
       "Rmse:           1262.5723\n",
       "\n",
       "F-stat (1, 7871):   767.6393, p-value:     0.0000\n",
       "\n",
       "Degrees of Freedom: model 1, resid 7871\n",
       "\n",
       "-----------------------Summary of Estimated Coefficients------------------------\n",
       "      Variable       Coef    Std Err     t-stat    p-value    CI 2.5%   CI 97.5%\n",
       "--------------------------------------------------------------------------------\n",
       "         Genji    18.5524     0.6696      27.71     0.0000    17.2400    19.8648\n",
       "     intercept  2486.8636    16.1930     153.58     0.0000  2455.1254  2518.6019\n",
       "---------------------------------End of Summary---------------------------------"
      ]
     },
     "execution_count": 20,
     "metadata": {},
     "output_type": "execute_result"
    }
   ],
   "source": [
    "df = pd.DataFrame({\"Rank\": rank, \"Genji\": genjiHours})\n",
    "res = ols(y = df['Rank'], x = df[['Genji']])\n",
    "res"
   ]
  },
  {
   "cell_type": "markdown",
   "metadata": {},
   "source": [
    "##### Hanzo"
   ]
  },
  {
   "cell_type": "code",
   "execution_count": 21,
   "metadata": {
    "collapsed": false
   },
   "outputs": [
    {
     "data": {
      "text/plain": [
       "\n",
       "-------------------------Summary of Regression Analysis-------------------------\n",
       "\n",
       "Formula: Y ~ <Hanzo> + <intercept>\n",
       "\n",
       "Number of Observations:         7873\n",
       "Number of Degrees of Freedom:   2\n",
       "\n",
       "R-squared:         0.0490\n",
       "Adj R-squared:     0.0489\n",
       "\n",
       "Rmse:           1289.8937\n",
       "\n",
       "F-stat (1, 7871):   405.5637, p-value:     0.0000\n",
       "\n",
       "Degrees of Freedom: model 1, resid 7871\n",
       "\n",
       "-----------------------Summary of Estimated Coefficients------------------------\n",
       "      Variable       Coef    Std Err     t-stat    p-value    CI 2.5%   CI 97.5%\n",
       "--------------------------------------------------------------------------------\n",
       "         Hanzo    27.2234     1.3518      20.14     0.0000    24.5738    29.8729\n",
       "     intercept  2524.2063    16.9825     148.64     0.0000  2490.9206  2557.4920\n",
       "---------------------------------End of Summary---------------------------------"
      ]
     },
     "execution_count": 21,
     "metadata": {},
     "output_type": "execute_result"
    }
   ],
   "source": [
    "df = pd.DataFrame({\"Rank\": rank, \"Hanzo\": hanzoHours})\n",
    "res = ols(y = df['Rank'], x = df[['Hanzo']])\n",
    "res"
   ]
  },
  {
   "cell_type": "markdown",
   "metadata": {},
   "source": [
    "##### Junkrat"
   ]
  },
  {
   "cell_type": "code",
   "execution_count": 22,
   "metadata": {
    "collapsed": false
   },
   "outputs": [
    {
     "data": {
      "text/plain": [
       "\n",
       "-------------------------Summary of Regression Analysis-------------------------\n",
       "\n",
       "Formula: Y ~ <Junkrat> + <intercept>\n",
       "\n",
       "Number of Observations:         7873\n",
       "Number of Degrees of Freedom:   2\n",
       "\n",
       "R-squared:         0.0000\n",
       "Adj R-squared:    -0.0001\n",
       "\n",
       "Rmse:           1322.6993\n",
       "\n",
       "F-stat (1, 7871):     0.1042, p-value:     0.7469\n",
       "\n",
       "Degrees of Freedom: model 1, resid 7871\n",
       "\n",
       "-----------------------Summary of Estimated Coefficients------------------------\n",
       "      Variable       Coef    Std Err     t-stat    p-value    CI 2.5%   CI 97.5%\n",
       "--------------------------------------------------------------------------------\n",
       "       Junkrat    -0.4946     1.5321      -0.32     0.7469    -3.4974     2.5083\n",
       "     intercept  2703.5029    16.7957     160.96     0.0000  2670.5833  2736.4225\n",
       "---------------------------------End of Summary---------------------------------"
      ]
     },
     "execution_count": 22,
     "metadata": {},
     "output_type": "execute_result"
    }
   ],
   "source": [
    "df = pd.DataFrame({\"Rank\": rank, \"Junkrat\": junkratHours})\n",
    "res = ols(y = df['Rank'], x = df[['Junkrat']])\n",
    "res"
   ]
  },
  {
   "cell_type": "markdown",
   "metadata": {},
   "source": [
    "##### Lucio"
   ]
  },
  {
   "cell_type": "code",
   "execution_count": 23,
   "metadata": {
    "collapsed": false
   },
   "outputs": [
    {
     "data": {
      "text/plain": [
       "\n",
       "-------------------------Summary of Regression Analysis-------------------------\n",
       "\n",
       "Formula: Y ~ <Lucio> + <intercept>\n",
       "\n",
       "Number of Observations:         7873\n",
       "Number of Degrees of Freedom:   2\n",
       "\n",
       "R-squared:         0.0014\n",
       "Adj R-squared:     0.0013\n",
       "\n",
       "Rmse:           1321.7714\n",
       "\n",
       "F-stat (1, 7871):    11.1584, p-value:     0.0008\n",
       "\n",
       "Degrees of Freedom: model 1, resid 7871\n",
       "\n",
       "-----------------------Summary of Estimated Coefficients------------------------\n",
       "      Variable       Coef    Std Err     t-stat    p-value    CI 2.5%   CI 97.5%\n",
       "--------------------------------------------------------------------------------\n",
       "         Lucio     3.3443     1.0011       3.34     0.0008     1.3820     5.3065\n",
       "     intercept  2673.6827    16.9944     157.33     0.0000  2640.3737  2706.9917\n",
       "---------------------------------End of Summary---------------------------------"
      ]
     },
     "execution_count": 23,
     "metadata": {},
     "output_type": "execute_result"
    }
   ],
   "source": [
    "df = pd.DataFrame({\"Rank\": rank, \"Lucio\": lucioHours})\n",
    "res = ols(y = df['Rank'], x = df[['Lucio']])\n",
    "res"
   ]
  },
  {
   "cell_type": "markdown",
   "metadata": {},
   "source": [
    "##### McCree"
   ]
  },
  {
   "cell_type": "code",
   "execution_count": 24,
   "metadata": {
    "collapsed": false
   },
   "outputs": [
    {
     "data": {
      "text/plain": [
       "\n",
       "-------------------------Summary of Regression Analysis-------------------------\n",
       "\n",
       "Formula: Y ~ <McCree> + <intercept>\n",
       "\n",
       "Number of Observations:         7873\n",
       "Number of Degrees of Freedom:   2\n",
       "\n",
       "R-squared:         0.1241\n",
       "Adj R-squared:     0.1240\n",
       "\n",
       "Rmse:           1237.9241\n",
       "\n",
       "F-stat (1, 7871):  1115.0714, p-value:     0.0000\n",
       "\n",
       "Degrees of Freedom: model 1, resid 7871\n",
       "\n",
       "-----------------------Summary of Estimated Coefficients------------------------\n",
       "      Variable       Coef    Std Err     t-stat    p-value    CI 2.5%   CI 97.5%\n",
       "--------------------------------------------------------------------------------\n",
       "        McCree    33.2418     0.9955      33.39     0.0000    31.2906    35.1929\n",
       "     intercept  2400.5641    16.6011     144.60     0.0000  2368.0260  2433.1023\n",
       "---------------------------------End of Summary---------------------------------"
      ]
     },
     "execution_count": 24,
     "metadata": {},
     "output_type": "execute_result"
    }
   ],
   "source": [
    "df = pd.DataFrame({\"Rank\": rank, \"McCree\": mccreeHours})\n",
    "res = ols(y = df['Rank'], x = df[['McCree']])\n",
    "res"
   ]
  },
  {
   "cell_type": "markdown",
   "metadata": {},
   "source": [
    "##### Mei"
   ]
  },
  {
   "cell_type": "code",
   "execution_count": 25,
   "metadata": {
    "collapsed": false
   },
   "outputs": [
    {
     "data": {
      "text/plain": [
       "\n",
       "-------------------------Summary of Regression Analysis-------------------------\n",
       "\n",
       "Formula: Y ~ <Mei> + <intercept>\n",
       "\n",
       "Number of Observations:         7873\n",
       "Number of Degrees of Freedom:   2\n",
       "\n",
       "R-squared:         0.0249\n",
       "Adj R-squared:     0.0248\n",
       "\n",
       "Rmse:           1306.1066\n",
       "\n",
       "F-stat (1, 7871):   201.3622, p-value:     0.0000\n",
       "\n",
       "Degrees of Freedom: model 1, resid 7871\n",
       "\n",
       "-----------------------Summary of Estimated Coefficients------------------------\n",
       "      Variable       Coef    Std Err     t-stat    p-value    CI 2.5%   CI 97.5%\n",
       "--------------------------------------------------------------------------------\n",
       "           Mei    30.0298     2.1162      14.19     0.0000    25.8820    34.1776\n",
       "     intercept  2577.5312    17.0995     150.74     0.0000  2544.0163  2611.0462\n",
       "---------------------------------End of Summary---------------------------------"
      ]
     },
     "execution_count": 25,
     "metadata": {},
     "output_type": "execute_result"
    }
   ],
   "source": [
    "df = pd.DataFrame({\"Rank\": rank, \"Mei\": meiHours})\n",
    "res = ols(y = df['Rank'], x = df[['Mei']])\n",
    "res"
   ]
  },
  {
   "cell_type": "markdown",
   "metadata": {},
   "source": [
    "##### Mercy"
   ]
  },
  {
   "cell_type": "code",
   "execution_count": 26,
   "metadata": {
    "collapsed": false
   },
   "outputs": [
    {
     "data": {
      "text/plain": [
       "\n",
       "-------------------------Summary of Regression Analysis-------------------------\n",
       "\n",
       "Formula: Y ~ <Mercy> + <intercept>\n",
       "\n",
       "Number of Observations:         7872\n",
       "Number of Degrees of Freedom:   2\n",
       "\n",
       "R-squared:         0.0084\n",
       "Adj R-squared:     0.0083\n",
       "\n",
       "Rmse:           1316.9037\n",
       "\n",
       "F-stat (1, 7870):    66.5478, p-value:     0.0000\n",
       "\n",
       "Degrees of Freedom: model 1, resid 7870\n",
       "\n",
       "-----------------------Summary of Estimated Coefficients------------------------\n",
       "      Variable       Coef    Std Err     t-stat    p-value    CI 2.5%   CI 97.5%\n",
       "--------------------------------------------------------------------------------\n",
       "         Mercy     4.0307     0.4941       8.16     0.0000     3.0623     4.9991\n",
       "     intercept  2661.2665    15.6344     170.22     0.0000  2630.6230  2691.9099\n",
       "---------------------------------End of Summary---------------------------------"
      ]
     },
     "execution_count": 26,
     "metadata": {},
     "output_type": "execute_result"
    }
   ],
   "source": [
    "df = pd.DataFrame({\"Rank\": rank, \"Mercy\": mercyHours})\n",
    "res = ols(y = df['Rank'], x = df[['Mercy']])\n",
    "res"
   ]
  },
  {
   "cell_type": "markdown",
   "metadata": {},
   "source": [
    "##### Orisa"
   ]
  },
  {
   "cell_type": "code",
   "execution_count": 27,
   "metadata": {
    "collapsed": false
   },
   "outputs": [
    {
     "data": {
      "text/plain": [
       "\n",
       "-------------------------Summary of Regression Analysis-------------------------\n",
       "\n",
       "Formula: Y ~ <Orisa> + <intercept>\n",
       "\n",
       "Number of Observations:         7873\n",
       "Number of Degrees of Freedom:   2\n",
       "\n",
       "R-squared:         0.0060\n",
       "Adj R-squared:     0.0059\n",
       "\n",
       "Rmse:           1318.7434\n",
       "\n",
       "F-stat (1, 7871):    47.3971, p-value:     0.0000\n",
       "\n",
       "Degrees of Freedom: model 1, resid 7871\n",
       "\n",
       "-----------------------Summary of Estimated Coefficients------------------------\n",
       "      Variable       Coef    Std Err     t-stat    p-value    CI 2.5%   CI 97.5%\n",
       "--------------------------------------------------------------------------------\n",
       "         Orisa   155.3470    22.5646       6.88     0.0000   111.1205   199.5735\n",
       "     intercept  2672.5276    15.4273     173.23     0.0000  2642.2901  2702.7652\n",
       "---------------------------------End of Summary---------------------------------"
      ]
     },
     "execution_count": 27,
     "metadata": {},
     "output_type": "execute_result"
    }
   ],
   "source": [
    "df = pd.DataFrame({\"Rank\": rank, \"Orisa\": orisaHours})\n",
    "res = ols(y = df['Rank'], x = df[['Orisa']])\n",
    "res"
   ]
  },
  {
   "cell_type": "markdown",
   "metadata": {},
   "source": [
    "##### Pharah"
   ]
  },
  {
   "cell_type": "code",
   "execution_count": 28,
   "metadata": {
    "collapsed": false
   },
   "outputs": [
    {
     "data": {
      "text/plain": [
       "\n",
       "-------------------------Summary of Regression Analysis-------------------------\n",
       "\n",
       "Formula: Y ~ <Pharah> + <intercept>\n",
       "\n",
       "Number of Observations:         7873\n",
       "Number of Degrees of Freedom:   2\n",
       "\n",
       "R-squared:         0.0173\n",
       "Adj R-squared:     0.0171\n",
       "\n",
       "Rmse:           1311.2359\n",
       "\n",
       "F-stat (1, 7871):   138.3303, p-value:     0.0000\n",
       "\n",
       "Degrees of Freedom: model 1, resid 7871\n",
       "\n",
       "-----------------------Summary of Estimated Coefficients------------------------\n",
       "      Variable       Coef    Std Err     t-stat    p-value    CI 2.5%   CI 97.5%\n",
       "--------------------------------------------------------------------------------\n",
       "        Pharah    14.1374     1.2020      11.76     0.0000    11.7814    16.4933\n",
       "     intercept  2602.6242    16.9810     153.27     0.0000  2569.3415  2635.9069\n",
       "---------------------------------End of Summary---------------------------------"
      ]
     },
     "execution_count": 28,
     "metadata": {},
     "output_type": "execute_result"
    }
   ],
   "source": [
    "df = pd.DataFrame({\"Rank\": rank, \"Pharah\": pharahHours})\n",
    "res = ols(y = df['Rank'], x = df[['Pharah']])\n",
    "res"
   ]
  },
  {
   "cell_type": "markdown",
   "metadata": {},
   "source": [
    "##### Reaper"
   ]
  },
  {
   "cell_type": "code",
   "execution_count": 29,
   "metadata": {
    "collapsed": false
   },
   "outputs": [
    {
     "data": {
      "text/plain": [
       "\n",
       "-------------------------Summary of Regression Analysis-------------------------\n",
       "\n",
       "Formula: Y ~ <Reaper> + <intercept>\n",
       "\n",
       "Number of Observations:         7873\n",
       "Number of Degrees of Freedom:   2\n",
       "\n",
       "R-squared:         0.0079\n",
       "Adj R-squared:     0.0077\n",
       "\n",
       "Rmse:           1317.4951\n",
       "\n",
       "F-stat (1, 7871):    62.4089, p-value:     0.0000\n",
       "\n",
       "Degrees of Freedom: model 1, resid 7871\n",
       "\n",
       "-----------------------Summary of Estimated Coefficients------------------------\n",
       "      Variable       Coef    Std Err     t-stat    p-value    CI 2.5%   CI 97.5%\n",
       "--------------------------------------------------------------------------------\n",
       "        Reaper    13.0869     1.6566       7.90     0.0000     9.8400    16.3338\n",
       "     intercept  2625.9272    17.6293     148.95     0.0000  2591.3738  2660.4807\n",
       "---------------------------------End of Summary---------------------------------"
      ]
     },
     "execution_count": 29,
     "metadata": {},
     "output_type": "execute_result"
    }
   ],
   "source": [
    "df = pd.DataFrame({\"Rank\": rank, \"Reaper\": reaperHours})\n",
    "res = ols(y = df['Rank'], x = df[['Reaper']])\n",
    "res"
   ]
  },
  {
   "cell_type": "markdown",
   "metadata": {},
   "source": [
    "##### Reinhardt"
   ]
  },
  {
   "cell_type": "code",
   "execution_count": 30,
   "metadata": {
    "collapsed": false
   },
   "outputs": [
    {
     "data": {
      "text/plain": [
       "\n",
       "-------------------------Summary of Regression Analysis-------------------------\n",
       "\n",
       "Formula: Y ~ <Reinhardt> + <intercept>\n",
       "\n",
       "Number of Observations:         7873\n",
       "Number of Degrees of Freedom:   2\n",
       "\n",
       "R-squared:         0.0148\n",
       "Adj R-squared:     0.0147\n",
       "\n",
       "Rmse:           1312.8863\n",
       "\n",
       "F-stat (1, 7871):   118.2063, p-value:     0.0000\n",
       "\n",
       "Degrees of Freedom: model 1, resid 7871\n",
       "\n",
       "-----------------------Summary of Estimated Coefficients------------------------\n",
       "      Variable       Coef    Std Err     t-stat    p-value    CI 2.5%   CI 97.5%\n",
       "--------------------------------------------------------------------------------\n",
       "     Reinhardt    14.1923     1.3054      10.87     0.0000    11.6338    16.7508\n",
       "     intercept  2600.9169    17.4265     149.25     0.0000  2566.7610  2635.0727\n",
       "---------------------------------End of Summary---------------------------------"
      ]
     },
     "execution_count": 30,
     "metadata": {},
     "output_type": "execute_result"
    }
   ],
   "source": [
    "df = pd.DataFrame({\"Rank\": rank, \"Reinhardt\": reinhardtHours})\n",
    "res = ols(y = df['Rank'], x = df[['Reinhardt']])\n",
    "res"
   ]
  },
  {
   "cell_type": "markdown",
   "metadata": {},
   "source": [
    "##### Roadhog"
   ]
  },
  {
   "cell_type": "code",
   "execution_count": 31,
   "metadata": {
    "collapsed": false
   },
   "outputs": [
    {
     "data": {
      "text/plain": [
       "\n",
       "-------------------------Summary of Regression Analysis-------------------------\n",
       "\n",
       "Formula: Y ~ <Roadhog> + <intercept>\n",
       "\n",
       "Number of Observations:         7873\n",
       "Number of Degrees of Freedom:   2\n",
       "\n",
       "R-squared:         0.0679\n",
       "Adj R-squared:     0.0677\n",
       "\n",
       "Rmse:           1277.0356\n",
       "\n",
       "F-stat (1, 7871):   573.0711, p-value:     0.0000\n",
       "\n",
       "Degrees of Freedom: model 1, resid 7871\n",
       "\n",
       "-----------------------Summary of Estimated Coefficients------------------------\n",
       "      Variable       Coef    Std Err     t-stat    p-value    CI 2.5%   CI 97.5%\n",
       "--------------------------------------------------------------------------------\n",
       "       Roadhog    28.2518     1.1802      23.94     0.0000    25.9387    30.5649\n",
       "     intercept  2481.4778    17.0656     145.41     0.0000  2448.0292  2514.9264\n",
       "---------------------------------End of Summary---------------------------------"
      ]
     },
     "execution_count": 31,
     "metadata": {},
     "output_type": "execute_result"
    }
   ],
   "source": [
    "df = pd.DataFrame({\"Rank\": rank, \"Roadhog\": roadhogHours})\n",
    "res = ols(y = df['Rank'], x = df[['Roadhog']])\n",
    "res"
   ]
  },
  {
   "cell_type": "markdown",
   "metadata": {},
   "source": [
    "##### Soldier76"
   ]
  },
  {
   "cell_type": "code",
   "execution_count": 32,
   "metadata": {
    "collapsed": false
   },
   "outputs": [
    {
     "data": {
      "text/plain": [
       "\n",
       "-------------------------Summary of Regression Analysis-------------------------\n",
       "\n",
       "Formula: Y ~ <Soldier76> + <intercept>\n",
       "\n",
       "Number of Observations:         7873\n",
       "Number of Degrees of Freedom:   2\n",
       "\n",
       "R-squared:         0.0282\n",
       "Adj R-squared:     0.0281\n",
       "\n",
       "Rmse:           1303.9184\n",
       "\n",
       "F-stat (1, 7871):   228.4783, p-value:     0.0000\n",
       "\n",
       "Degrees of Freedom: model 1, resid 7871\n",
       "\n",
       "-----------------------Summary of Estimated Coefficients------------------------\n",
       "      Variable       Coef    Std Err     t-stat    p-value    CI 2.5%   CI 97.5%\n",
       "--------------------------------------------------------------------------------\n",
       "     Soldier76    20.0646     1.3274      15.12     0.0000    17.4629    22.6664\n",
       "     intercept  2532.4655    18.4466     137.29     0.0000  2496.3101  2568.6209\n",
       "---------------------------------End of Summary---------------------------------"
      ]
     },
     "execution_count": 32,
     "metadata": {},
     "output_type": "execute_result"
    }
   ],
   "source": [
    "df = pd.DataFrame({\"Rank\": rank, \"Soldier76\": soldier76Hours})\n",
    "res = ols(y = df['Rank'], x = df[['Soldier76']])\n",
    "res"
   ]
  },
  {
   "cell_type": "markdown",
   "metadata": {},
   "source": [
    "##### Sombra"
   ]
  },
  {
   "cell_type": "code",
   "execution_count": 33,
   "metadata": {
    "collapsed": false,
    "scrolled": false
   },
   "outputs": [
    {
     "data": {
      "text/plain": [
       "\n",
       "-------------------------Summary of Regression Analysis-------------------------\n",
       "\n",
       "Formula: Y ~ <Sombra> + <intercept>\n",
       "\n",
       "Number of Observations:         7873\n",
       "Number of Degrees of Freedom:   2\n",
       "\n",
       "R-squared:         0.0149\n",
       "Adj R-squared:     0.0147\n",
       "\n",
       "Rmse:           1312.8395\n",
       "\n",
       "F-stat (1, 7871):   118.7757, p-value:     0.0000\n",
       "\n",
       "Degrees of Freedom: model 1, resid 7871\n",
       "\n",
       "-----------------------Summary of Estimated Coefficients------------------------\n",
       "      Variable       Coef    Std Err     t-stat    p-value    CI 2.5%   CI 97.5%\n",
       "--------------------------------------------------------------------------------\n",
       "        Sombra    33.9474     3.1149      10.90     0.0000    27.8423    40.0526\n",
       "     intercept  2648.7650    15.5530     170.31     0.0000  2618.2812  2679.2489\n",
       "---------------------------------End of Summary---------------------------------"
      ]
     },
     "execution_count": 33,
     "metadata": {},
     "output_type": "execute_result"
    }
   ],
   "source": [
    "df = pd.DataFrame({\"Rank\": rank, \"Sombra\": sombraHours})\n",
    "res = ols(y = df['Rank'], x = df[['Sombra']])\n",
    "res"
   ]
  },
  {
   "cell_type": "markdown",
   "metadata": {},
   "source": [
    "##### Symmetra"
   ]
  },
  {
   "cell_type": "code",
   "execution_count": 34,
   "metadata": {
    "collapsed": false
   },
   "outputs": [
    {
     "data": {
      "text/plain": [
       "\n",
       "-------------------------Summary of Regression Analysis-------------------------\n",
       "\n",
       "Formula: Y ~ <Symmetra> + <intercept>\n",
       "\n",
       "Number of Observations:         7873\n",
       "Number of Degrees of Freedom:   2\n",
       "\n",
       "R-squared:         0.0033\n",
       "Adj R-squared:     0.0031\n",
       "\n",
       "Rmse:           1320.5400\n",
       "\n",
       "F-stat (1, 7871):    25.8662, p-value:     0.0000\n",
       "\n",
       "Degrees of Freedom: model 1, resid 7871\n",
       "\n",
       "-----------------------Summary of Estimated Coefficients------------------------\n",
       "      Variable       Coef    Std Err     t-stat    p-value    CI 2.5%   CI 97.5%\n",
       "--------------------------------------------------------------------------------\n",
       "      Symmetra     9.6245     1.8924       5.09     0.0000     5.9154    13.3336\n",
       "     intercept  2672.9061    15.8751     168.37     0.0000  2641.7909  2704.0213\n",
       "---------------------------------End of Summary---------------------------------"
      ]
     },
     "execution_count": 34,
     "metadata": {},
     "output_type": "execute_result"
    }
   ],
   "source": [
    "df = pd.DataFrame({\"Rank\": rank, \"Symmetra\": symmetraHours})\n",
    "res = ols(y = df['Rank'], x = df[['Symmetra']])\n",
    "res"
   ]
  },
  {
   "cell_type": "markdown",
   "metadata": {},
   "source": [
    "##### Torbjorn"
   ]
  },
  {
   "cell_type": "code",
   "execution_count": 35,
   "metadata": {
    "collapsed": false
   },
   "outputs": [
    {
     "data": {
      "text/plain": [
       "\n",
       "-------------------------Summary of Regression Analysis-------------------------\n",
       "\n",
       "Formula: Y ~ <Torbjorn> + <intercept>\n",
       "\n",
       "Number of Observations:         7873\n",
       "Number of Degrees of Freedom:   2\n",
       "\n",
       "R-squared:         0.0003\n",
       "Adj R-squared:     0.0002\n",
       "\n",
       "Rmse:           1322.5163\n",
       "\n",
       "F-stat (1, 7871):     2.2822, p-value:     0.1309\n",
       "\n",
       "Degrees of Freedom: model 1, resid 7871\n",
       "\n",
       "-----------------------Summary of Estimated Coefficients------------------------\n",
       "      Variable       Coef    Std Err     t-stat    p-value    CI 2.5%   CI 97.5%\n",
       "--------------------------------------------------------------------------------\n",
       "      Torbjorn     3.3079     2.1897       1.51     0.1309    -0.9839     7.5997\n",
       "     intercept  2689.7508    16.6630     161.42     0.0000  2657.0913  2722.4104\n",
       "---------------------------------End of Summary---------------------------------"
      ]
     },
     "execution_count": 35,
     "metadata": {},
     "output_type": "execute_result"
    }
   ],
   "source": [
    "df = pd.DataFrame({\"Rank\": rank, \"Torbjorn\": torbjornHours})\n",
    "res = ols(y = df['Rank'], x = df[['Torbjorn']])\n",
    "res"
   ]
  },
  {
   "cell_type": "markdown",
   "metadata": {},
   "source": [
    "##### Tracer"
   ]
  },
  {
   "cell_type": "code",
   "execution_count": 36,
   "metadata": {
    "collapsed": false
   },
   "outputs": [
    {
     "data": {
      "text/plain": [
       "\n",
       "-------------------------Summary of Regression Analysis-------------------------\n",
       "\n",
       "Formula: Y ~ <Tracer> + <intercept>\n",
       "\n",
       "Number of Observations:         7873\n",
       "Number of Degrees of Freedom:   2\n",
       "\n",
       "R-squared:         0.0532\n",
       "Adj R-squared:     0.0531\n",
       "\n",
       "Rmse:           1287.0509\n",
       "\n",
       "F-stat (1, 7871):   442.1663, p-value:     0.0000\n",
       "\n",
       "Degrees of Freedom: model 1, resid 7871\n",
       "\n",
       "-----------------------Summary of Estimated Coefficients------------------------\n",
       "      Variable       Coef    Std Err     t-stat    p-value    CI 2.5%   CI 97.5%\n",
       "--------------------------------------------------------------------------------\n",
       "        Tracer    21.8761     1.0403      21.03     0.0000    19.8371    23.9152\n",
       "     intercept  2534.7976    16.5190     153.45     0.0000  2502.4203  2567.1750\n",
       "---------------------------------End of Summary---------------------------------"
      ]
     },
     "execution_count": 36,
     "metadata": {},
     "output_type": "execute_result"
    }
   ],
   "source": [
    "df = pd.DataFrame({\"Rank\": rank, \"Tracer\": tracerHours})\n",
    "res = ols(y = df['Rank'], x = df[['Tracer']])\n",
    "res"
   ]
  },
  {
   "cell_type": "markdown",
   "metadata": {},
   "source": [
    "##### Widowmaker"
   ]
  },
  {
   "cell_type": "code",
   "execution_count": 37,
   "metadata": {
    "collapsed": false
   },
   "outputs": [
    {
     "data": {
      "text/plain": [
       "\n",
       "-------------------------Summary of Regression Analysis-------------------------\n",
       "\n",
       "Formula: Y ~ <Widowmaker> + <intercept>\n",
       "\n",
       "Number of Observations:         7873\n",
       "Number of Degrees of Freedom:   2\n",
       "\n",
       "R-squared:         0.0492\n",
       "Adj R-squared:     0.0491\n",
       "\n",
       "Rmse:           1289.7504\n",
       "\n",
       "F-stat (1, 7871):   407.4023, p-value:     0.0000\n",
       "\n",
       "Degrees of Freedom: model 1, resid 7871\n",
       "\n",
       "-----------------------Summary of Estimated Coefficients------------------------\n",
       "      Variable       Coef    Std Err     t-stat    p-value    CI 2.5%   CI 97.5%\n",
       "--------------------------------------------------------------------------------\n",
       "    Widowmaker    20.9521     1.0380      20.18     0.0000    18.9175    22.9867\n",
       "     intercept  2562.5056    16.0739     159.42     0.0000  2531.0008  2594.0104\n",
       "---------------------------------End of Summary---------------------------------"
      ]
     },
     "execution_count": 37,
     "metadata": {},
     "output_type": "execute_result"
    }
   ],
   "source": [
    "df = pd.DataFrame({\"Rank\": rank, \"Widowmaker\": widowmakerHours})\n",
    "res = ols(y = df['Rank'], x = df[['Widowmaker']])\n",
    "res"
   ]
  },
  {
   "cell_type": "markdown",
   "metadata": {},
   "source": [
    "##### Winston"
   ]
  },
  {
   "cell_type": "code",
   "execution_count": 38,
   "metadata": {
    "collapsed": false
   },
   "outputs": [
    {
     "data": {
      "text/plain": [
       "\n",
       "-------------------------Summary of Regression Analysis-------------------------\n",
       "\n",
       "Formula: Y ~ <Winston> + <intercept>\n",
       "\n",
       "Number of Observations:         7873\n",
       "Number of Degrees of Freedom:   2\n",
       "\n",
       "R-squared:         0.0283\n",
       "Adj R-squared:     0.0281\n",
       "\n",
       "Rmse:           1303.8862\n",
       "\n",
       "F-stat (1, 7871):   228.8782, p-value:     0.0000\n",
       "\n",
       "Degrees of Freedom: model 1, resid 7871\n",
       "\n",
       "-----------------------Summary of Estimated Coefficients------------------------\n",
       "      Variable       Coef    Std Err     t-stat    p-value    CI 2.5%   CI 97.5%\n",
       "--------------------------------------------------------------------------------\n",
       "       Winston    40.8878     2.7027      15.13     0.0000    35.5906    46.1850\n",
       "     intercept  2579.7288    16.7393     154.11     0.0000  2546.9198  2612.5378\n",
       "---------------------------------End of Summary---------------------------------"
      ]
     },
     "execution_count": 38,
     "metadata": {},
     "output_type": "execute_result"
    }
   ],
   "source": [
    "df = pd.DataFrame({\"Rank\": rank, \"Winston\": winstonHours})\n",
    "res = ols(y = df['Rank'], x = df[['Winston']])\n",
    "res"
   ]
  },
  {
   "cell_type": "markdown",
   "metadata": {},
   "source": [
    "##### Zarya"
   ]
  },
  {
   "cell_type": "code",
   "execution_count": 39,
   "metadata": {
    "collapsed": false
   },
   "outputs": [
    {
     "data": {
      "text/plain": [
       "\n",
       "-------------------------Summary of Regression Analysis-------------------------\n",
       "\n",
       "Formula: Y ~ <Zarya> + <intercept>\n",
       "\n",
       "Number of Observations:         7873\n",
       "Number of Degrees of Freedom:   2\n",
       "\n",
       "R-squared:         0.0527\n",
       "Adj R-squared:     0.0526\n",
       "\n",
       "Rmse:           1287.3746\n",
       "\n",
       "F-stat (1, 7871):   437.9859, p-value:     0.0000\n",
       "\n",
       "Degrees of Freedom: model 1, resid 7871\n",
       "\n",
       "-----------------------Summary of Estimated Coefficients------------------------\n",
       "      Variable       Coef    Std Err     t-stat    p-value    CI 2.5%   CI 97.5%\n",
       "--------------------------------------------------------------------------------\n",
       "         Zarya    26.7804     1.2796      20.93     0.0000    24.2723    29.2885\n",
       "     intercept  2521.0245    16.8662     149.47     0.0000  2487.9668  2554.0821\n",
       "---------------------------------End of Summary---------------------------------"
      ]
     },
     "execution_count": 39,
     "metadata": {},
     "output_type": "execute_result"
    }
   ],
   "source": [
    "df = pd.DataFrame({\"Rank\": rank, \"Zarya\": zaryaHours})\n",
    "res = ols(y = df['Rank'], x = df[['Zarya']])\n",
    "res"
   ]
  },
  {
   "cell_type": "markdown",
   "metadata": {},
   "source": [
    "##### Zenyatta"
   ]
  },
  {
   "cell_type": "code",
   "execution_count": 40,
   "metadata": {
    "collapsed": false
   },
   "outputs": [
    {
     "data": {
      "text/plain": [
       "\n",
       "-------------------------Summary of Regression Analysis-------------------------\n",
       "\n",
       "Formula: Y ~ <Zenyatta> + <intercept>\n",
       "\n",
       "Number of Observations:         7871\n",
       "Number of Degrees of Freedom:   2\n",
       "\n",
       "R-squared:         0.0113\n",
       "Adj R-squared:     0.0112\n",
       "\n",
       "Rmse:           1314.6808\n",
       "\n",
       "F-stat (1, 7869):    90.3112, p-value:     0.0000\n",
       "\n",
       "Degrees of Freedom: model 1, resid 7869\n",
       "\n",
       "-----------------------Summary of Estimated Coefficients------------------------\n",
       "      Variable       Coef    Std Err     t-stat    p-value    CI 2.5%   CI 97.5%\n",
       "--------------------------------------------------------------------------------\n",
       "      Zenyatta    15.9872     1.6823       9.50     0.0000    12.6899    19.2845\n",
       "     intercept  2624.1335    16.9166     155.12     0.0000  2590.9771  2657.2900\n",
       "---------------------------------End of Summary---------------------------------"
      ]
     },
     "execution_count": 40,
     "metadata": {},
     "output_type": "execute_result"
    }
   ],
   "source": [
    "df = pd.DataFrame({\"Rank\": rank, \"Zenyatta\": zenyattaHours})\n",
    "res = ols(y = df['Rank'], x = df[['Zenyatta']])\n",
    "res"
   ]
  },
  {
   "cell_type": "markdown",
   "metadata": {},
   "source": [
    "## Graphs"
   ]
  },
  {
   "cell_type": "code",
   "execution_count": 59,
   "metadata": {
    "collapsed": false
   },
   "outputs": [
    {
     "data": {
      "image/png": "[encoded data removed]",
      "text/plain": [
       "<matplotlib.figure.Figure at 0x12394dbe908>"
      ]
     },
     "metadata": {},
     "output_type": "display_data"
    }
   ],
   "source": [
    "import matplotlib.pyplot as plt\n",
    "%matplotlib inline\n",
    "f=plt.figure(figsize=(20,9))\n",
    "# bar = plt.bar(rank, avgElims)\n",
    "plt.hist(rank, 200)\n",
    "#plt.plot(rank)\n",
    "plt.show()\n",
    "# bar\n",
    "# plt.show(bar)"
   ]
  },
  {
   "cell_type": "code",
   "execution_count": 54,
   "metadata": {
    "collapsed": false
   },
   "outputs": [
    {
     "data": {
      "text/plain": [
       "[60.0,\n",
       " 59.0,\n",
       " 51.0,\n",
       " 62.0,\n",
       " 69.0,\n",
       " 53.0,\n",
       " 68.0,\n",
       " 80.0,\n",
       " 50.0,\n",
       " 64.0,\n",
       " 71.0,\n",
       " 43.0,\n",
       " 52.0,\n",
       " 49.0,\n",
       " 42.0,\n",
       " 58.0,\n",
       " 64.0,\n",
       " 59.0,\n",
       " 60.0,\n",
       " 59.0,\n",
       " 55.0,\n",
       " 66.0,\n",
       " 62.0,\n",
       " 61.0,\n",
       " 46.0,\n",
       " 57.0,\n",
       " 77.0,\n",
       " 70.0,\n",
       " 57.0,\n",
       " 70.0,\n",
       " 54.0,\n",
       " 43.0,\n",
       " 42.0,\n",
       " 57.0,\n",
       " 51.0,\n",
       " 57.0,\n",
       " 59.0,\n",
       " 50.0,\n",
       " 71.0,\n",
       " 72.0,\n",
       " 68.0,\n",
       " 60.0,\n",
       " 57.0,\n",
       " 73.0,\n",
       " 50.0,\n",
       " 58.0,\n",
       " 29.0,\n",
       " 46.0,\n",
       " 45.0,\n",
       " 57.0,\n",
       " 62.0,\n",
       " 50.0,\n",
       " 55.0,\n",
       " 46.0,\n",
       " 56.0,\n",
       " 49.0,\n",
       " 57.0,\n",
       " 57.0,\n",
       " 58.0,\n",
       " 50.0,\n",
       " 41.0,\n",
       " 60.0,\n",
       " 58.0,\n",
       " 59.0,\n",
       " 52.0,\n",
       " 58.0,\n",
       " 51.0,\n",
       " 63.0,\n",
       " 61.0,\n",
       " 43.0,\n",
       " 51.0,\n",
       " 37.0,\n",
       " 56.0,\n",
       " 69.0,\n",
       " 61.0,\n",
       " 48.0,\n",
       " 49.0,\n",
       " 72.0,\n",
       " 64.0,\n",
       " 37.0,\n",
       " 44.0,\n",
       " 63.0,\n",
       " 58.0,\n",
       " 44.0,\n",
       " 57.0,\n",
       " 52.0,\n",
       " 65.0,\n",
       " 41.0,\n",
       " 67.0,\n",
       " 45.0,\n",
       " 36.0,\n",
       " 56.0,\n",
       " 64.0,\n",
       " 50.0,\n",
       " 59.0,\n",
       " 48.0,\n",
       " 61.0,\n",
       " 63.0,\n",
       " 51.0,\n",
       " 45.0,\n",
       " 53.0,\n",
       " 49.0,\n",
       " 63.0,\n",
       " 61.0,\n",
       " 49.0,\n",
       " 64.0,\n",
       " 56.0,\n",
       " 44.0,\n",
       " 57.0,\n",
       " 49.0,\n",
       " 80.0,\n",
       " 43.0,\n",
       " 38.0,\n",
       " 77.0,\n",
       " 41.0,\n",
       " 40.0,\n",
       " 63.0,\n",
       " 50.0,\n",
       " 48.0,\n",
       " 57.0,\n",
       " 56.0,\n",
       " 56.0,\n",
       " 70.0,\n",
       " 55.0,\n",
       " 41.0,\n",
       " 60.0,\n",
       " 75.0,\n",
       " 60.0,\n",
       " 79.0,\n",
       " 52.0,\n",
       " 65.0,\n",
       " 63.0,\n",
       " 65.0,\n",
       " 61.0,\n",
       " 62.0,\n",
       " 60.0,\n",
       " 53.0,\n",
       " 64.0,\n",
       " 45.0,\n",
       " 59.0,\n",
       " 41.0,\n",
       " 53.0,\n",
       " 56.0,\n",
       " 62.0,\n",
       " 65.0,\n",
       " 35.0,\n",
       " 59.0,\n",
       " 57.0,\n",
       " 52.0,\n",
       " 62.0,\n",
       " 72.0,\n",
       " 49.0,\n",
       " 54.0,\n",
       " 76.0,\n",
       " 43.0,\n",
       " 44.0,\n",
       " 57.0,\n",
       " 64.0,\n",
       " 60.0,\n",
       " 52.0,\n",
       " 47.0,\n",
       " 37.0,\n",
       " 44.0,\n",
       " 67.0,\n",
       " 62.0,\n",
       " 60.0,\n",
       " 57.0,\n",
       " 67.0,\n",
       " 49.0,\n",
       " 63.0,\n",
       " 57.0,\n",
       " 55.0,\n",
       " 56.0,\n",
       " 51.0,\n",
       " 61.0,\n",
       " 68.0,\n",
       " 45.0,\n",
       " 64.0,\n",
       " 44.0,\n",
       " 47.0,\n",
       " 47.0,\n",
       " 67.0,\n",
       " 53.0,\n",
       " 57.0,\n",
       " 58.0,\n",
       " 55.0,\n",
       " 50.0,\n",
       " 56.0,\n",
       " 38.0,\n",
       " 61.0,\n",
       " 69.0,\n",
       " 42.0,\n",
       " 54.0,\n",
       " 70.0,\n",
       " 50.0,\n",
       " 61.0,\n",
       " 51.0,\n",
       " 47.0,\n",
       " 54.0,\n",
       " 72.0,\n",
       " 64.0,\n",
       " 55.0,\n",
       " 41.0,\n",
       " 54.0,\n",
       " 41.0,\n",
       " 70.0,\n",
       " 53.0,\n",
       " 47.0,\n",
       " 55.0,\n",
       " 52.0,\n",
       " 63.0,\n",
       " 39.0,\n",
       " 53.0,\n",
       " 53.0,\n",
       " 48.0,\n",
       " 53.0,\n",
       " 41.0,\n",
       " 52.0,\n",
       " 59.0,\n",
       " 76.0,\n",
       " 69.0,\n",
       " 41.0,\n",
       " 67.0,\n",
       " 63.0,\n",
       " 59.0,\n",
       " 60.0,\n",
       " 66.0,\n",
       " 61.0,\n",
       " 73.0,\n",
       " 52.0,\n",
       " 56.0,\n",
       " 67.0,\n",
       " 38.0,\n",
       " 33.0,\n",
       " 55.0,\n",
       " 65.0,\n",
       " 70.0,\n",
       " 53.0,\n",
       " 45.0,\n",
       " 40.0,\n",
       " 61.0,\n",
       " 60.0,\n",
       " 57.0,\n",
       " 67.0,\n",
       " 26.0,\n",
       " 45.0,\n",
       " 46.0,\n",
       " 75.0,\n",
       " 58.0,\n",
       " 40.0,\n",
       " 48.0,\n",
       " 72.0,\n",
       " 58.0,\n",
       " 63.0,\n",
       " 55.0,\n",
       " 62.0,\n",
       " 53.0,\n",
       " 49.0,\n",
       " 77.0,\n",
       " 48.0,\n",
       " 59.0,\n",
       " 44.0,\n",
       " 54.0,\n",
       " 57.0,\n",
       " 49.0,\n",
       " 47.0,\n",
       " 60.0,\n",
       " 59.0,\n",
       " 41.0,\n",
       " 50.0,\n",
       " 56.0,\n",
       " 65.0,\n",
       " 48.0,\n",
       " 70.0,\n",
       " 68.0,\n",
       " 68.0,\n",
       " 45.0,\n",
       " 54.0,\n",
       " 49.0,\n",
       " 63.0,\n",
       " 63.0,\n",
       " 58.0,\n",
       " 67.0,\n",
       " 74.0,\n",
       " 70.0,\n",
       " 74.0,\n",
       " 44.0,\n",
       " 39.0,\n",
       " 66.0,\n",
       " 71.0,\n",
       " 43.0,\n",
       " 61.0,\n",
       " 45.0,\n",
       " 47.0,\n",
       " 59.0,\n",
       " 53.0,\n",
       " 60.0,\n",
       " 62.0,\n",
       " 54.0,\n",
       " 70.0,\n",
       " 55.0,\n",
       " 58.0,\n",
       " 51.0,\n",
       " 59.0,\n",
       " 57.0,\n",
       " 63.0,\n",
       " 38.0,\n",
       " 63.0,\n",
       " 60.0,\n",
       " 60.0,\n",
       " 48.0,\n",
       " 55.0,\n",
       " 42.0,\n",
       " 63.0,\n",
       " 50.0,\n",
       " 52.0,\n",
       " 55.0,\n",
       " 48.0,\n",
       " 68.0,\n",
       " 63.0,\n",
       " 47.0,\n",
       " 64.0,\n",
       " 80.0,\n",
       " 52.0,\n",
       " 52.0,\n",
       " 54.0,\n",
       " 67.0,\n",
       " 47.0,\n",
       " 42.0,\n",
       " 67.0,\n",
       " 49.0,\n",
       " 77.0,\n",
       " 51.0,\n",
       " 40.0,\n",
       " 43.0,\n",
       " 50.0,\n",
       " 57.0,\n",
       " 46.0,\n",
       " 48.0,\n",
       " 43.0,\n",
       " 71.0,\n",
       " 61.0,\n",
       " 77.0,\n",
       " 52.0,\n",
       " 74.0,\n",
       " 54.0,\n",
       " 59.0,\n",
       " 35.0,\n",
       " 57.0,\n",
       " 64.0,\n",
       " 59.0,\n",
       " 49.0,\n",
       " 44.0,\n",
       " 45.0,\n",
       " 48.0,\n",
       " 54.0,\n",
       " 67.0,\n",
       " 68.0,\n",
       " 40.0,\n",
       " 71.0,\n",
       " 50.0,\n",
       " 66.0,\n",
       " 43.0,\n",
       " 36.0,\n",
       " 49.0,\n",
       " 73.0,\n",
       " 73.0,\n",
       " 35.0,\n",
       " 69.0,\n",
       " 50.0,\n",
       " 57.0,\n",
       " 71.0,\n",
       " 54.0,\n",
       " 71.0,\n",
       " 53.0,\n",
       " 48.0,\n",
       " 53.0,\n",
       " 49.0,\n",
       " 71.0,\n",
       " 42.0,\n",
       " 53.0,\n",
       " 60.0,\n",
       " 52.0,\n",
       " 49.0,\n",
       " 54.0,\n",
       " 61.0,\n",
       " 51.0,\n",
       " 64.0,\n",
       " 57.0,\n",
       " 67.0,\n",
       " 79.0,\n",
       " 67.0,\n",
       " 46.0,\n",
       " 50.0,\n",
       " 49.0,\n",
       " 55.0,\n",
       " 39.0,\n",
       " 41.0,\n",
       " 61.0,\n",
       " 62.0,\n",
       " 44.0,\n",
       " 54.0,\n",
       " 71.0,\n",
       " 53.0,\n",
       " 76.0,\n",
       " 47.0,\n",
       " 57.0,\n",
       " 52.0,\n",
       " 56.0,\n",
       " 68.0,\n",
       " 57.0,\n",
       " 58.0,\n",
       " 45.0,\n",
       " 72.0,\n",
       " 41.0,\n",
       " 66.0,\n",
       " 55.0,\n",
       " 65.0,\n",
       " 49.0,\n",
       " 54.0,\n",
       " 67.0,\n",
       " 61.0,\n",
       " 51.0,\n",
       " 64.0,\n",
       " 55.0,\n",
       " 65.0,\n",
       " 63.0,\n",
       " 59.0,\n",
       " 60.0,\n",
       " 59.0,\n",
       " 50.0,\n",
       " 59.0,\n",
       " 51.0,\n",
       " 53.0,\n",
       " 46.0,\n",
       " 45.0,\n",
       " 64.0,\n",
       " 47.0,\n",
       " 61.0,\n",
       " 55.0,\n",
       " 54.0,\n",
       " 69.0,\n",
       " 66.0,\n",
       " 56.0,\n",
       " 60.0,\n",
       " 67.0,\n",
       " 52.0,\n",
       " 66.0,\n",
       " 48.0,\n",
       " 52.0,\n",
       " 57.0,\n",
       " 60.0,\n",
       " 46.0,\n",
       " 42.0,\n",
       " 49.0,\n",
       " 59.0,\n",
       " 61.0,\n",
       " 70.0,\n",
       " 79.0,\n",
       " 54.0,\n",
       " 56.0,\n",
       " 52.0,\n",
       " 50.0,\n",
       " 56.0,\n",
       " 42.0,\n",
       " 57.0,\n",
       " 52.0,\n",
       " 49.0,\n",
       " 52.0,\n",
       " 74.0,\n",
       " 73.0,\n",
       " 52.0,\n",
       " 48.0,\n",
       " 66.0,\n",
       " 68.0,\n",
       " 56.0,\n",
       " 51.0,\n",
       " 65.0,\n",
       " 60.0,\n",
       " 64.0,\n",
       " 52.0,\n",
       " 67.0,\n",
       " 51.0,\n",
       " 60.0,\n",
       " 57.0,\n",
       " 47.0,\n",
       " 65.0,\n",
       " 63.0,\n",
       " 64.0,\n",
       " 59.0,\n",
       " 48.0,\n",
       " 51.0,\n",
       " 76.0,\n",
       " 35.0,\n",
       " 38.0,\n",
       " 57.0,\n",
       " 63.0,\n",
       " 75.0,\n",
       " 45.0,\n",
       " 51.0,\n",
       " 52.0,\n",
       " 61.0,\n",
       " 64.0,\n",
       " 44.0,\n",
       " 58.0,\n",
       " 43.0,\n",
       " 44.0,\n",
       " 48.0,\n",
       " 50.0,\n",
       " 57.0,\n",
       " 59.0,\n",
       " 74.0,\n",
       " 48.0,\n",
       " 59.0,\n",
       " 58.0,\n",
       " 54.0,\n",
       " 50.0,\n",
       " 34.0,\n",
       " 72.0,\n",
       " 55.0,\n",
       " 73.0,\n",
       " 64.0,\n",
       " 44.0,\n",
       " 64.0,\n",
       " 46.0,\n",
       " 52.0,\n",
       " 75.0,\n",
       " 49.0,\n",
       " 78.0,\n",
       " 38.0,\n",
       " 60.0,\n",
       " 62.0,\n",
       " 39.0,\n",
       " 51.0,\n",
       " 47.0,\n",
       " 42.0,\n",
       " 53.0,\n",
       " 47.0,\n",
       " 53.0,\n",
       " 48.0,\n",
       " 68.0,\n",
       " 55.0,\n",
       " 43.0,\n",
       " 50.0,\n",
       " 65.0,\n",
       " 55.0,\n",
       " 70.0,\n",
       " 50.0,\n",
       " 55.0,\n",
       " 64.0,\n",
       " 44.0,\n",
       " 53.0,\n",
       " 49.0,\n",
       " 70.0,\n",
       " 67.0,\n",
       " 58.0,\n",
       " 62.0,\n",
       " 68.0,\n",
       " 66.0,\n",
       " 51.0,\n",
       " 49.0,\n",
       " 66.0,\n",
       " 64.0,\n",
       " 46.0,\n",
       " 55.0,\n",
       " 48.0,\n",
       " 45.0,\n",
       " 57.0,\n",
       " 57.0,\n",
       " 67.0,\n",
       " 49.0,\n",
       " 55.0,\n",
       " 55.0,\n",
       " 59.0,\n",
       " 61.0,\n",
       " 47.0,\n",
       " 41.0,\n",
       " 47.0,\n",
       " 49.0,\n",
       " 73.0,\n",
       " 71.0,\n",
       " 52.0,\n",
       " 63.0,\n",
       " 61.0,\n",
       " 62.0,\n",
       " 58.0,\n",
       " 66.0,\n",
       " 46.0,\n",
       " 57.0,\n",
       " 41.0,\n",
       " 44.0,\n",
       " 78.0,\n",
       " 50.0,\n",
       " 51.0,\n",
       " 66.0,\n",
       " 57.0,\n",
       " 45.0,\n",
       " 57.0,\n",
       " 62.0,\n",
       " 55.0,\n",
       " 64.0,\n",
       " 60.0,\n",
       " 46.0,\n",
       " 64.0,\n",
       " 52.0,\n",
       " 47.0,\n",
       " 56.0,\n",
       " 41.0,\n",
       " 74.0,\n",
       " 53.0,\n",
       " 72.0,\n",
       " 74.0,\n",
       " 56.0,\n",
       " 53.0,\n",
       " 48.0,\n",
       " 59.0,\n",
       " 49.0,\n",
       " 63.0,\n",
       " 51.0,\n",
       " 59.0,\n",
       " 48.0,\n",
       " 49.0,\n",
       " 63.0,\n",
       " 74.0,\n",
       " 71.0,\n",
       " 60.0,\n",
       " 72.0,\n",
       " 55.0,\n",
       " 59.0,\n",
       " 39.0,\n",
       " 51.0,\n",
       " 57.0,\n",
       " 56.0,\n",
       " 43.0,\n",
       " 60.0,\n",
       " 55.0,\n",
       " 45.0,\n",
       " 55.0,\n",
       " 54.0,\n",
       " 51.0,\n",
       " 45.0,\n",
       " 60.0,\n",
       " 58.0,\n",
       " 53.0,\n",
       " 74.0,\n",
       " 60.0,\n",
       " 47.0,\n",
       " 57.0,\n",
       " 54.0,\n",
       " 49.0,\n",
       " 59.0,\n",
       " 71.0,\n",
       " 43.0,\n",
       " 47.0,\n",
       " 64.0,\n",
       " 46.0,\n",
       " 48.0,\n",
       " 52.0,\n",
       " 54.0,\n",
       " 74.0,\n",
       " 52.0,\n",
       " 47.0,\n",
       " 53.0,\n",
       " 61.0,\n",
       " 62.0,\n",
       " 47.0,\n",
       " 36.0,\n",
       " 66.0,\n",
       " 50.0,\n",
       " 40.0,\n",
       " 55.0,\n",
       " 60.0,\n",
       " 65.0,\n",
       " 65.0,\n",
       " 55.0,\n",
       " 60.0,\n",
       " 32.0,\n",
       " 56.0,\n",
       " 54.0,\n",
       " 44.0,\n",
       " 46.0,\n",
       " 43.0,\n",
       " 75.0,\n",
       " 55.0,\n",
       " 54.0,\n",
       " 64.0,\n",
       " 60.0,\n",
       " 61.0,\n",
       " 36.0,\n",
       " 61.0,\n",
       " 56.0,\n",
       " 45.0,\n",
       " 59.0,\n",
       " 43.0,\n",
       " 52.0,\n",
       " 45.0,\n",
       " 54.0,\n",
       " 63.0,\n",
       " 44.0,\n",
       " 80.0,\n",
       " 64.0,\n",
       " 46.0,\n",
       " 71.0,\n",
       " 53.0,\n",
       " 60.0,\n",
       " 70.0,\n",
       " 50.0,\n",
       " 31.0,\n",
       " 43.0,\n",
       " 56.0,\n",
       " 72.0,\n",
       " 76.0,\n",
       " 47.0,\n",
       " 48.0,\n",
       " 77.0,\n",
       " 52.0,\n",
       " 46.0,\n",
       " 57.0,\n",
       " 66.0,\n",
       " 50.0,\n",
       " 55.0,\n",
       " 51.0,\n",
       " 42.0,\n",
       " 57.0,\n",
       " 51.0,\n",
       " 62.0,\n",
       " 60.0,\n",
       " 37.0,\n",
       " 61.0,\n",
       " 75.0,\n",
       " 47.0,\n",
       " 56.0,\n",
       " 64.0,\n",
       " 46.0,\n",
       " 57.0,\n",
       " 56.0,\n",
       " 33.0,\n",
       " 50.0,\n",
       " 46.0,\n",
       " 74.0,\n",
       " 45.0,\n",
       " 60.0,\n",
       " 48.0,\n",
       " 43.0,\n",
       " 50.0,\n",
       " 82.0,\n",
       " 80.0,\n",
       " 62.0,\n",
       " 80.0,\n",
       " 78.0,\n",
       " 68.0,\n",
       " 76.0,\n",
       " 76.0,\n",
       " 81.0,\n",
       " 79.0,\n",
       " 60.0,\n",
       " 70.0,\n",
       " 81.0,\n",
       " 73.0,\n",
       " 69.0,\n",
       " 49.0,\n",
       " 80.0,\n",
       " 73.0,\n",
       " 75.0,\n",
       " 88.0,\n",
       " 77.0,\n",
       " 77.0,\n",
       " 79.0,\n",
       " 69.0,\n",
       " 79.0,\n",
       " 82.0,\n",
       " 64.0,\n",
       " 82.0,\n",
       " 84.0,\n",
       " 80.0,\n",
       " 61.0,\n",
       " 68.0,\n",
       " 46.0,\n",
       " 43.0,\n",
       " 54.0,\n",
       " 38.0,\n",
       " 53.0,\n",
       " 47.0,\n",
       " 38.0,\n",
       " 34.0,\n",
       " 50.0,\n",
       " 48.0,\n",
       " 41.0,\n",
       " 66.0,\n",
       " 66.0,\n",
       " 33.0,\n",
       " 39.0,\n",
       " 30.0,\n",
       " 29.0,\n",
       " 40.0]"
      ]
     },
     "execution_count": 54,
     "metadata": {},
     "output_type": "execute_result"
    }
   ],
   "source": [
    "zeros = [x for x in rank if x >= 0 and x <= 100]\n",
    "zeros"
   ]
  }
 ],
 "metadata": {
  "kernelspec": {
   "display_name": "Python 3",
   "language": "python",
   "name": "python3"
  },
  "language_info": {
   "codemirror_mode": {
    "name": "ipython",
    "version": 3
   },
   "file_extension": ".py",
   "mimetype": "text/x-python",
   "name": "python",
   "nbconvert_exporter": "python",
   "pygments_lexer": "ipython3",
   "version": "3.6.0"
  }
 },
 "nbformat": 4,
 "nbformat_minor": 2
}
