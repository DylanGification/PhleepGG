{
 "cells": [
  {
   "cell_type": "markdown",
   "metadata": {},
   "source": [
    "# _Initialisation of Variables_"
   ]
  },
  {
   "cell_type": "markdown",
   "metadata": {},
   "source": [
    "#### Imports"
   ]
  },
  {
   "cell_type": "code",
   "execution_count": 1,
   "metadata": {
    "collapsed": true
   },
   "outputs": [],
   "source": [
    "import pandas as pd\n",
    "import numpy as np\n",
    "import statsmodels.api as sm\n",
    "import matplotlib.pyplot as plt\n",
    "from pandas.stats.api import ols\n",
    "import warnings\n",
    "warnings.filterwarnings('ignore')\n",
    "data = pd.read_json(\"OverwatchFullDB.json\")"
   ]
  },
  {
   "cell_type": "markdown",
   "metadata": {},
   "source": [
    "#### Arrays"
   ]
  },
  {
   "cell_type": "code",
   "execution_count": 3,
   "metadata": {
    "collapsed": false
   },
   "outputs": [],
   "source": [
    "rank = [x for x in data['rank']] \n",
    "level = [x for x in data['level']] \n",
    "comp = [x for x in data.get('comp', {})]\n",
    "qp = [x for x in data.get('qp', {})]\n",
    "heroes = [x for x in data.get('heroes', {})]"
   ]
  },
  {
   "cell_type": "markdown",
   "metadata": {},
   "source": [
    "#### Functions"
   ]
  },
  {
   "cell_type": "code",
   "execution_count": 4,
   "metadata": {
    "collapsed": true
   },
   "outputs": [],
   "source": [
    "def getAvgElims(x):\n",
    "    b = x.get('average', {})\n",
    "    return(b.get('elims', {}))\n",
    "def getTotalElims(x):\n",
    "    b = x.get('total', {})\n",
    "    return(b.get('elims', {}))\n",
    "def getMostElims(x):\n",
    "    b = x.get('most', {})\n",
    "    return(b.get('elims', {}))\n",
    "def getGames(x):\n",
    "    b = x.get('total',{})\n",
    "    return(b.get('games',{}))\n",
    "def getAna(x):\n",
    "    b = x.get('playtime',{})\n",
    "    return(b.get('ana',{}))\n",
    "def getBastion(x):\n",
    "    b = x.get('playtime',{})\n",
    "    return(b.get('bastion',{}))\n",
    "def getDva(x):\n",
    "    b = x.get('playtime',{})\n",
    "    return(b.get('dva',{}))\n",
    "def getGenji(x):\n",
    "    b = x.get('playtime',{})\n",
    "    return(b.get('genji',{}))\n",
    "def getHanzo(x):\n",
    "    b = x.get('playtime',{})\n",
    "    return(b.get('hanzo',{}))\n",
    "def getJunkrat(x):\n",
    "    b = x.get('playtime',{})\n",
    "    return(b.get('junkrat',{}))\n",
    "def getLucio(x):\n",
    "    b = x.get('playtime',{})\n",
    "    return(b.get('lucio',{}))\n",
    "def getMccree(x):\n",
    "    b = x.get('playtime',{})\n",
    "    return(b.get('mccree',{}))\n",
    "def getMei(x):\n",
    "    b = x.get('playtime',{})\n",
    "    return(b.get('mei',{}))\n",
    "def getMercy(x):\n",
    "    b = x.get('playtime',{})\n",
    "    return(b.get('mercy',{}))\n",
    "def getOrisa(x):\n",
    "    b = x.get('playtime',{})\n",
    "    return(b.get('orisa',{}))\n",
    "def getPharah(x):\n",
    "    b = x.get('playtime',{})\n",
    "    return(b.get('pharah',{}))\n",
    "def getReaper(x):\n",
    "    b = x.get('playtime',{})\n",
    "    return(b.get('reaper',{}))\n",
    "def getReinhardt(x):\n",
    "    b = x.get('playtime',{})\n",
    "    return(b.get('reinhardt',{}))\n",
    "def getRoadhog(x):\n",
    "    b = x.get('playtime',{})\n",
    "    return(b.get('roadhog',{}))\n",
    "def getSoldier76(x):\n",
    "    b = x.get('playtime',{})\n",
    "    return(b.get('soldier76',{}))\n",
    "def getSombra(x):\n",
    "    b = x.get('playtime',{})\n",
    "    return(b.get('sombra',{}))\n",
    "def getSymmetra(x):\n",
    "    b = x.get('playtime',{})\n",
    "    return(b.get('symmetra',{}))\n",
    "def getTorbjorn(x):\n",
    "    b = x.get('playtime',{})\n",
    "    return(b.get('torbjorn',{}))\n",
    "def getTracer(x):\n",
    "    b = x.get('playtime',{})\n",
    "    return(b.get('tracer',{}))\n",
    "def getWidowmaker(x):\n",
    "    b = x.get('playtime',{})\n",
    "    return(b.get('widowmaker',{}))\n",
    "def getWinston(x):\n",
    "    b = x.get('playtime',{})\n",
    "    return(b.get('winston',{}))\n",
    "def getZarya(x):\n",
    "    b = x.get('playtime',{})\n",
    "    return(b.get('zarya',{}))\n",
    "def getZenyatta(x):\n",
    "    b = x.get('playtime',{})\n",
    "    return(b.get('zenyatta',{}))\n",
    "def filterNaN(x):\n",
    "    if x<1e100:\n",
    "        return(x)\n",
    "    else:\n",
    "        return(0)\n",
    "def filterLowRank(x):\n",
    "    if x > 0 and x < 1666:\n",
    "        return(x)\n",
    "    else:\n",
    "        return(0)\n",
    "def filterMedRank(x):\n",
    "    if x > 1666 and x < 3332:\n",
    "        return(x)\n",
    "    else:\n",
    "        return(0)\n",
    "def filterHighRank(x):\n",
    "    if x > 3332 and x < 5001:\n",
    "        return(x)\n",
    "    else:\n",
    "        return(0)"
   ]
  },
  {
   "cell_type": "markdown",
   "metadata": {},
   "source": [
    "#### Parameters"
   ]
  },
  {
   "cell_type": "code",
   "execution_count": 5,
   "metadata": {
    "collapsed": false
   },
   "outputs": [],
   "source": [
    "compGames = [getGames(x) for x in  comp]\n",
    "qpGames = [getGames(x) for x in  qp]\n",
    "anaHours = [getAna(x) for x in heroes]\n",
    "bastionHours = [getBastion(x) for x in heroes]\n",
    "dvaHours = [getDva(x) for x in heroes]\n",
    "genjiHours = [getGenji(x) for x in heroes]\n",
    "hanzoHours = [getHanzo(x) for x in heroes]\n",
    "junkratHours = [getJunkrat(x) for x in heroes]\n",
    "lucioHours = [getLucio(x) for x in heroes]\n",
    "mccreeHours = [getMccree(x) for x in heroes]\n",
    "meiHours = [getMei(x) for x in heroes]\n",
    "mercyHours = [getMercy(x) for x in heroes]\n",
    "orisaHours = [getOrisa(x) for x in heroes]\n",
    "pharahHours = [getPharah(x) for x in heroes]\n",
    "reaperHours = [getReaper(x) for x in heroes]\n",
    "reinhardtHours = [getReinhardt(x) for x in heroes]\n",
    "roadhogHours = [getRoadhog(x) for x in heroes]\n",
    "soldier76Hours = [getSoldier76(x) for x in heroes]\n",
    "#sombraHours = [getSombra(x) for x in heroes]\n",
    "symmetraHours = [getSymmetra(x) for x in heroes]\n",
    "torbjornHours = [getTorbjorn(x) for x in heroes]\n",
    "tracerHours = [getTracer(x) for x in heroes]\n",
    "widowmakerHours = [getWidowmaker(x) for x in heroes]\n",
    "winstonHours = [getWinston(x) for x in heroes]\n",
    "zaryaHours = [getZarya(x) for x in heroes]\n",
    "zenyattaHours = [getZenyatta(x) for x in heroes]\n",
    "rankFiltered=[filterNaN(x) for x in rank]\n",
    "levelFiltered= [filterNaN(x) for x in level]\n",
    "lowRank = [filterLowRank(x) for x in rank]\n",
    "medRank = [filterMedRank(x) for x in rank]\n",
    "highRank = [filterHighRank(x) for x in rank]\n",
    "avgElims = [getAvgElims(x) for x in comp]\n",
    "totalElims = [getTotalElims(x) for x in comp]\n",
    "mostElims = [getMostElims(x) for x in comp]"
   ]
  },
  {
   "cell_type": "markdown",
   "metadata": {},
   "source": [
    "# Analytics"
   ]
  },
  {
   "cell_type": "markdown",
   "metadata": {},
   "source": [
    "## Sample size of ~1000 players"
   ]
  },
  {
   "cell_type": "markdown",
   "metadata": {},
   "source": [
    "### MLS Fit for all set of parameters"
   ]
  },
  {
   "cell_type": "code",
   "execution_count": 6,
   "metadata": {
    "collapsed": false,
    "scrolled": false
   },
   "outputs": [
    {
     "data": {
      "text/plain": [
       "\n",
       "-------------------------Summary of Regression Analysis-------------------------\n",
       "\n",
       "Formula: Y ~ <Level> + <Comp Games> + <Quick Games> + <Ana> + <Bastion> + <D.Va>\n",
       "             + <Genji> + <Hanzo> + <Junkrat> + <Lucio> + <McCree> + <Mei>\n",
       "             + <Mercy> + <Orisa> + <Pharah> + <Reaper> + <Reinhardt> + <Roadhog>\n",
       "             + <Soldier76> + <Symmetra> + <Torbjorn> + <Tracer> + <Widowmaker>\n",
       "             + <Winston> + <Zarya> + <Zenyatta> + <intercept>\n",
       "\n",
       "Number of Observations:         1064\n",
       "Number of Degrees of Freedom:   27\n",
       "\n",
       "R-squared:         0.2281\n",
       "Adj R-squared:     0.2087\n",
       "\n",
       "Rmse:           1337.9389\n",
       "\n",
       "F-stat (26, 1037):    11.7860, p-value:     0.0000\n",
       "\n",
       "Degrees of Freedom: model 26, resid 1037\n",
       "\n",
       "-----------------------Summary of Estimated Coefficients------------------------\n",
       "      Variable       Coef    Std Err     t-stat    p-value    CI 2.5%   CI 97.5%\n",
       "--------------------------------------------------------------------------------\n",
       "         Level     0.7969     1.4599       0.55     0.5853    -2.0646     3.6584\n",
       "    Comp Games     1.3557     1.0721       1.26     0.2063    -0.7457     3.4570\n",
       "   Quick Games    -0.0070     0.6460      -0.01     0.9913    -1.2731     1.2590\n",
       "           Ana     6.4847     7.7997       0.83     0.4059    -8.8026    21.7720\n",
       "       Bastion    28.1365    11.3934       2.47     0.0137     5.8055    50.4676\n",
       "--------------------------------------------------------------------------------\n",
       "          D.Va    -7.3421     5.8592      -1.25     0.2105   -18.8261     4.1419\n",
       "         Genji     3.6323     5.2253       0.70     0.4871    -6.6094    13.8740\n",
       "         Hanzo     6.2629     6.0979       1.03     0.3046    -5.6890    18.2147\n",
       "       Junkrat   -15.5118     7.7703      -2.00     0.0462   -30.7416    -0.2821\n",
       "         Lucio     3.6914     5.8279       0.63     0.5266    -7.7313    15.1141\n",
       "--------------------------------------------------------------------------------\n",
       "        McCree    12.5183     6.4057       1.95     0.0509    -0.0368    25.0734\n",
       "           Mei     6.2182    10.4056       0.60     0.5502   -14.1767    26.6131\n",
       "         Mercy     2.8266     5.1750       0.55     0.5850    -7.3163    12.9695\n",
       "         Orisa   141.5531   104.7078       1.35     0.1767   -63.6741   346.7804\n",
       "        Pharah     5.5703     6.3694       0.87     0.3820    -6.9139    18.0544\n",
       "--------------------------------------------------------------------------------\n",
       "        Reaper   -14.0914     6.9698      -2.02     0.0435   -27.7522    -0.4306\n",
       "     Reinhardt     4.3947     6.6133       0.66     0.5065    -8.5674    17.3569\n",
       "       Roadhog    11.7741     6.0395       1.95     0.0515    -0.0632    23.6114\n",
       "     Soldier76     9.5776     7.3765       1.30     0.1944    -4.8803    24.0356\n",
       "      Symmetra     5.9898     8.3675       0.72     0.4743   -10.4106    22.3901\n",
       "--------------------------------------------------------------------------------\n",
       "      Torbjorn   -17.8530     9.3635      -1.91     0.0568   -36.2054     0.4995\n",
       "        Tracer     8.5710     5.8623       1.46     0.1440    -2.9191    20.0612\n",
       "    Widowmaker     8.9732     6.3676       1.41     0.1591    -3.5074    21.4537\n",
       "       Winston     2.2778     7.8813       0.29     0.7726   -13.1695    17.7252\n",
       "         Zarya     9.9907     6.7531       1.48     0.1393    -3.2453    23.2267\n",
       "--------------------------------------------------------------------------------\n",
       "      Zenyatta    -5.4216     7.4758      -0.73     0.4685   -20.0742     9.2311\n",
       "     intercept  1979.6076   114.0226      17.36     0.0000  1756.1233  2203.0920\n",
       "---------------------------------End of Summary---------------------------------"
      ]
     },
     "execution_count": 6,
     "metadata": {},
     "output_type": "execute_result"
    }
   ],
   "source": [
    "df = pd.DataFrame({\"Rank\": rankFiltered, \"Level\": level, \"Comp Games\": compGames, \"Quick Games\": qpGames, \"Ana\": anaHours, \"Bastion\": bastionHours, \"D.Va\": dvaHours, \"Genji\": genjiHours, \"Hanzo\": hanzoHours, \"Junkrat\": junkratHours, \"Lucio\": lucioHours, \"McCree\": mccreeHours, \"Mei\": meiHours, \"Mercy\": mercyHours, \"Orisa\": orisaHours, \"Pharah\": pharahHours, \"Reaper\": reaperHours, \"Reinhardt\": reinhardtHours, \"Roadhog\": roadhogHours, \"Soldier76\": soldier76Hours, \"Symmetra\": symmetraHours, \"Torbjorn\": torbjornHours, \"Tracer\": tracerHours, \"Widowmaker\": widowmakerHours, \"Winston\": winstonHours, \"Zarya\": zaryaHours, \"Zenyatta\": zenyattaHours})\n",
    "res = ols(y = df['Rank'], x = df[['Level','Comp Games', 'Quick Games', 'Ana', 'Bastion', 'D.Va', 'Genji', 'Hanzo', 'Junkrat', 'Lucio', 'McCree', 'Mei', 'Mercy', 'Orisa', 'Pharah', 'Reaper', 'Reinhardt', 'Roadhog', 'Soldier76', 'Symmetra', 'Torbjorn', 'Tracer', 'Widowmaker', 'Winston', 'Zarya', 'Zenyatta']])\n",
    "res"
   ]
  },
  {
   "cell_type": "markdown",
   "metadata": {},
   "source": [
    "#### MLS Fit for Competitive Games and All Heroes (minus Orisa/Sombra)"
   ]
  },
  {
   "cell_type": "code",
   "execution_count": 7,
   "metadata": {
    "collapsed": false,
    "scrolled": false
   },
   "outputs": [
    {
     "data": {
      "text/plain": [
       "\n",
       "-------------------------Summary of Regression Analysis-------------------------\n",
       "\n",
       "Formula: Y ~ <Comp Games> + <Ana> + <Bastion> + <D.Va> + <Genji> + <Hanzo>\n",
       "             + <Junkrat> + <Lucio> + <McCree> + <Mei> + <Mercy> + <Pharah> + <Reaper>\n",
       "             + <Reinhardt> + <Roadhog> + <Soldier76> + <Symmetra> + <Torbjorn>\n",
       "             + <Tracer> + <Widowmaker> + <Winston> + <Zarya> + <Zenyatta>\n",
       "             + <intercept>\n",
       "\n",
       "Number of Observations:         1064\n",
       "Number of Degrees of Freedom:   24\n",
       "\n",
       "R-squared:         0.2264\n",
       "Adj R-squared:     0.2093\n",
       "\n",
       "Rmse:           1337.4800\n",
       "\n",
       "F-stat (23, 1040):    13.2329, p-value:     0.0000\n",
       "\n",
       "Degrees of Freedom: model 23, resid 1040\n",
       "\n",
       "-----------------------Summary of Estimated Coefficients------------------------\n",
       "      Variable       Coef    Std Err     t-stat    p-value    CI 2.5%   CI 97.5%\n",
       "--------------------------------------------------------------------------------\n",
       "    Comp Games     1.3236     0.3482       3.80     0.0002     0.6411     2.0061\n",
       "           Ana     6.2322     5.5679       1.12     0.2633    -4.6809    17.1453\n",
       "       Bastion    29.7135     9.6691       3.07     0.0022    10.7620    48.6650\n",
       "          D.Va    -6.9513     3.0225      -2.30     0.0217   -12.8753    -1.0272\n",
       "         Genji     3.5506     1.5247       2.33     0.0201     0.5621     6.5390\n",
       "--------------------------------------------------------------------------------\n",
       "         Hanzo     6.3209     3.5126       1.80     0.0722    -0.5637    13.2056\n",
       "       Junkrat   -15.5840     5.7923      -2.69     0.0072   -26.9369    -4.2311\n",
       "         Lucio     3.7391     2.8555       1.31     0.1907    -1.8576     9.3358\n",
       "        McCree    12.5762     3.3647       3.74     0.0002     5.9813    19.1711\n",
       "           Mei     6.9732     8.6893       0.80     0.4224   -10.0579    24.0043\n",
       "--------------------------------------------------------------------------------\n",
       "         Mercy     2.7701     1.3555       2.04     0.0413     0.1132     5.4270\n",
       "        Pharah     5.3336     3.8420       1.39     0.1654    -2.1968    12.8639\n",
       "        Reaper   -14.4046     5.0228      -2.87     0.0042   -24.2493    -4.5600\n",
       "     Reinhardt     4.1019     4.3508       0.94     0.3460    -4.4257    12.6296\n",
       "       Roadhog    11.8941     3.5624       3.34     0.0009     4.9117    18.8764\n",
       "--------------------------------------------------------------------------------\n",
       "     Soldier76     9.1575     5.2038       1.76     0.0787    -1.0420    19.3569\n",
       "      Symmetra     6.4484     6.5426       0.99     0.3246    -6.3752    19.2719\n",
       "      Torbjorn   -17.1783     8.1569      -2.11     0.0354   -33.1659    -1.1907\n",
       "        Tracer     8.2743     3.2259       2.56     0.0105     1.9514    14.5971\n",
       "    Widowmaker     9.0736     3.2693       2.78     0.0056     2.6657    15.4815\n",
       "--------------------------------------------------------------------------------\n",
       "       Winston     3.4130     6.2297       0.55     0.5839    -8.7972    15.6233\n",
       "         Zarya    10.1921     4.7351       2.15     0.0316     0.9114    19.4728\n",
       "      Zenyatta    -5.1314     5.7702      -0.89     0.3741   -16.4410     6.1782\n",
       "     intercept  2020.8125    72.1069      28.03     0.0000  1879.4829  2162.1420\n",
       "---------------------------------End of Summary---------------------------------"
      ]
     },
     "execution_count": 7,
     "metadata": {},
     "output_type": "execute_result"
    }
   ],
   "source": [
    "df = pd.DataFrame({\"Rank\": rankFiltered, \"Comp Games\": compGames, \"Ana\": anaHours, \"Bastion\": bastionHours, \"D.Va\": dvaHours, \"Genji\": genjiHours, \"Hanzo\": hanzoHours, \"Junkrat\": junkratHours, \"Lucio\": lucioHours, \"McCree\": mccreeHours, \"Mei\": meiHours, \"Mercy\": mercyHours, \"Pharah\": pharahHours, \"Reaper\": reaperHours, \"Reinhardt\": reinhardtHours, \"Roadhog\": roadhogHours, \"Soldier76\": soldier76Hours, \"Symmetra\": symmetraHours, \"Torbjorn\": torbjornHours, \"Tracer\": tracerHours, \"Widowmaker\": widowmakerHours, \"Winston\": winstonHours, \"Zarya\": zaryaHours, \"Zenyatta\": zenyattaHours})\n",
    "res = ols(y = df['Rank'], x = df[['Comp Games', 'Ana', 'Bastion', 'D.Va', 'Genji', 'Hanzo', 'Junkrat', 'Lucio', 'McCree', 'Mei', 'Mercy', 'Pharah', 'Reaper', 'Reinhardt', 'Roadhog', 'Soldier76', 'Symmetra', 'Torbjorn', 'Tracer', 'Widowmaker', 'Winston', 'Zarya', 'Zenyatta']])\n",
    "res"
   ]
  },
  {
   "cell_type": "markdown",
   "metadata": {},
   "source": [
    "#### MLS Fit for Low Ranked Players 0 - 1666 SR"
   ]
  },
  {
   "cell_type": "code",
   "execution_count": 8,
   "metadata": {
    "collapsed": false
   },
   "outputs": [
    {
     "data": {
      "text/plain": [
       "\n",
       "-------------------------Summary of Regression Analysis-------------------------\n",
       "\n",
       "Formula: Y ~ <Comp Games> + <Ana> + <Bastion> + <D.Va> + <Genji> + <Hanzo>\n",
       "             + <Junkrat> + <Lucio> + <McCree> + <Mei> + <Mercy> + <Pharah> + <Reaper>\n",
       "             + <Reinhardt> + <Roadhog> + <Soldier76> + <Symmetra> + <Torbjorn>\n",
       "             + <Tracer> + <Widowmaker> + <Winston> + <Zarya> + <Zenyatta>\n",
       "             + <intercept>\n",
       "\n",
       "Number of Observations:         1064\n",
       "Number of Degrees of Freedom:   24\n",
       "\n",
       "R-squared:         0.0467\n",
       "Adj R-squared:     0.0256\n",
       "\n",
       "Rmse:            262.9924\n",
       "\n",
       "F-stat (23, 1040):     2.2129, p-value:     0.0009\n",
       "\n",
       "Degrees of Freedom: model 23, resid 1040\n",
       "\n",
       "-----------------------Summary of Estimated Coefficients------------------------\n",
       "      Variable       Coef    Std Err     t-stat    p-value    CI 2.5%   CI 97.5%\n",
       "--------------------------------------------------------------------------------\n",
       "    Comp Games    -0.0305     0.0685      -0.45     0.6557    -0.1647     0.1037\n",
       "           Ana     0.0029     1.0948       0.00     0.9979    -2.1429     2.1488\n",
       "       Bastion     1.2661     1.9013       0.67     0.5056    -2.4604     4.9926\n",
       "          D.Va     0.3852     0.5943       0.65     0.5170    -0.7796     1.5501\n",
       "         Genji    -0.0763     0.2998      -0.25     0.7991    -0.6639     0.5113\n",
       "--------------------------------------------------------------------------------\n",
       "         Hanzo    -0.7598     0.6907      -1.10     0.2715    -2.1136     0.5939\n",
       "       Junkrat     2.2440     1.1390       1.97     0.0491     0.0116     4.4763\n",
       "         Lucio    -0.0845     0.5615      -0.15     0.8803    -1.1850     1.0159\n",
       "        McCree    -1.0942     0.6616      -1.65     0.0985    -2.3910     0.2025\n",
       "           Mei    -1.7814     1.7086      -1.04     0.2974    -5.1302     1.5675\n",
       "--------------------------------------------------------------------------------\n",
       "         Mercy    -0.1864     0.2665      -0.70     0.4844    -0.7089     0.3360\n",
       "        Pharah     1.4476     0.7555       1.92     0.0556    -0.0331     2.9283\n",
       "        Reaper    -0.6558     0.9876      -0.66     0.5068    -2.5916     1.2800\n",
       "     Reinhardt    -0.2795     0.8555      -0.33     0.7440    -1.9563     1.3973\n",
       "       Roadhog    -0.7407     0.7005      -1.06     0.2905    -2.1137     0.6322\n",
       "--------------------------------------------------------------------------------\n",
       "     Soldier76     0.0783     1.0232       0.08     0.9390    -1.9272     2.0839\n",
       "      Symmetra     0.7799     1.2865       0.61     0.5445    -1.7416     3.3014\n",
       "      Torbjorn    -2.6165     1.6039      -1.63     0.1031    -5.7601     0.5272\n",
       "        Tracer    -1.1944     0.6343      -1.88     0.0600    -2.4377     0.0488\n",
       "    Widowmaker    -0.5438     0.6429      -0.85     0.3978    -1.8038     0.7163\n",
       "--------------------------------------------------------------------------------\n",
       "       Winston    -0.2372     1.2250      -0.19     0.8465    -2.6381     2.1638\n",
       "         Zarya    -1.2715     0.9311      -1.37     0.1723    -3.0964     0.5534\n",
       "      Zenyatta    -0.6279     1.1346      -0.55     0.5801    -2.8518     1.5959\n",
       "     intercept   118.2918    14.1786       8.34     0.0000    90.5018   146.0819\n",
       "---------------------------------End of Summary---------------------------------"
      ]
     },
     "execution_count": 8,
     "metadata": {},
     "output_type": "execute_result"
    }
   ],
   "source": [
    "df = pd.DataFrame({\"Rank\": lowRank, \"Comp Games\": compGames, \"Ana\": anaHours, \"Bastion\": bastionHours, \"D.Va\": dvaHours, \"Genji\": genjiHours, \"Hanzo\": hanzoHours, \"Junkrat\": junkratHours, \"Lucio\": lucioHours, \"McCree\": mccreeHours, \"Mei\": meiHours, \"Mercy\": mercyHours, \"Pharah\": pharahHours, \"Reaper\": reaperHours, \"Reinhardt\": reinhardtHours, \"Roadhog\": roadhogHours, \"Soldier76\": soldier76Hours, \"Symmetra\": symmetraHours, \"Torbjorn\": torbjornHours, \"Tracer\": tracerHours, \"Widowmaker\": widowmakerHours, \"Winston\": winstonHours, \"Zarya\": zaryaHours, \"Zenyatta\": zenyattaHours})\n",
    "res = ols(y = df['Rank'], x = df[['Comp Games', 'Ana', 'Bastion', 'D.Va', 'Genji', 'Hanzo', 'Junkrat', 'Lucio', 'McCree', 'Mei', 'Mercy', 'Pharah', 'Reaper', 'Reinhardt', 'Roadhog', 'Soldier76', 'Symmetra', 'Torbjorn', 'Tracer', 'Widowmaker', 'Winston', 'Zarya', 'Zenyatta']])\n",
    "res"
   ]
  },
  {
   "cell_type": "markdown",
   "metadata": {},
   "source": [
    "#### MLS Fit for Medium Ranked Players 1666 - 3332 SR"
   ]
  },
  {
   "cell_type": "code",
   "execution_count": 9,
   "metadata": {
    "collapsed": false
   },
   "outputs": [
    {
     "data": {
      "text/plain": [
       "\n",
       "-------------------------Summary of Regression Analysis-------------------------\n",
       "\n",
       "Formula: Y ~ <Comp Games> + <Ana> + <Bastion> + <D.Va> + <Genji> + <Hanzo>\n",
       "             + <Junkrat> + <Lucio> + <McCree> + <Mei> + <Mercy> + <Pharah> + <Reaper>\n",
       "             + <Reinhardt> + <Roadhog> + <Soldier76> + <Symmetra> + <Torbjorn>\n",
       "             + <Tracer> + <Widowmaker> + <Winston> + <Zarya> + <Zenyatta>\n",
       "             + <intercept>\n",
       "\n",
       "Number of Observations:         1064\n",
       "Number of Degrees of Freedom:   24\n",
       "\n",
       "R-squared:         0.0867\n",
       "Adj R-squared:     0.0665\n",
       "\n",
       "Rmse:           1144.3074\n",
       "\n",
       "F-stat (23, 1040):     4.2908, p-value:     0.0000\n",
       "\n",
       "Degrees of Freedom: model 23, resid 1040\n",
       "\n",
       "-----------------------Summary of Estimated Coefficients------------------------\n",
       "      Variable       Coef    Std Err     t-stat    p-value    CI 2.5%   CI 97.5%\n",
       "--------------------------------------------------------------------------------\n",
       "    Comp Games    -0.2278     0.2979      -0.76     0.4447    -0.8117     0.3561\n",
       "           Ana    10.0111     4.7637       2.10     0.0358     0.6741    19.3480\n",
       "       Bastion     9.7262     8.2726       1.18     0.2400    -6.4881    25.9405\n",
       "          D.Va     7.6816     2.5859       2.97     0.0030     2.6132    12.7501\n",
       "         Genji    -2.4298     1.3045      -1.86     0.0628    -4.9866     0.1270\n",
       "--------------------------------------------------------------------------------\n",
       "         Hanzo    -4.9227     3.0053      -1.64     0.1017   -10.8130     0.9676\n",
       "       Junkrat     5.0221     4.9557       1.01     0.3111    -4.6911    14.7353\n",
       "         Lucio    -5.4836     2.4430      -2.24     0.0250   -10.2720    -0.6953\n",
       "        McCree    -8.4452     2.8788      -2.93     0.0034   -14.0876    -2.8028\n",
       "           Mei     3.7461     7.4343       0.50     0.6144   -10.8252    18.3173\n",
       "--------------------------------------------------------------------------------\n",
       "         Mercy    -2.5532     1.1598      -2.20     0.0279    -4.8264    -0.2801\n",
       "        Pharah    -8.0994     3.2871      -2.46     0.0139   -14.5422    -1.6567\n",
       "        Reaper    -1.4459     4.2973      -0.34     0.7366    -9.8686     6.9769\n",
       "     Reinhardt     3.3885     3.7224       0.91     0.3629    -3.9075    10.6845\n",
       "       Roadhog    -4.1720     3.0479      -1.37     0.1714   -10.1459     1.8019\n",
       "--------------------------------------------------------------------------------\n",
       "     Soldier76     2.8133     4.4522       0.63     0.5276    -5.9131    11.5396\n",
       "      Symmetra    -1.9343     5.5977      -0.35     0.7297   -12.9058     9.0371\n",
       "      Torbjorn    -8.3351     6.9788      -1.19     0.2326   -22.0136     5.3434\n",
       "        Tracer    -4.2801     2.7600      -1.55     0.1213    -9.6898     1.1295\n",
       "    Widowmaker    -4.7097     2.7972      -1.68     0.0925   -10.1921     0.7727\n",
       "--------------------------------------------------------------------------------\n",
       "       Winston    -7.0422     5.3300      -1.32     0.1867   -17.4889     3.4045\n",
       "         Zarya    -5.8728     4.0512      -1.45     0.1475   -13.8131     2.0675\n",
       "      Zenyatta     3.7093     4.9368       0.75     0.4526    -5.9668    13.3855\n",
       "     intercept  1050.8837    61.6925      17.03     0.0000   929.9665  1171.8010\n",
       "---------------------------------End of Summary---------------------------------"
      ]
     },
     "execution_count": 9,
     "metadata": {},
     "output_type": "execute_result"
    }
   ],
   "source": [
    "df = pd.DataFrame({\"Rank\": medRank, \"Comp Games\": compGames, \"Ana\": anaHours, \"Bastion\": bastionHours, \"D.Va\": dvaHours, \"Genji\": genjiHours, \"Hanzo\": hanzoHours, \"Junkrat\": junkratHours, \"Lucio\": lucioHours, \"McCree\": mccreeHours, \"Mei\": meiHours, \"Mercy\": mercyHours, \"Pharah\": pharahHours, \"Reaper\": reaperHours, \"Reinhardt\": reinhardtHours, \"Roadhog\": roadhogHours, \"Soldier76\": soldier76Hours, \"Symmetra\": symmetraHours, \"Torbjorn\": torbjornHours, \"Tracer\": tracerHours, \"Widowmaker\": widowmakerHours, \"Winston\": winstonHours, \"Zarya\": zaryaHours, \"Zenyatta\": zenyattaHours})\n",
    "res = ols(y = df['Rank'], x = df[['Comp Games', 'Ana', 'Bastion', 'D.Va', 'Genji', 'Hanzo', 'Junkrat', 'Lucio', 'McCree', 'Mei', 'Mercy', 'Pharah', 'Reaper', 'Reinhardt', 'Roadhog', 'Soldier76', 'Symmetra', 'Torbjorn', 'Tracer', 'Widowmaker', 'Winston', 'Zarya', 'Zenyatta']])\n",
    "res"
   ]
  },
  {
   "cell_type": "markdown",
   "metadata": {},
   "source": [
    "#### MLS Fit for High Ranked Players 3332 - 5000 SR"
   ]
  },
  {
   "cell_type": "code",
   "execution_count": 10,
   "metadata": {
    "collapsed": false,
    "scrolled": true
   },
   "outputs": [
    {
     "data": {
      "text/plain": [
       "\n",
       "-------------------------Summary of Regression Analysis-------------------------\n",
       "\n",
       "Formula: Y ~ <Comp Games> + <Ana> + <Bastion> + <D.Va> + <Genji> + <Hanzo>\n",
       "             + <Junkrat> + <Lucio> + <McCree> + <Mei> + <Mercy> + <Pharah> + <Reaper>\n",
       "             + <Reinhardt> + <Roadhog> + <Soldier76> + <Symmetra> + <Torbjorn>\n",
       "             + <Tracer> + <Widowmaker> + <Winston> + <Zarya> + <Zenyatta>\n",
       "             + <intercept>\n",
       "\n",
       "Number of Observations:         1064\n",
       "Number of Degrees of Freedom:   24\n",
       "\n",
       "R-squared:         0.2674\n",
       "Adj R-squared:     0.2512\n",
       "\n",
       "Rmse:           1773.8721\n",
       "\n",
       "F-stat (23, 1040):    16.5080, p-value:     0.0000\n",
       "\n",
       "Degrees of Freedom: model 23, resid 1040\n",
       "\n",
       "-----------------------Summary of Estimated Coefficients------------------------\n",
       "      Variable       Coef    Std Err     t-stat    p-value    CI 2.5%   CI 97.5%\n",
       "--------------------------------------------------------------------------------\n",
       "    Comp Games     1.5819     0.4618       3.43     0.0006     0.6767     2.4871\n",
       "           Ana    -3.7818     7.3846      -0.51     0.6087   -18.2556    10.6920\n",
       "       Bastion    18.7212    12.8240       1.46     0.1446    -6.4138    43.8562\n",
       "          D.Va   -15.0181     4.0087      -3.75     0.0002   -22.8751    -7.1612\n",
       "         Genji     6.0567     2.0222       3.00     0.0028     2.0932    10.0202\n",
       "--------------------------------------------------------------------------------\n",
       "         Hanzo    12.0034     4.6587       2.58     0.0101     2.8725    21.1344\n",
       "       Junkrat   -22.8501     7.6822      -2.97     0.0030   -37.9072    -7.7929\n",
       "         Lucio     9.3073     3.7871       2.46     0.0141     1.8846    16.7301\n",
       "        McCree    22.1156     4.4626       4.96     0.0000    13.3690    30.8623\n",
       "           Mei     5.0085    11.5245       0.43     0.6639   -17.5794    27.5965\n",
       "--------------------------------------------------------------------------------\n",
       "         Mercy     5.5098     1.7978       3.06     0.0022     1.9860     9.0335\n",
       "        Pharah    11.9854     5.0956       2.35     0.0189     1.9980    21.9727\n",
       "        Reaper   -12.3030     6.6616      -1.85     0.0651   -25.3597     0.7538\n",
       "     Reinhardt     0.9930     5.7704       0.17     0.8634   -10.3171    12.3030\n",
       "       Roadhog    16.8068     4.7248       3.56     0.0004     7.5463    26.0674\n",
       "--------------------------------------------------------------------------------\n",
       "     Soldier76     6.2659     6.9017       0.91     0.3642    -7.2614    19.7932\n",
       "      Symmetra     7.6027     8.6774       0.88     0.3811    -9.4049    24.6104\n",
       "      Torbjorn    -6.2267    10.8184      -0.58     0.5650   -27.4307    14.9774\n",
       "        Tracer    13.7489     4.2785       3.21     0.0014     5.3630    22.1347\n",
       "    Widowmaker    14.3270     4.3361       3.30     0.0010     5.8283    22.8257\n",
       "--------------------------------------------------------------------------------\n",
       "       Winston    10.6924     8.2624       1.29     0.1959    -5.5018    26.8866\n",
       "         Zarya    17.3364     6.2800       2.76     0.0059     5.0276    29.6452\n",
       "      Zenyatta    -8.2128     7.6529      -1.07     0.2834   -23.2125     6.7869\n",
       "     intercept   851.6369    95.6339       8.91     0.0000   664.1945  1039.0793\n",
       "---------------------------------End of Summary---------------------------------"
      ]
     },
     "execution_count": 10,
     "metadata": {},
     "output_type": "execute_result"
    }
   ],
   "source": [
    "df = pd.DataFrame({\"Rank\": highRank, \"Comp Games\": compGames, \"Ana\": anaHours, \"Bastion\": bastionHours, \"D.Va\": dvaHours, \"Genji\": genjiHours, \"Hanzo\": hanzoHours, \"Junkrat\": junkratHours, \"Lucio\": lucioHours, \"McCree\": mccreeHours, \"Mei\": meiHours, \"Mercy\": mercyHours, \"Pharah\": pharahHours, \"Reaper\": reaperHours, \"Reinhardt\": reinhardtHours, \"Roadhog\": roadhogHours, \"Soldier76\": soldier76Hours, \"Symmetra\": symmetraHours, \"Torbjorn\": torbjornHours, \"Tracer\": tracerHours, \"Widowmaker\": widowmakerHours, \"Winston\": winstonHours, \"Zarya\": zaryaHours, \"Zenyatta\": zenyattaHours})\n",
    "res = ols(y = df['Rank'], x = df[['Comp Games', 'Ana', 'Bastion', 'D.Va', 'Genji', 'Hanzo', 'Junkrat', 'Lucio', 'McCree', 'Mei', 'Mercy', 'Pharah', 'Reaper', 'Reinhardt', 'Roadhog', 'Soldier76', 'Symmetra', 'Torbjorn', 'Tracer', 'Widowmaker', 'Winston', 'Zarya', 'Zenyatta']])\n",
    "res"
   ]
  },
  {
   "cell_type": "markdown",
   "metadata": {},
   "source": [
    "#### MLS Fit for Elimations"
   ]
  },
  {
   "cell_type": "code",
   "execution_count": 11,
   "metadata": {
    "collapsed": false
   },
   "outputs": [
    {
     "data": {
      "text/plain": [
       "\n",
       "-------------------------Summary of Regression Analysis-------------------------\n",
       "\n",
       "Formula: Y ~ <Average Elims> + <Total Elims> + <Most Elims> + <intercept>\n",
       "\n",
       "Number of Observations:         1064\n",
       "Number of Degrees of Freedom:   4\n",
       "\n",
       "R-squared:         0.1265\n",
       "Adj R-squared:     0.1240\n",
       "\n",
       "Rmse:           1407.7612\n",
       "\n",
       "F-stat (3, 1060):    51.1589, p-value:     0.0000\n",
       "\n",
       "Degrees of Freedom: model 3, resid 1060\n",
       "\n",
       "-----------------------Summary of Estimated Coefficients------------------------\n",
       "      Variable       Coef    Std Err     t-stat    p-value    CI 2.5%   CI 97.5%\n",
       "--------------------------------------------------------------------------------\n",
       " Average Elims    26.4562     8.7019       3.04     0.0024     9.4005    43.5119\n",
       "   Total Elims     0.0489     0.0152       3.22     0.0013     0.0191     0.0786\n",
       "    Most Elims    20.2743     4.4367       4.57     0.0000    11.5784    28.9702\n",
       "     intercept   970.8227   180.8338       5.37     0.0000   616.3885  1325.2569\n",
       "---------------------------------End of Summary---------------------------------"
      ]
     },
     "execution_count": 11,
     "metadata": {},
     "output_type": "execute_result"
    }
   ],
   "source": [
    "df = pd.DataFrame({\"Rank\": rankFiltered, \"Average Elims\": avgElims, \"Total Elims\": totalElims, \"Most Elims\": mostElims})\n",
    "res = ols(y = df['Rank'], x = df[['Average Elims', 'Total Elims', 'Most Elims']])\n",
    "res"
   ]
  },
  {
   "cell_type": "markdown",
   "metadata": {},
   "source": [
    "### Individual Hero Playtime vs Rank"
   ]
  },
  {
   "cell_type": "markdown",
   "metadata": {},
   "source": [
    "##### Ana"
   ]
  },
  {
   "cell_type": "code",
   "execution_count": 12,
   "metadata": {
    "collapsed": false,
    "scrolled": false
   },
   "outputs": [
    {
     "data": {
      "text/plain": [
       "\n",
       "-------------------------Summary of Regression Analysis-------------------------\n",
       "\n",
       "Formula: Y ~ <Ana> + <intercept>\n",
       "\n",
       "Number of Observations:         1064\n",
       "Number of Degrees of Freedom:   2\n",
       "\n",
       "R-squared:         0.0586\n",
       "Adj R-squared:     0.0577\n",
       "\n",
       "Rmse:           1460.0405\n",
       "\n",
       "F-stat (1, 1062):    66.1311, p-value:     0.0000\n",
       "\n",
       "Degrees of Freedom: model 1, resid 1062\n",
       "\n",
       "-----------------------Summary of Estimated Coefficients------------------------\n",
       "      Variable       Coef    Std Err     t-stat    p-value    CI 2.5%   CI 97.5%\n",
       "--------------------------------------------------------------------------------\n",
       "           Ana    39.4716     4.8538       8.13     0.0000    29.9582    48.9851\n",
       "     intercept  2623.5444    51.6491      50.80     0.0000  2522.3121  2724.7767\n",
       "---------------------------------End of Summary---------------------------------"
      ]
     },
     "execution_count": 12,
     "metadata": {},
     "output_type": "execute_result"
    }
   ],
   "source": [
    "df = pd.DataFrame({\"Rank\": rankFiltered, \"Ana\": anaHours})\n",
    "res = ols(y = df['Rank'], x = df[['Ana']])\n",
    "res"
   ]
  },
  {
   "cell_type": "markdown",
   "metadata": {},
   "source": [
    "##### Bastion"
   ]
  },
  {
   "cell_type": "code",
   "execution_count": 13,
   "metadata": {
    "collapsed": false,
    "scrolled": true
   },
   "outputs": [
    {
     "data": {
      "text/plain": [
       "\n",
       "-------------------------Summary of Regression Analysis-------------------------\n",
       "\n",
       "Formula: Y ~ <Bastion> + <intercept>\n",
       "\n",
       "Number of Observations:         1064\n",
       "Number of Degrees of Freedom:   2\n",
       "\n",
       "R-squared:         0.0340\n",
       "Adj R-squared:     0.0331\n",
       "\n",
       "Rmse:           1479.0291\n",
       "\n",
       "F-stat (1, 1062):    37.3499, p-value:     0.0000\n",
       "\n",
       "Degrees of Freedom: model 1, resid 1062\n",
       "\n",
       "-----------------------Summary of Estimated Coefficients------------------------\n",
       "      Variable       Coef    Std Err     t-stat    p-value    CI 2.5%   CI 97.5%\n",
       "--------------------------------------------------------------------------------\n",
       "       Bastion    59.3203     9.7064       6.11     0.0000    40.2958    78.3449\n",
       "     intercept  2622.0808    56.9942      46.01     0.0000  2510.3721  2733.7894\n",
       "---------------------------------End of Summary---------------------------------"
      ]
     },
     "execution_count": 13,
     "metadata": {},
     "output_type": "execute_result"
    }
   ],
   "source": [
    "df = pd.DataFrame({\"Rank\": rankFiltered, \"Bastion\": bastionHours})\n",
    "res = ols(y = df['Rank'], x = df[['Bastion']])\n",
    "res"
   ]
  },
  {
   "cell_type": "markdown",
   "metadata": {},
   "source": [
    "##### D.Va"
   ]
  },
  {
   "cell_type": "code",
   "execution_count": 14,
   "metadata": {
    "collapsed": false,
    "scrolled": true
   },
   "outputs": [
    {
     "data": {
      "text/plain": [
       "\n",
       "-------------------------Summary of Regression Analysis-------------------------\n",
       "\n",
       "Formula: Y ~ <D.Va> + <intercept>\n",
       "\n",
       "Number of Observations:         1064\n",
       "Number of Degrees of Freedom:   2\n",
       "\n",
       "R-squared:         0.0005\n",
       "Adj R-squared:    -0.0004\n",
       "\n",
       "Rmse:           1504.4173\n",
       "\n",
       "F-stat (1, 1062):     0.5583, p-value:     0.4551\n",
       "\n",
       "Degrees of Freedom: model 1, resid 1062\n",
       "\n",
       "-----------------------Summary of Estimated Coefficients------------------------\n",
       "      Variable       Coef    Std Err     t-stat    p-value    CI 2.5%   CI 97.5%\n",
       "--------------------------------------------------------------------------------\n",
       "          D.Va     2.2413     2.9996       0.75     0.4551    -3.6380     8.1206\n",
       "     intercept  2817.5330    50.6169      55.66     0.0000  2718.3239  2916.7421\n",
       "---------------------------------End of Summary---------------------------------"
      ]
     },
     "execution_count": 14,
     "metadata": {},
     "output_type": "execute_result"
    }
   ],
   "source": [
    "df = pd.DataFrame({\"Rank\": rankFiltered, \"D.Va\": dvaHours})\n",
    "res = ols(y = df['Rank'], x = df[['D.Va']])\n",
    "res"
   ]
  },
  {
   "cell_type": "markdown",
   "metadata": {},
   "source": [
    "##### Genji"
   ]
  },
  {
   "cell_type": "code",
   "execution_count": 15,
   "metadata": {
    "collapsed": false,
    "scrolled": true
   },
   "outputs": [
    {
     "data": {
      "text/plain": [
       "\n",
       "-------------------------Summary of Regression Analysis-------------------------\n",
       "\n",
       "Formula: Y ~ <Genji> + <intercept>\n",
       "\n",
       "Number of Observations:         1064\n",
       "Number of Degrees of Freedom:   2\n",
       "\n",
       "R-squared:         0.0543\n",
       "Adj R-squared:     0.0534\n",
       "\n",
       "Rmse:           1463.3877\n",
       "\n",
       "F-stat (1, 1062):    60.9764, p-value:     0.0000\n",
       "\n",
       "Degrees of Freedom: model 1, resid 1062\n",
       "\n",
       "-----------------------Summary of Estimated Coefficients------------------------\n",
       "      Variable       Coef    Std Err     t-stat    p-value    CI 2.5%   CI 97.5%\n",
       "--------------------------------------------------------------------------------\n",
       "         Genji    11.4865     1.4710       7.81     0.0000     8.6034    14.3696\n",
       "     intercept  2652.4518    50.4774      52.55     0.0000  2553.5160  2751.3876\n",
       "---------------------------------End of Summary---------------------------------"
      ]
     },
     "execution_count": 15,
     "metadata": {},
     "output_type": "execute_result"
    }
   ],
   "source": [
    "df = pd.DataFrame({\"Rank\": rankFiltered, \"Genji\": genjiHours})\n",
    "res = ols(y = df['Rank'], x = df[['Genji']])\n",
    "res"
   ]
  },
  {
   "cell_type": "markdown",
   "metadata": {},
   "source": [
    "##### Hanzo"
   ]
  },
  {
   "cell_type": "code",
   "execution_count": 16,
   "metadata": {
    "collapsed": false
   },
   "outputs": [
    {
     "data": {
      "text/plain": [
       "\n",
       "-------------------------Summary of Regression Analysis-------------------------\n",
       "\n",
       "Formula: Y ~ <Hanzo> + <intercept>\n",
       "\n",
       "Number of Observations:         1064\n",
       "Number of Degrees of Freedom:   2\n",
       "\n",
       "R-squared:         0.0490\n",
       "Adj R-squared:     0.0481\n",
       "\n",
       "Rmse:           1467.4635\n",
       "\n",
       "F-stat (1, 1062):    54.7470, p-value:     0.0000\n",
       "\n",
       "Degrees of Freedom: model 1, resid 1062\n",
       "\n",
       "-----------------------Summary of Estimated Coefficients------------------------\n",
       "      Variable       Coef    Std Err     t-stat    p-value    CI 2.5%   CI 97.5%\n",
       "--------------------------------------------------------------------------------\n",
       "         Hanzo    25.1925     3.4048       7.40     0.0000    18.5191    31.8659\n",
       "     intercept  2634.1110    52.4147      50.26     0.0000  2531.3783  2736.8438\n",
       "---------------------------------End of Summary---------------------------------"
      ]
     },
     "execution_count": 16,
     "metadata": {},
     "output_type": "execute_result"
    }
   ],
   "source": [
    "df = pd.DataFrame({\"Rank\": rankFiltered, \"Hanzo\": hanzoHours})\n",
    "res = ols(y = df['Rank'], x = df[['Hanzo']])\n",
    "res"
   ]
  },
  {
   "cell_type": "markdown",
   "metadata": {},
   "source": [
    "##### Junkrat"
   ]
  },
  {
   "cell_type": "code",
   "execution_count": 17,
   "metadata": {
    "collapsed": false
   },
   "outputs": [
    {
     "data": {
      "text/plain": [
       "\n",
       "-------------------------Summary of Regression Analysis-------------------------\n",
       "\n",
       "Formula: Y ~ <Junkrat> + <intercept>\n",
       "\n",
       "Number of Observations:         1064\n",
       "Number of Degrees of Freedom:   2\n",
       "\n",
       "R-squared:         0.0014\n",
       "Adj R-squared:     0.0004\n",
       "\n",
       "Rmse:           1503.7962\n",
       "\n",
       "F-stat (1, 1062):     1.4362, p-value:     0.2310\n",
       "\n",
       "Degrees of Freedom: model 1, resid 1062\n",
       "\n",
       "-----------------------Summary of Estimated Coefficients------------------------\n",
       "      Variable       Coef    Std Err     t-stat    p-value    CI 2.5%   CI 97.5%\n",
       "--------------------------------------------------------------------------------\n",
       "       Junkrat     6.7665     5.6462       1.20     0.2310    -4.3002    17.8331\n",
       "     intercept  2798.4459    54.4272      51.42     0.0000  2691.7686  2905.1232\n",
       "---------------------------------End of Summary---------------------------------"
      ]
     },
     "execution_count": 17,
     "metadata": {},
     "output_type": "execute_result"
    }
   ],
   "source": [
    "df = pd.DataFrame({\"Rank\": rankFiltered, \"Junkrat\": junkratHours})\n",
    "res = ols(y = df['Rank'], x = df[['Junkrat']])\n",
    "res"
   ]
  },
  {
   "cell_type": "markdown",
   "metadata": {},
   "source": [
    "##### Lucio"
   ]
  },
  {
   "cell_type": "code",
   "execution_count": 18,
   "metadata": {
    "collapsed": false
   },
   "outputs": [
    {
     "data": {
      "text/plain": [
       "\n",
       "-------------------------Summary of Regression Analysis-------------------------\n",
       "\n",
       "Formula: Y ~ <Lucio> + <intercept>\n",
       "\n",
       "Number of Observations:         1064\n",
       "Number of Degrees of Freedom:   2\n",
       "\n",
       "R-squared:         0.0176\n",
       "Adj R-squared:     0.0167\n",
       "\n",
       "Rmse:           1491.5147\n",
       "\n",
       "F-stat (1, 1062):    19.0215, p-value:     0.0000\n",
       "\n",
       "Degrees of Freedom: model 1, resid 1062\n",
       "\n",
       "-----------------------Summary of Estimated Coefficients------------------------\n",
       "      Variable       Coef    Std Err     t-stat    p-value    CI 2.5%   CI 97.5%\n",
       "--------------------------------------------------------------------------------\n",
       "         Lucio    12.4009     2.8434       4.36     0.0000     6.8279    17.9739\n",
       "     intercept  2730.3746    51.4368      53.08     0.0000  2629.5585  2831.1906\n",
       "---------------------------------End of Summary---------------------------------"
      ]
     },
     "execution_count": 18,
     "metadata": {},
     "output_type": "execute_result"
    }
   ],
   "source": [
    "df = pd.DataFrame({\"Rank\": rankFiltered, \"Lucio\": lucioHours})\n",
    "res = ols(y = df['Rank'], x = df[['Lucio']])\n",
    "res"
   ]
  },
  {
   "cell_type": "markdown",
   "metadata": {},
   "source": [
    "##### McCree"
   ]
  },
  {
   "cell_type": "code",
   "execution_count": 19,
   "metadata": {
    "collapsed": false
   },
   "outputs": [
    {
     "data": {
      "text/plain": [
       "\n",
       "-------------------------Summary of Regression Analysis-------------------------\n",
       "\n",
       "Formula: Y ~ <McCree> + <intercept>\n",
       "\n",
       "Number of Observations:         1064\n",
       "Number of Degrees of Freedom:   2\n",
       "\n",
       "R-squared:         0.0996\n",
       "Adj R-squared:     0.0988\n",
       "\n",
       "Rmse:           1427.8744\n",
       "\n",
       "F-stat (1, 1062):   117.5310, p-value:     0.0000\n",
       "\n",
       "Degrees of Freedom: model 1, resid 1062\n",
       "\n",
       "-----------------------Summary of Estimated Coefficients------------------------\n",
       "      Variable       Coef    Std Err     t-stat    p-value    CI 2.5%   CI 97.5%\n",
       "--------------------------------------------------------------------------------\n",
       "        McCree    30.5472     2.8177      10.84     0.0000    25.0245    36.0699\n",
       "     intercept  2496.9951    53.6418      46.55     0.0000  2391.8572  2602.1330\n",
       "---------------------------------End of Summary---------------------------------"
      ]
     },
     "execution_count": 19,
     "metadata": {},
     "output_type": "execute_result"
    }
   ],
   "source": [
    "df = pd.DataFrame({\"Rank\": rankFiltered, \"McCree\": mccreeHours})\n",
    "res = ols(y = df['Rank'], x = df[['McCree']])\n",
    "res"
   ]
  },
  {
   "cell_type": "markdown",
   "metadata": {},
   "source": [
    "##### Mei"
   ]
  },
  {
   "cell_type": "code",
   "execution_count": 20,
   "metadata": {
    "collapsed": false
   },
   "outputs": [
    {
     "data": {
      "text/plain": [
       "\n",
       "-------------------------Summary of Regression Analysis-------------------------\n",
       "\n",
       "Formula: Y ~ <Mei> + <intercept>\n",
       "\n",
       "Number of Observations:         1064\n",
       "Number of Degrees of Freedom:   2\n",
       "\n",
       "R-squared:         0.0391\n",
       "Adj R-squared:     0.0382\n",
       "\n",
       "Rmse:           1475.1319\n",
       "\n",
       "F-stat (1, 1062):    43.1665, p-value:     0.0000\n",
       "\n",
       "Degrees of Freedom: model 1, resid 1062\n",
       "\n",
       "-----------------------Summary of Estimated Coefficients------------------------\n",
       "      Variable       Coef    Std Err     t-stat    p-value    CI 2.5%   CI 97.5%\n",
       "--------------------------------------------------------------------------------\n",
       "           Mei    50.4518     7.6790       6.57     0.0000    35.4010    65.5027\n",
       "     intercept  2608.9665    56.6485      46.06     0.0000  2497.9354  2719.9977\n",
       "---------------------------------End of Summary---------------------------------"
      ]
     },
     "execution_count": 20,
     "metadata": {},
     "output_type": "execute_result"
    }
   ],
   "source": [
    "df = pd.DataFrame({\"Rank\": rankFiltered, \"Mei\": meiHours})\n",
    "res = ols(y = df['Rank'], x = df[['Mei']])\n",
    "res"
   ]
  },
  {
   "cell_type": "markdown",
   "metadata": {},
   "source": [
    "##### Mercy"
   ]
  },
  {
   "cell_type": "code",
   "execution_count": 21,
   "metadata": {
    "collapsed": false
   },
   "outputs": [
    {
     "data": {
      "text/plain": [
       "\n",
       "-------------------------Summary of Regression Analysis-------------------------\n",
       "\n",
       "Formula: Y ~ <Mercy> + <intercept>\n",
       "\n",
       "Number of Observations:         1064\n",
       "Number of Degrees of Freedom:   2\n",
       "\n",
       "R-squared:         0.0113\n",
       "Adj R-squared:     0.0103\n",
       "\n",
       "Rmse:           1496.3108\n",
       "\n",
       "F-stat (1, 1062):    12.1025, p-value:     0.0005\n",
       "\n",
       "Degrees of Freedom: model 1, resid 1062\n",
       "\n",
       "-----------------------Summary of Estimated Coefficients------------------------\n",
       "      Variable       Coef    Std Err     t-stat    p-value    CI 2.5%   CI 97.5%\n",
       "--------------------------------------------------------------------------------\n",
       "         Mercy     4.6118     1.3256       3.48     0.0005     2.0135     7.2100\n",
       "     intercept  2787.2860    47.7265      58.40     0.0000  2693.7421  2880.8300\n",
       "---------------------------------End of Summary---------------------------------"
      ]
     },
     "execution_count": 21,
     "metadata": {},
     "output_type": "execute_result"
    }
   ],
   "source": [
    "df = pd.DataFrame({\"Rank\": rankFiltered, \"Mercy\": mercyHours})\n",
    "res = ols(y = df['Rank'], x = df[['Mercy']])\n",
    "res"
   ]
  },
  {
   "cell_type": "markdown",
   "metadata": {},
   "source": [
    "##### Orisa"
   ]
  },
  {
   "cell_type": "code",
   "execution_count": 22,
   "metadata": {
    "collapsed": false
   },
   "outputs": [
    {
     "data": {
      "text/plain": [
       "\n",
       "-------------------------Summary of Regression Analysis-------------------------\n",
       "\n",
       "Formula: Y ~ <Orisa> + <intercept>\n",
       "\n",
       "Number of Observations:         1064\n",
       "Number of Degrees of Freedom:   2\n",
       "\n",
       "R-squared:         0.0093\n",
       "Adj R-squared:     0.0083\n",
       "\n",
       "Rmse:           1497.8272\n",
       "\n",
       "F-stat (1, 1062):     9.9289, p-value:     0.0017\n",
       "\n",
       "Degrees of Freedom: model 1, resid 1062\n",
       "\n",
       "-----------------------Summary of Estimated Coefficients------------------------\n",
       "      Variable       Coef    Std Err     t-stat    p-value    CI 2.5%   CI 97.5%\n",
       "--------------------------------------------------------------------------------\n",
       "         Orisa   330.3869   104.8511       3.15     0.0017   124.8787   535.8951\n",
       "     intercept  2799.2480    47.1600      59.36     0.0000  2706.8145  2891.6816\n",
       "---------------------------------End of Summary---------------------------------"
      ]
     },
     "execution_count": 22,
     "metadata": {},
     "output_type": "execute_result"
    }
   ],
   "source": [
    "df = pd.DataFrame({\"Rank\": rankFiltered, \"Orisa\": orisaHours})\n",
    "res = ols(y = df['Rank'], x = df[['Orisa']])\n",
    "res"
   ]
  },
  {
   "cell_type": "markdown",
   "metadata": {},
   "source": [
    "##### Pharah"
   ]
  },
  {
   "cell_type": "code",
   "execution_count": 23,
   "metadata": {
    "collapsed": false
   },
   "outputs": [
    {
     "data": {
      "text/plain": [
       "\n",
       "-------------------------Summary of Regression Analysis-------------------------\n",
       "\n",
       "Formula: Y ~ <Pharah> + <intercept>\n",
       "\n",
       "Number of Observations:         1064\n",
       "Number of Degrees of Freedom:   2\n",
       "\n",
       "R-squared:         0.0297\n",
       "Adj R-squared:     0.0288\n",
       "\n",
       "Rmse:           1482.3090\n",
       "\n",
       "F-stat (1, 1062):    32.4902, p-value:     0.0000\n",
       "\n",
       "Degrees of Freedom: model 1, resid 1062\n",
       "\n",
       "-----------------------Summary of Estimated Coefficients------------------------\n",
       "      Variable       Coef    Std Err     t-stat    p-value    CI 2.5%   CI 97.5%\n",
       "--------------------------------------------------------------------------------\n",
       "        Pharah    22.1017     3.8775       5.70     0.0000    14.5018    29.7016\n",
       "     intercept  2668.2139    53.8704      49.53     0.0000  2562.6278  2773.7999\n",
       "---------------------------------End of Summary---------------------------------"
      ]
     },
     "execution_count": 23,
     "metadata": {},
     "output_type": "execute_result"
    }
   ],
   "source": [
    "df = pd.DataFrame({\"Rank\": rankFiltered, \"Pharah\": pharahHours})\n",
    "res = ols(y = df['Rank'], x = df[['Pharah']])\n",
    "res"
   ]
  },
  {
   "cell_type": "markdown",
   "metadata": {},
   "source": [
    "##### Reaper"
   ]
  },
  {
   "cell_type": "code",
   "execution_count": 24,
   "metadata": {
    "collapsed": false
   },
   "outputs": [
    {
     "data": {
      "text/plain": [
       "\n",
       "-------------------------Summary of Regression Analysis-------------------------\n",
       "\n",
       "Formula: Y ~ <Reaper> + <intercept>\n",
       "\n",
       "Number of Observations:         1064\n",
       "Number of Degrees of Freedom:   2\n",
       "\n",
       "R-squared:         0.0098\n",
       "Adj R-squared:     0.0089\n",
       "\n",
       "Rmse:           1497.4018\n",
       "\n",
       "F-stat (1, 1062):    10.5379, p-value:     0.0012\n",
       "\n",
       "Degrees of Freedom: model 1, resid 1062\n",
       "\n",
       "-----------------------Summary of Estimated Coefficients------------------------\n",
       "      Variable       Coef    Std Err     t-stat    p-value    CI 2.5%   CI 97.5%\n",
       "--------------------------------------------------------------------------------\n",
       "        Reaper    15.6313     4.8152       3.25     0.0012     6.1934    25.0691\n",
       "     intercept  2730.8212    55.6807      49.04     0.0000  2621.6870  2839.9554\n",
       "---------------------------------End of Summary---------------------------------"
      ]
     },
     "execution_count": 24,
     "metadata": {},
     "output_type": "execute_result"
    }
   ],
   "source": [
    "df = pd.DataFrame({\"Rank\": rankFiltered, \"Reaper\": reaperHours})\n",
    "res = ols(y = df['Rank'], x = df[['Reaper']])\n",
    "res"
   ]
  },
  {
   "cell_type": "markdown",
   "metadata": {},
   "source": [
    "##### Reinhardt"
   ]
  },
  {
   "cell_type": "code",
   "execution_count": 25,
   "metadata": {
    "collapsed": false
   },
   "outputs": [
    {
     "data": {
      "text/plain": [
       "\n",
       "-------------------------Summary of Regression Analysis-------------------------\n",
       "\n",
       "Formula: Y ~ <Reinhardt> + <intercept>\n",
       "\n",
       "Number of Observations:         1064\n",
       "Number of Degrees of Freedom:   2\n",
       "\n",
       "R-squared:         0.0300\n",
       "Adj R-squared:     0.0290\n",
       "\n",
       "Rmse:           1482.1065\n",
       "\n",
       "F-stat (1, 1062):    32.7894, p-value:     0.0000\n",
       "\n",
       "Degrees of Freedom: model 1, resid 1062\n",
       "\n",
       "-----------------------Summary of Estimated Coefficients------------------------\n",
       "      Variable       Coef    Std Err     t-stat    p-value    CI 2.5%   CI 97.5%\n",
       "--------------------------------------------------------------------------------\n",
       "     Reinhardt    22.7814     3.9784       5.73     0.0000    14.9836    30.5791\n",
       "     intercept  2664.6754    54.1276      49.23     0.0000  2558.5854  2770.7654\n",
       "---------------------------------End of Summary---------------------------------"
      ]
     },
     "execution_count": 25,
     "metadata": {},
     "output_type": "execute_result"
    }
   ],
   "source": [
    "df = pd.DataFrame({\"Rank\": rankFiltered, \"Reinhardt\": reinhardtHours})\n",
    "res = ols(y = df['Rank'], x = df[['Reinhardt']])\n",
    "res"
   ]
  },
  {
   "cell_type": "markdown",
   "metadata": {},
   "source": [
    "##### Roadhog"
   ]
  },
  {
   "cell_type": "code",
   "execution_count": 26,
   "metadata": {
    "collapsed": false
   },
   "outputs": [
    {
     "data": {
      "text/plain": [
       "\n",
       "-------------------------Summary of Regression Analysis-------------------------\n",
       "\n",
       "Formula: Y ~ <Roadhog> + <intercept>\n",
       "\n",
       "Number of Observations:         1064\n",
       "Number of Degrees of Freedom:   2\n",
       "\n",
       "R-squared:         0.0635\n",
       "Adj R-squared:     0.0626\n",
       "\n",
       "Rmse:           1456.2849\n",
       "\n",
       "F-stat (1, 1062):    71.9573, p-value:     0.0000\n",
       "\n",
       "Degrees of Freedom: model 1, resid 1062\n",
       "\n",
       "-----------------------Summary of Estimated Coefficients------------------------\n",
       "      Variable       Coef    Std Err     t-stat    p-value    CI 2.5%   CI 97.5%\n",
       "--------------------------------------------------------------------------------\n",
       "       Roadhog    26.5789     3.1333       8.48     0.0000    20.4377    32.7202\n",
       "     intercept  2582.2869    53.5494      48.22     0.0000  2477.3300  2687.2437\n",
       "---------------------------------End of Summary---------------------------------"
      ]
     },
     "execution_count": 26,
     "metadata": {},
     "output_type": "execute_result"
    }
   ],
   "source": [
    "df = pd.DataFrame({\"Rank\": rankFiltered, \"Roadhog\": roadhogHours})\n",
    "res = ols(y = df['Rank'], x = df[['Roadhog']])\n",
    "res"
   ]
  },
  {
   "cell_type": "markdown",
   "metadata": {},
   "source": [
    "##### Soldier76"
   ]
  },
  {
   "cell_type": "code",
   "execution_count": 27,
   "metadata": {
    "collapsed": false
   },
   "outputs": [
    {
     "data": {
      "text/plain": [
       "\n",
       "-------------------------Summary of Regression Analysis-------------------------\n",
       "\n",
       "Formula: Y ~ <Soldier76> + <intercept>\n",
       "\n",
       "Number of Observations:         1064\n",
       "Number of Degrees of Freedom:   2\n",
       "\n",
       "R-squared:         0.0371\n",
       "Adj R-squared:     0.0361\n",
       "\n",
       "Rmse:           1476.6687\n",
       "\n",
       "F-stat (1, 1062):    40.8673, p-value:     0.0000\n",
       "\n",
       "Degrees of Freedom: model 1, resid 1062\n",
       "\n",
       "-----------------------Summary of Estimated Coefficients------------------------\n",
       "      Variable       Coef    Std Err     t-stat    p-value    CI 2.5%   CI 97.5%\n",
       "--------------------------------------------------------------------------------\n",
       "     Soldier76    29.9659     4.6875       6.39     0.0000    20.7785    39.1534\n",
       "     intercept  2579.0858    60.2364      42.82     0.0000  2461.0224  2697.1493\n",
       "---------------------------------End of Summary---------------------------------"
      ]
     },
     "execution_count": 27,
     "metadata": {},
     "output_type": "execute_result"
    }
   ],
   "source": [
    "df = pd.DataFrame({\"Rank\": rankFiltered, \"Soldier76\": soldier76Hours})\n",
    "res = ols(y = df['Rank'], x = df[['Soldier76']])\n",
    "res"
   ]
  },
  {
   "cell_type": "markdown",
   "metadata": {},
   "source": [
    "##### Sombra"
   ]
  },
  {
   "cell_type": "code",
   "execution_count": 28,
   "metadata": {
    "collapsed": false,
    "scrolled": true
   },
   "outputs": [
    {
     "ename": "NameError",
     "evalue": "name 'sombraHours' is not defined",
     "output_type": "error",
     "traceback": [
      "\u001b[0;31m---------------------------------------------------------------------------\u001b[0m",
      "\u001b[0;31mNameError\u001b[0m                                 Traceback (most recent call last)",
      "\u001b[0;32m<ipython-input-28-48209a1a53f6>\u001b[0m in \u001b[0;36m<module>\u001b[0;34m()\u001b[0m\n\u001b[0;32m----> 1\u001b[0;31m \u001b[0mdf\u001b[0m \u001b[1;33m=\u001b[0m \u001b[0mpd\u001b[0m\u001b[1;33m.\u001b[0m\u001b[0mDataFrame\u001b[0m\u001b[1;33m(\u001b[0m\u001b[1;33m{\u001b[0m\u001b[1;34m\"Rank\"\u001b[0m\u001b[1;33m:\u001b[0m \u001b[0mrankFiltered\u001b[0m\u001b[1;33m,\u001b[0m \u001b[1;34m\"Sombra\"\u001b[0m\u001b[1;33m:\u001b[0m \u001b[0msombraHours\u001b[0m\u001b[1;33m}\u001b[0m\u001b[1;33m)\u001b[0m\u001b[1;33m\u001b[0m\u001b[0m\n\u001b[0m\u001b[1;32m      2\u001b[0m \u001b[0mres\u001b[0m \u001b[1;33m=\u001b[0m \u001b[0mols\u001b[0m\u001b[1;33m(\u001b[0m\u001b[0my\u001b[0m \u001b[1;33m=\u001b[0m \u001b[0mdf\u001b[0m\u001b[1;33m[\u001b[0m\u001b[1;34m'Rank'\u001b[0m\u001b[1;33m]\u001b[0m\u001b[1;33m,\u001b[0m \u001b[0mx\u001b[0m \u001b[1;33m=\u001b[0m \u001b[0mdf\u001b[0m\u001b[1;33m[\u001b[0m\u001b[1;33m[\u001b[0m\u001b[1;34m'Sombra'\u001b[0m\u001b[1;33m]\u001b[0m\u001b[1;33m]\u001b[0m\u001b[1;33m)\u001b[0m\u001b[1;33m\u001b[0m\u001b[0m\n\u001b[1;32m      3\u001b[0m \u001b[0mres\u001b[0m\u001b[1;33m\u001b[0m\u001b[0m\n",
      "\u001b[0;31mNameError\u001b[0m: name 'sombraHours' is not defined"
     ]
    }
   ],
   "source": [
    "df = pd.DataFrame({\"Rank\": rankFiltered, \"Sombra\": sombraHours})\n",
    "res = ols(y = df['Rank'], x = df[['Sombra']])\n",
    "res"
   ]
  },
  {
   "cell_type": "markdown",
   "metadata": {},
   "source": [
    "##### Symmetra"
   ]
  },
  {
   "cell_type": "code",
   "execution_count": 29,
   "metadata": {
    "collapsed": false
   },
   "outputs": [
    {
     "data": {
      "text/plain": [
       "\n",
       "-------------------------Summary of Regression Analysis-------------------------\n",
       "\n",
       "Formula: Y ~ <Symmetra> + <intercept>\n",
       "\n",
       "Number of Observations:         1064\n",
       "Number of Degrees of Freedom:   2\n",
       "\n",
       "R-squared:         0.0068\n",
       "Adj R-squared:     0.0059\n",
       "\n",
       "Rmse:           1499.6555\n",
       "\n",
       "F-stat (1, 1062):     7.3167, p-value:     0.0069\n",
       "\n",
       "Degrees of Freedom: model 1, resid 1062\n",
       "\n",
       "-----------------------Summary of Estimated Coefficients------------------------\n",
       "      Variable       Coef    Std Err     t-stat    p-value    CI 2.5%   CI 97.5%\n",
       "--------------------------------------------------------------------------------\n",
       "      Symmetra    18.1636     6.7150       2.70     0.0069     5.0023    31.3250\n",
       "     intercept  2784.7629    49.3278      56.45     0.0000  2688.0805  2881.4454\n",
       "---------------------------------End of Summary---------------------------------"
      ]
     },
     "execution_count": 29,
     "metadata": {},
     "output_type": "execute_result"
    }
   ],
   "source": [
    "df = pd.DataFrame({\"Rank\": rankFiltered, \"Symmetra\": symmetraHours})\n",
    "res = ols(y = df['Rank'], x = df[['Symmetra']])\n",
    "res"
   ]
  },
  {
   "cell_type": "markdown",
   "metadata": {},
   "source": [
    "##### Torbjorn"
   ]
  },
  {
   "cell_type": "code",
   "execution_count": 30,
   "metadata": {
    "collapsed": false
   },
   "outputs": [
    {
     "data": {
      "text/plain": [
       "\n",
       "-------------------------Summary of Regression Analysis-------------------------\n",
       "\n",
       "Formula: Y ~ <Torbjorn> + <intercept>\n",
       "\n",
       "Number of Observations:         1064\n",
       "Number of Degrees of Freedom:   2\n",
       "\n",
       "R-squared:         0.0028\n",
       "Adj R-squared:     0.0018\n",
       "\n",
       "Rmse:           1502.7194\n",
       "\n",
       "F-stat (1, 1062):     2.9607, p-value:     0.0856\n",
       "\n",
       "Degrees of Freedom: model 1, resid 1062\n",
       "\n",
       "-----------------------Summary of Estimated Coefficients------------------------\n",
       "      Variable       Coef    Std Err     t-stat    p-value    CI 2.5%   CI 97.5%\n",
       "--------------------------------------------------------------------------------\n",
       "      Torbjorn    13.5120     7.8527       1.72     0.0856    -1.8794    28.9033\n",
       "     intercept  2786.0281    53.5838      51.99     0.0000  2681.0039  2891.0523\n",
       "---------------------------------End of Summary---------------------------------"
      ]
     },
     "execution_count": 30,
     "metadata": {},
     "output_type": "execute_result"
    }
   ],
   "source": [
    "df = pd.DataFrame({\"Rank\": rankFiltered, \"Torbjorn\": torbjornHours})\n",
    "res = ols(y = df['Rank'], x = df[['Torbjorn']])\n",
    "res"
   ]
  },
  {
   "cell_type": "markdown",
   "metadata": {},
   "source": [
    "##### Tracer"
   ]
  },
  {
   "cell_type": "code",
   "execution_count": 31,
   "metadata": {
    "collapsed": false
   },
   "outputs": [
    {
     "data": {
      "text/plain": [
       "\n",
       "-------------------------Summary of Regression Analysis-------------------------\n",
       "\n",
       "Formula: Y ~ <Tracer> + <intercept>\n",
       "\n",
       "Number of Observations:         1064\n",
       "Number of Degrees of Freedom:   2\n",
       "\n",
       "R-squared:         0.0436\n",
       "Adj R-squared:     0.0427\n",
       "\n",
       "Rmse:           1471.6655\n",
       "\n",
       "F-stat (1, 1062):    48.3788, p-value:     0.0000\n",
       "\n",
       "Degrees of Freedom: model 1, resid 1062\n",
       "\n",
       "-----------------------Summary of Estimated Coefficients------------------------\n",
       "      Variable       Coef    Std Err     t-stat    p-value    CI 2.5%   CI 97.5%\n",
       "--------------------------------------------------------------------------------\n",
       "        Tracer    22.2959     3.2055       6.96     0.0000    16.0131    28.5787\n",
       "     intercept  2639.4012    53.0206      49.78     0.0000  2535.4809  2743.3215\n",
       "---------------------------------End of Summary---------------------------------"
      ]
     },
     "execution_count": 31,
     "metadata": {},
     "output_type": "execute_result"
    }
   ],
   "source": [
    "df = pd.DataFrame({\"Rank\": rankFiltered, \"Tracer\": tracerHours})\n",
    "res = ols(y = df['Rank'], x = df[['Tracer']])\n",
    "res"
   ]
  },
  {
   "cell_type": "markdown",
   "metadata": {},
   "source": [
    "##### Widowmaker"
   ]
  },
  {
   "cell_type": "code",
   "execution_count": 32,
   "metadata": {
    "collapsed": false
   },
   "outputs": [
    {
     "data": {
      "text/plain": [
       "\n",
       "-------------------------Summary of Regression Analysis-------------------------\n",
       "\n",
       "Formula: Y ~ <Widowmaker> + <intercept>\n",
       "\n",
       "Number of Observations:         1064\n",
       "Number of Degrees of Freedom:   2\n",
       "\n",
       "R-squared:         0.0522\n",
       "Adj R-squared:     0.0513\n",
       "\n",
       "Rmse:           1465.0260\n",
       "\n",
       "F-stat (1, 1062):    58.4662, p-value:     0.0000\n",
       "\n",
       "Degrees of Freedom: model 1, resid 1062\n",
       "\n",
       "-----------------------Summary of Estimated Coefficients------------------------\n",
       "      Variable       Coef    Std Err     t-stat    p-value    CI 2.5%   CI 97.5%\n",
       "--------------------------------------------------------------------------------\n",
       "    Widowmaker    24.2866     3.1762       7.65     0.0000    18.0611    30.5120\n",
       "     intercept  2660.3513    50.2763      52.91     0.0000  2561.8097  2758.8929\n",
       "---------------------------------End of Summary---------------------------------"
      ]
     },
     "execution_count": 32,
     "metadata": {},
     "output_type": "execute_result"
    }
   ],
   "source": [
    "df = pd.DataFrame({\"Rank\": rankFiltered, \"Widowmaker\": widowmakerHours})\n",
    "res = ols(y = df['Rank'], x = df[['Widowmaker']])\n",
    "res"
   ]
  },
  {
   "cell_type": "markdown",
   "metadata": {},
   "source": [
    "##### Winston"
   ]
  },
  {
   "cell_type": "code",
   "execution_count": 33,
   "metadata": {
    "collapsed": false
   },
   "outputs": [
    {
     "data": {
      "text/plain": [
       "\n",
       "-------------------------Summary of Regression Analysis-------------------------\n",
       "\n",
       "Formula: Y ~ <Winston> + <intercept>\n",
       "\n",
       "Number of Observations:         1064\n",
       "Number of Degrees of Freedom:   2\n",
       "\n",
       "R-squared:         0.0208\n",
       "Adj R-squared:     0.0199\n",
       "\n",
       "Rmse:           1489.0929\n",
       "\n",
       "F-stat (1, 1062):    22.5405, p-value:     0.0000\n",
       "\n",
       "Degrees of Freedom: model 1, resid 1062\n",
       "\n",
       "-----------------------Summary of Estimated Coefficients------------------------\n",
       "      Variable       Coef    Std Err     t-stat    p-value    CI 2.5%   CI 97.5%\n",
       "--------------------------------------------------------------------------------\n",
       "       Winston    27.8490     5.8658       4.75     0.0000    16.3520    39.3459\n",
       "     intercept  2739.5144    49.7263      55.09     0.0000  2642.0508  2836.9780\n",
       "---------------------------------End of Summary---------------------------------"
      ]
     },
     "execution_count": 33,
     "metadata": {},
     "output_type": "execute_result"
    }
   ],
   "source": [
    "df = pd.DataFrame({\"Rank\": rankFiltered, \"Winston\": winstonHours})\n",
    "res = ols(y = df['Rank'], x = df[['Winston']])\n",
    "res"
   ]
  },
  {
   "cell_type": "markdown",
   "metadata": {},
   "source": [
    "##### Zarya"
   ]
  },
  {
   "cell_type": "code",
   "execution_count": 34,
   "metadata": {
    "collapsed": false
   },
   "outputs": [
    {
     "data": {
      "text/plain": [
       "\n",
       "-------------------------Summary of Regression Analysis-------------------------\n",
       "\n",
       "Formula: Y ~ <Zarya> + <intercept>\n",
       "\n",
       "Number of Observations:         1064\n",
       "Number of Degrees of Freedom:   2\n",
       "\n",
       "R-squared:         0.0584\n",
       "Adj R-squared:     0.0576\n",
       "\n",
       "Rmse:           1460.1769\n",
       "\n",
       "F-stat (1, 1062):    65.9204, p-value:     0.0000\n",
       "\n",
       "Degrees of Freedom: model 1, resid 1062\n",
       "\n",
       "-----------------------Summary of Estimated Coefficients------------------------\n",
       "      Variable       Coef    Std Err     t-stat    p-value    CI 2.5%   CI 97.5%\n",
       "--------------------------------------------------------------------------------\n",
       "         Zarya    34.4953     4.2486       8.12     0.0000    26.1679    42.8226\n",
       "     intercept  2582.2330    54.3938      47.47     0.0000  2475.6211  2688.8449\n",
       "---------------------------------End of Summary---------------------------------"
      ]
     },
     "execution_count": 34,
     "metadata": {},
     "output_type": "execute_result"
    }
   ],
   "source": [
    "df = pd.DataFrame({\"Rank\": rankFiltered, \"Zarya\": zaryaHours})\n",
    "res = ols(y = df['Rank'], x = df[['Zarya']])\n",
    "res"
   ]
  },
  {
   "cell_type": "markdown",
   "metadata": {},
   "source": [
    "##### Zenyatta"
   ]
  },
  {
   "cell_type": "code",
   "execution_count": 35,
   "metadata": {
    "collapsed": false
   },
   "outputs": [
    {
     "data": {
      "text/plain": [
       "\n",
       "-------------------------Summary of Regression Analysis-------------------------\n",
       "\n",
       "Formula: Y ~ <Zenyatta> + <intercept>\n",
       "\n",
       "Number of Observations:         1064\n",
       "Number of Degrees of Freedom:   2\n",
       "\n",
       "R-squared:         0.0213\n",
       "Adj R-squared:     0.0204\n",
       "\n",
       "Rmse:           1488.7173\n",
       "\n",
       "F-stat (1, 1062):    23.0879, p-value:     0.0000\n",
       "\n",
       "Degrees of Freedom: model 1, resid 1062\n",
       "\n",
       "-----------------------Summary of Estimated Coefficients------------------------\n",
       "      Variable       Coef    Std Err     t-stat    p-value    CI 2.5%   CI 97.5%\n",
       "--------------------------------------------------------------------------------\n",
       "      Zenyatta    24.9214     5.1866       4.80     0.0000    14.7557    35.0871\n",
       "     intercept  2700.1813    53.3701      50.59     0.0000  2595.5758  2804.7867\n",
       "---------------------------------End of Summary---------------------------------"
      ]
     },
     "execution_count": 35,
     "metadata": {},
     "output_type": "execute_result"
    }
   ],
   "source": [
    "df = pd.DataFrame({\"Rank\": rankFiltered, \"Zenyatta\": zenyattaHours})\n",
    "res = ols(y = df['Rank'], x = df[['Zenyatta']])\n",
    "res"
   ]
  },
  {
   "cell_type": "markdown",
   "metadata": {},
   "source": [
    "## Graphs"
   ]
  },
  {
   "cell_type": "code",
   "execution_count": 36,
   "metadata": {
    "collapsed": false
   },
   "outputs": [
    {
     "data": {
      "image/png": "[encoded data removed]",
      "text/plain": [
       "<matplotlib.figure.Figure at 0x11382591dd8>"
      ]
     },
     "metadata": {},
     "output_type": "display_data"
    }
   ],
   "source": [
    "rankdata=[x for x in data['rank'] if x <1E100]# is x < 'infinity'\n",
    "ranks = [x for x in rankdata if x > 0]\n",
    "import matplotlib.pyplot as plt\n",
    "%matplotlib inline\n",
    "plt.plot(rankdata)\n",
    "plt.show()"
   ]
  }
 ],
 "metadata": {
  "kernelspec": {
   "display_name": "Python 3",
   "language": "python",
   "name": "python3"
  },
  "language_info": {
   "codemirror_mode": {
    "name": "ipython",
    "version": 3
   },
   "file_extension": ".py",
   "mimetype": "text/x-python",
   "name": "python",
   "nbconvert_exporter": "python",
   "pygments_lexer": "ipython3",
   "version": "3.6.0"
  }
 },
 "nbformat": 4,
 "nbformat_minor": 2
}
